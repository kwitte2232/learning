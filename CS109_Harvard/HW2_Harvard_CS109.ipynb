{
 "cells": [
  {
   "cell_type": "markdown",
   "metadata": {},
   "source": [
    "# Homework 2: More Exploratory Data Analysis\n",
    "## Gene Expression Data and Election Polls \n",
    "\n",
    "Due: Thursday, October 2, 2014 11:59 PM\n",
    "\n",
    "<a href=https://raw.githubusercontent.com/cs109/2014/master/homework/HW2.ipynb download=HW2.ipynb> Download this assignment</a>\n",
    "\n",
    "#### Submission Instructions\n",
    "To submit your homework, create a folder named lastname_firstinitial_hw# and place your IPython notebooks, data files, and any other files in this folder. Your IPython Notebooks should be completely executed with the results visible in the notebook. We should not have to run any code. Compress the folder (please use .zip compression) and submit to the CS109 dropbox in the appropriate folder. If we cannot access your work because these directions are not followed correctly, we will not grade your work.\n",
    "\n",
    "\n",
    "---"
   ]
  },
  {
   "cell_type": "markdown",
   "metadata": {},
   "source": [
    "## Introduction\n",
    "\n",
    "John Tukey wrote in [Exploratory Data Analysis, 1977](http://www.amazon.com/Exploratory-Data-Analysis-Wilder-Tukey/dp/0201076160/ref=pd_bbs_sr_2/103-4466654-5303007?ie=UTF8&s=books&qid=1189739816&sr=8-2): \"The greatest value of a picture is when it forces us to notice what we never expected to see.\" In this assignment we will continue using our exploratory data analysis tools, but apply it to new sets of data: [gene expression](http://en.wikipedia.org/wiki/Gene_expression) and polls from the [2012 Presidental Election](http://en.wikipedia.org/wiki/United_States_presidential_election,_2012) and from the [2014 Senate Midterm Elections](http://en.wikipedia.org/wiki/United_States_Senate_elections,_2014).   \n",
    "\n",
    "**First**: You will use exploratory data analysis and apply the [singular value decomposition](http://en.wikipedia.org/wiki/Singular_value_decomposition) (SVD) to a gene expression data matrix to determine if the the date that the gene expression samples are processed has large effect on the variability seen in the data.  \n",
    "\n",
    "**Second**: You will use the polls from the 2012 Presidential Elections to determine (1) Is there a pollster bias in presidential election polls? and (2) Is the average of polls better than just one poll?\n",
    "\n",
    "**Finally**: You will use the [HuffPost Pollster API](http://elections.huffingtonpost.com/pollster/api) to extract the polls for the current 2014 Senate Midterm Elections and provide a preliminary prediction of the result of each state.\n",
    "\n",
    "#### Data\n",
    "\n",
    "We will use the following data sets: \n",
    "\n",
    "1. A gene expression data set called `exprs_GSE5859.csv` and sample annotation table called `sampleinfo_GSE5859.csv` which are both available on Github in the 2014_data repository: [expression data set](https://github.com/cs109/2014_data/blob/master/exprs_GSE5859.csv) and [sample annotation table](https://github.com/cs109/2014_data/blob/master/sampleinfo_GSE5859.csv).  \n",
    "\n",
    "2. Polls from the [2012 Presidential Election: Barack Obama vs Mitt Romney](http://elections.huffingtonpost.com/pollster/2012-general-election-romney-vs-obama). The polls we will use are from the [Huffington Post Pollster](http://elections.huffingtonpost.com/pollster).  \n",
    "\n",
    "3. Polls from the [2014 Senate Midterm Elections](http://elections.huffingtonpost.com/pollster) from the [HuffPost Pollster API](http://elections.huffingtonpost.com/pollster/api). \n",
    "\n",
    "---"
   ]
  },
  {
   "cell_type": "markdown",
   "metadata": {},
   "source": [
    "## Load Python modules"
   ]
  },
  {
   "cell_type": "code",
   "execution_count": 1,
   "metadata": {
    "collapsed": false
   },
   "outputs": [],
   "source": [
    "# special IPython command to prepare the notebook for matplotlib\n",
    "%matplotlib inline \n",
    "\n",
    "import requests \n",
    "from StringIO import StringIO\n",
    "import numpy as np\n",
    "import pandas as pd # pandas\n",
    "import matplotlib.pyplot as plt # module for plotting \n",
    "import datetime as dt # module for manipulating dates and times\n",
    "import numpy.linalg as lin # module for performing linear algebra operations"
   ]
  },
  {
   "cell_type": "markdown",
   "metadata": {},
   "source": [
    "## Problem 1\n",
    "\n",
    "In this problem we will be using a [gene expression](http://en.wikipedia.org/wiki/Gene_expression) data set obtained from a [microarray](http://en.wikipedia.org/wiki/DNA_microarray) experiement [Read more about the specific experiment here](http://www.ncbi.nlm.nih.gov/geo/query/acc.cgi?acc=GSE5859).  There are two data sets we will use:  \n",
    "\n",
    "1. The gene expression intensities where the rows represent the features on the microarray (e.g. genes) and the columsns represent the different microarray samples.  \n",
    "\n",
    "2. A table that contains the information about each of the samples (columns in the gene expression data set) such as the sex, the age, the treatment status, the date the samples were processed.  Each row represents one sample. "
   ]
  },
  {
   "cell_type": "markdown",
   "metadata": {},
   "source": [
    "#### Problem 1(a) \n",
    "Read in the two files from Github: [exprs_GSE5859.csv](https://github.com/cs109/2014_data/blob/master/exprs_GSE5859.csv) and [sampleinfo_GSE5859.csv](https://github.com/cs109/2014_data/blob/master/sampleinfo_GSE5859.csv) as pandas DataFrames called `exprs` and `sampleinfo`. Use the gene names as the index of the `exprs` DataFrame."
   ]
  },
  {
   "cell_type": "code",
   "execution_count": 78,
   "metadata": {
    "collapsed": false
   },
   "outputs": [
    {
     "data": {
      "text/html": [
       "<div style=\"max-height:1000px;max-width:1500px;overflow:auto;\">\n",
       "<table border=\"1\" class=\"dataframe\">\n",
       "  <thead>\n",
       "    <tr style=\"text-align: right;\">\n",
       "      <th></th>\n",
       "      <th>GSM25581.CEL.gz</th>\n",
       "      <th>GSM25681.CEL.gz</th>\n",
       "      <th>GSM136524.CEL.gz</th>\n",
       "      <th>GSM136707.CEL.gz</th>\n",
       "      <th>GSM25553.CEL.gz</th>\n",
       "      <th>GSM136676.CEL.gz</th>\n",
       "      <th>GSM136711.CEL.gz</th>\n",
       "      <th>GSM136542.CEL.gz</th>\n",
       "      <th>GSM136535.CEL.gz</th>\n",
       "      <th>GSM25399.CEL.gz</th>\n",
       "      <th>...</th>\n",
       "      <th>GSM48650.CEL.gz</th>\n",
       "      <th>GSM25687.CEL.gz</th>\n",
       "      <th>GSM25685.CEL.gz</th>\n",
       "      <th>GSM136549.CEL.gz</th>\n",
       "      <th>GSM25427.CEL.gz</th>\n",
       "      <th>GSM25525.CEL.gz</th>\n",
       "      <th>GSM25349.CEL.gz</th>\n",
       "      <th>GSM136727.CEL.gz</th>\n",
       "      <th>GSM25626.CEL.gz</th>\n",
       "      <th>GSM136725.CEL.gz</th>\n",
       "    </tr>\n",
       "  </thead>\n",
       "  <tbody>\n",
       "    <tr>\n",
       "      <th>1007_s_at</th>\n",
       "      <td> 6.333951</td>\n",
       "      <td> 5.736190</td>\n",
       "      <td> 6.156754</td>\n",
       "      <td> 6.513010</td>\n",
       "      <td> 6.061013</td>\n",
       "      <td> 6.506493</td>\n",
       "      <td> 6.863426</td>\n",
       "      <td> 6.369645</td>\n",
       "      <td> 6.646321</td>\n",
       "      <td> 5.810930</td>\n",
       "      <td>...</td>\n",
       "      <td> 7.082636</td>\n",
       "      <td> 6.315866</td>\n",
       "      <td> 7.010165</td>\n",
       "      <td> 6.460107</td>\n",
       "      <td> 6.122355</td>\n",
       "      <td> 6.330314</td>\n",
       "      <td> 6.627014</td>\n",
       "      <td> 6.133068</td>\n",
       "      <td> 6.419444</td>\n",
       "      <td> 6.488579</td>\n",
       "    </tr>\n",
       "    <tr>\n",
       "      <th>1053_at</th>\n",
       "      <td> 7.255622</td>\n",
       "      <td> 7.399993</td>\n",
       "      <td> 7.491967</td>\n",
       "      <td> 7.006123</td>\n",
       "      <td> 7.250995</td>\n",
       "      <td> 7.082581</td>\n",
       "      <td> 6.842236</td>\n",
       "      <td> 7.048487</td>\n",
       "      <td> 7.042361</td>\n",
       "      <td> 6.666625</td>\n",
       "      <td>...</td>\n",
       "      <td> 6.599718</td>\n",
       "      <td> 7.412731</td>\n",
       "      <td> 7.274429</td>\n",
       "      <td> 6.928642</td>\n",
       "      <td> 7.168782</td>\n",
       "      <td> 7.235648</td>\n",
       "      <td> 6.939184</td>\n",
       "      <td> 7.280781</td>\n",
       "      <td> 6.351776</td>\n",
       "      <td> 7.517410</td>\n",
       "    </tr>\n",
       "    <tr>\n",
       "      <th>117_at</th>\n",
       "      <td> 5.760106</td>\n",
       "      <td> 4.825169</td>\n",
       "      <td> 5.039387</td>\n",
       "      <td> 5.414160</td>\n",
       "      <td> 5.205697</td>\n",
       "      <td> 5.300078</td>\n",
       "      <td> 5.099337</td>\n",
       "      <td> 5.156459</td>\n",
       "      <td> 5.736109</td>\n",
       "      <td> 5.807496</td>\n",
       "      <td>...</td>\n",
       "      <td> 6.231457</td>\n",
       "      <td> 5.240717</td>\n",
       "      <td> 5.275062</td>\n",
       "      <td> 5.759827</td>\n",
       "      <td> 5.409720</td>\n",
       "      <td> 5.491938</td>\n",
       "      <td> 5.113570</td>\n",
       "      <td> 5.401876</td>\n",
       "      <td> 5.537605</td>\n",
       "      <td> 5.247190</td>\n",
       "    </tr>\n",
       "    <tr>\n",
       "      <th>121_at</th>\n",
       "      <td> 6.935451</td>\n",
       "      <td> 7.025210</td>\n",
       "      <td> 7.543667</td>\n",
       "      <td> 7.959781</td>\n",
       "      <td> 7.223323</td>\n",
       "      <td> 8.006816</td>\n",
       "      <td> 8.102504</td>\n",
       "      <td> 7.434617</td>\n",
       "      <td> 7.532321</td>\n",
       "      <td> 7.711461</td>\n",
       "      <td>...</td>\n",
       "      <td> 8.215096</td>\n",
       "      <td> 7.677593</td>\n",
       "      <td> 7.923624</td>\n",
       "      <td> 7.219401</td>\n",
       "      <td> 7.432338</td>\n",
       "      <td> 6.785174</td>\n",
       "      <td> 7.833862</td>\n",
       "      <td> 7.607461</td>\n",
       "      <td> 7.302935</td>\n",
       "      <td> 7.331864</td>\n",
       "    </tr>\n",
       "    <tr>\n",
       "      <th>1255_g_at</th>\n",
       "      <td> 3.597872</td>\n",
       "      <td> 3.108801</td>\n",
       "      <td> 3.128269</td>\n",
       "      <td> 3.364947</td>\n",
       "      <td> 3.125909</td>\n",
       "      <td> 3.186834</td>\n",
       "      <td> 3.311022</td>\n",
       "      <td> 3.092042</td>\n",
       "      <td> 3.167737</td>\n",
       "      <td> 2.969579</td>\n",
       "      <td>...</td>\n",
       "      <td> 3.331424</td>\n",
       "      <td> 3.043856</td>\n",
       "      <td> 3.151900</td>\n",
       "      <td> 3.132253</td>\n",
       "      <td> 3.250600</td>\n",
       "      <td> 2.984125</td>\n",
       "      <td> 3.152269</td>\n",
       "      <td> 3.225123</td>\n",
       "      <td> 3.222731</td>\n",
       "      <td> 3.175846</td>\n",
       "    </tr>\n",
       "  </tbody>\n",
       "</table>\n",
       "<p>5 rows × 208 columns</p>\n",
       "</div>"
      ],
      "text/plain": [
       "           GSM25581.CEL.gz  GSM25681.CEL.gz  GSM136524.CEL.gz  \\\n",
       "1007_s_at         6.333951         5.736190          6.156754   \n",
       "1053_at           7.255622         7.399993          7.491967   \n",
       "117_at            5.760106         4.825169          5.039387   \n",
       "121_at            6.935451         7.025210          7.543667   \n",
       "1255_g_at         3.597872         3.108801          3.128269   \n",
       "\n",
       "           GSM136707.CEL.gz  GSM25553.CEL.gz  GSM136676.CEL.gz  \\\n",
       "1007_s_at          6.513010         6.061013          6.506493   \n",
       "1053_at            7.006123         7.250995          7.082581   \n",
       "117_at             5.414160         5.205697          5.300078   \n",
       "121_at             7.959781         7.223323          8.006816   \n",
       "1255_g_at          3.364947         3.125909          3.186834   \n",
       "\n",
       "           GSM136711.CEL.gz  GSM136542.CEL.gz  GSM136535.CEL.gz  \\\n",
       "1007_s_at          6.863426          6.369645          6.646321   \n",
       "1053_at            6.842236          7.048487          7.042361   \n",
       "117_at             5.099337          5.156459          5.736109   \n",
       "121_at             8.102504          7.434617          7.532321   \n",
       "1255_g_at          3.311022          3.092042          3.167737   \n",
       "\n",
       "           GSM25399.CEL.gz        ...         GSM48650.CEL.gz  \\\n",
       "1007_s_at         5.810930        ...                7.082636   \n",
       "1053_at           6.666625        ...                6.599718   \n",
       "117_at            5.807496        ...                6.231457   \n",
       "121_at            7.711461        ...                8.215096   \n",
       "1255_g_at         2.969579        ...                3.331424   \n",
       "\n",
       "           GSM25687.CEL.gz  GSM25685.CEL.gz  GSM136549.CEL.gz  \\\n",
       "1007_s_at         6.315866         7.010165          6.460107   \n",
       "1053_at           7.412731         7.274429          6.928642   \n",
       "117_at            5.240717         5.275062          5.759827   \n",
       "121_at            7.677593         7.923624          7.219401   \n",
       "1255_g_at         3.043856         3.151900          3.132253   \n",
       "\n",
       "           GSM25427.CEL.gz  GSM25525.CEL.gz  GSM25349.CEL.gz  \\\n",
       "1007_s_at         6.122355         6.330314         6.627014   \n",
       "1053_at           7.168782         7.235648         6.939184   \n",
       "117_at            5.409720         5.491938         5.113570   \n",
       "121_at            7.432338         6.785174         7.833862   \n",
       "1255_g_at         3.250600         2.984125         3.152269   \n",
       "\n",
       "           GSM136727.CEL.gz  GSM25626.CEL.gz  GSM136725.CEL.gz  \n",
       "1007_s_at          6.133068         6.419444          6.488579  \n",
       "1053_at            7.280781         6.351776          7.517410  \n",
       "117_at             5.401876         5.537605          5.247190  \n",
       "121_at             7.607461         7.302935          7.331864  \n",
       "1255_g_at          3.225123         3.222731          3.175846  \n",
       "\n",
       "[5 rows x 208 columns]"
      ]
     },
     "execution_count": 78,
     "metadata": {},
     "output_type": "execute_result"
    }
   ],
   "source": [
    "exprs_url = '/Users/Kristen/CS109_Harvard/expts.csv'\n",
    "sample_url = '/Users/Kristen/CS109_Harvard/sampleinfo.csv'\n",
    "\n",
    "exprs = pd.read_csv(exprs_url)\n",
    "sampleinfo = pd.read_csv(sample_url)\n",
    "\n",
    "#row_names = exprs.index.values #extracts the index as a list\n",
    "#print row_names\n",
    "#row_names[0] = 'Gene Number' #rename the first element \n",
    "\n",
    "gene_names = list(exprs[\"Unnamed: 0\"])\n",
    "#print gene_names\n",
    "\n",
    "exprs.set_index('Unnamed: 0', inplace=True)\n",
    "exprs.index.name = None\n",
    "\n",
    "\n",
    "#new_columns = exprs.columns.values \n",
    "#new_columns[0] = 'Gene Name' \n",
    "#exprs.columns = new_columns\n",
    "#exprs.reindex(index=gene_names) #rename the indices of the data frame\n",
    "\n",
    "exprs.head()\n",
    "#sampleinfo.head()\n"
   ]
  },
  {
   "cell_type": "markdown",
   "metadata": {},
   "source": [
    "Make sure the order of the columns in the gene expression DataFrame match the order of file names in the sample annotation DataFrame. If the order of the columns the `exprs` DataFrame do not match the order of the file names in the `sampleinfo` DataFrame, reorder the columns in the `exprs` DataFrame. \n",
    "\n",
    "**Note**: The column names of the gene expression DataFrame are the filenames of the orignal files from which these data were obtained.  \n",
    "\n",
    "**Hint**: The method `list.index(x)` [[read here](https://docs.python.org/2/tutorial/datastructures.html)] can be used to return the index in the list of the first item whose value is x. It is an error if there is no such item. To check if the order of the columns in `exprs` matches the order of the rows in `sampleinfo`, you can check using the method `.all()` on a Boolean or list of Booleans: \n",
    "\n",
    "Example code: `(exprs.columns == sampleinfo.filename).all()`"
   ]
  },
  {
   "cell_type": "code",
   "execution_count": 98,
   "metadata": {
    "collapsed": false
   },
   "outputs": [
    {
     "data": {
      "text/html": [
       "<div style=\"max-height:1000px;max-width:1500px;overflow:auto;\">\n",
       "<table border=\"1\" class=\"dataframe\">\n",
       "  <thead>\n",
       "    <tr style=\"text-align: right;\">\n",
       "      <th></th>\n",
       "      <th>GSM25349.CEL.gz</th>\n",
       "      <th>GSM25350.CEL.gz</th>\n",
       "      <th>GSM25356.CEL.gz</th>\n",
       "      <th>GSM25357.CEL.gz</th>\n",
       "      <th>GSM25358.CEL.gz</th>\n",
       "      <th>GSM25359.CEL.gz</th>\n",
       "      <th>GSM25360.CEL.gz</th>\n",
       "      <th>GSM25361.CEL.gz</th>\n",
       "      <th>GSM25377.CEL.gz</th>\n",
       "      <th>GSM25378.CEL.gz</th>\n",
       "      <th>...</th>\n",
       "      <th>GSM136719.CEL.gz</th>\n",
       "      <th>GSM136720.CEL.gz</th>\n",
       "      <th>GSM136721.CEL.gz</th>\n",
       "      <th>GSM136722.CEL.gz</th>\n",
       "      <th>GSM136723.CEL.gz</th>\n",
       "      <th>GSM136724.CEL.gz</th>\n",
       "      <th>GSM136725.CEL.gz</th>\n",
       "      <th>GSM136726.CEL.gz</th>\n",
       "      <th>GSM136727.CEL.gz</th>\n",
       "      <th>GSM136729.CEL.gz</th>\n",
       "    </tr>\n",
       "  </thead>\n",
       "  <tbody>\n",
       "    <tr>\n",
       "      <th>1007_s_at</th>\n",
       "      <td> 6.627014</td>\n",
       "      <td> 6.249807</td>\n",
       "      <td> 5.934128</td>\n",
       "      <td> 6.145268</td>\n",
       "      <td> 6.091270</td>\n",
       "      <td> 6.041186</td>\n",
       "      <td> 6.050375</td>\n",
       "      <td> 6.063847</td>\n",
       "      <td> 6.226106</td>\n",
       "      <td> 6.358282</td>\n",
       "      <td>...</td>\n",
       "      <td> 6.466445</td>\n",
       "      <td> 6.533592</td>\n",
       "      <td> 6.631492</td>\n",
       "      <td> 6.513362</td>\n",
       "      <td> 6.440706</td>\n",
       "      <td> 6.704324</td>\n",
       "      <td> 6.488579</td>\n",
       "      <td> 6.809481</td>\n",
       "      <td> 6.133068</td>\n",
       "      <td> 6.155473</td>\n",
       "    </tr>\n",
       "    <tr>\n",
       "      <th>1053_at</th>\n",
       "      <td> 6.939184</td>\n",
       "      <td> 6.818038</td>\n",
       "      <td> 7.047962</td>\n",
       "      <td> 7.422477</td>\n",
       "      <td> 7.272361</td>\n",
       "      <td> 7.128216</td>\n",
       "      <td> 6.750719</td>\n",
       "      <td> 6.836287</td>\n",
       "      <td> 6.738022</td>\n",
       "      <td> 7.367895</td>\n",
       "      <td>...</td>\n",
       "      <td> 7.032885</td>\n",
       "      <td> 7.156344</td>\n",
       "      <td> 7.018025</td>\n",
       "      <td> 6.973322</td>\n",
       "      <td> 6.884738</td>\n",
       "      <td> 7.120898</td>\n",
       "      <td> 7.517410</td>\n",
       "      <td> 7.200596</td>\n",
       "      <td> 7.280781</td>\n",
       "      <td> 7.111583</td>\n",
       "    </tr>\n",
       "    <tr>\n",
       "      <th>117_at</th>\n",
       "      <td> 5.113570</td>\n",
       "      <td> 5.074096</td>\n",
       "      <td> 5.371201</td>\n",
       "      <td> 5.266550</td>\n",
       "      <td> 5.342047</td>\n",
       "      <td> 5.063876</td>\n",
       "      <td> 5.315898</td>\n",
       "      <td> 5.483652</td>\n",
       "      <td> 6.689444</td>\n",
       "      <td> 6.482782</td>\n",
       "      <td>...</td>\n",
       "      <td> 5.661112</td>\n",
       "      <td> 5.127260</td>\n",
       "      <td> 5.151840</td>\n",
       "      <td> 5.505602</td>\n",
       "      <td> 5.687689</td>\n",
       "      <td> 4.942651</td>\n",
       "      <td> 5.247190</td>\n",
       "      <td> 5.237239</td>\n",
       "      <td> 5.401876</td>\n",
       "      <td> 5.302628</td>\n",
       "    </tr>\n",
       "    <tr>\n",
       "      <th>121_at</th>\n",
       "      <td> 7.833862</td>\n",
       "      <td> 7.780682</td>\n",
       "      <td> 7.458197</td>\n",
       "      <td> 7.655948</td>\n",
       "      <td> 7.546555</td>\n",
       "      <td> 7.072670</td>\n",
       "      <td> 7.092984</td>\n",
       "      <td> 6.954225</td>\n",
       "      <td> 7.489785</td>\n",
       "      <td> 7.388539</td>\n",
       "      <td>...</td>\n",
       "      <td> 7.769734</td>\n",
       "      <td> 7.815864</td>\n",
       "      <td> 7.683279</td>\n",
       "      <td> 7.883231</td>\n",
       "      <td> 7.913621</td>\n",
       "      <td> 7.834196</td>\n",
       "      <td> 7.331864</td>\n",
       "      <td> 7.357102</td>\n",
       "      <td> 7.607461</td>\n",
       "      <td> 7.456453</td>\n",
       "    </tr>\n",
       "    <tr>\n",
       "      <th>1255_g_at</th>\n",
       "      <td> 3.152269</td>\n",
       "      <td> 3.111747</td>\n",
       "      <td> 3.018932</td>\n",
       "      <td> 3.154545</td>\n",
       "      <td> 3.107954</td>\n",
       "      <td> 3.224284</td>\n",
       "      <td> 3.114241</td>\n",
       "      <td> 3.044975</td>\n",
       "      <td> 3.304038</td>\n",
       "      <td> 2.887919</td>\n",
       "      <td>...</td>\n",
       "      <td> 3.257484</td>\n",
       "      <td> 3.339234</td>\n",
       "      <td> 3.298384</td>\n",
       "      <td> 3.150654</td>\n",
       "      <td> 3.344501</td>\n",
       "      <td> 3.230285</td>\n",
       "      <td> 3.175846</td>\n",
       "      <td> 3.105092</td>\n",
       "      <td> 3.225123</td>\n",
       "      <td> 3.090149</td>\n",
       "    </tr>\n",
       "  </tbody>\n",
       "</table>\n",
       "<p>5 rows × 208 columns</p>\n",
       "</div>"
      ],
      "text/plain": [
       "           GSM25349.CEL.gz  GSM25350.CEL.gz  GSM25356.CEL.gz  GSM25357.CEL.gz  \\\n",
       "1007_s_at         6.627014         6.249807         5.934128         6.145268   \n",
       "1053_at           6.939184         6.818038         7.047962         7.422477   \n",
       "117_at            5.113570         5.074096         5.371201         5.266550   \n",
       "121_at            7.833862         7.780682         7.458197         7.655948   \n",
       "1255_g_at         3.152269         3.111747         3.018932         3.154545   \n",
       "\n",
       "           GSM25358.CEL.gz  GSM25359.CEL.gz  GSM25360.CEL.gz  GSM25361.CEL.gz  \\\n",
       "1007_s_at         6.091270         6.041186         6.050375         6.063847   \n",
       "1053_at           7.272361         7.128216         6.750719         6.836287   \n",
       "117_at            5.342047         5.063876         5.315898         5.483652   \n",
       "121_at            7.546555         7.072670         7.092984         6.954225   \n",
       "1255_g_at         3.107954         3.224284         3.114241         3.044975   \n",
       "\n",
       "           GSM25377.CEL.gz  GSM25378.CEL.gz        ...         \\\n",
       "1007_s_at         6.226106         6.358282        ...          \n",
       "1053_at           6.738022         7.367895        ...          \n",
       "117_at            6.689444         6.482782        ...          \n",
       "121_at            7.489785         7.388539        ...          \n",
       "1255_g_at         3.304038         2.887919        ...          \n",
       "\n",
       "           GSM136719.CEL.gz  GSM136720.CEL.gz  GSM136721.CEL.gz  \\\n",
       "1007_s_at          6.466445          6.533592          6.631492   \n",
       "1053_at            7.032885          7.156344          7.018025   \n",
       "117_at             5.661112          5.127260          5.151840   \n",
       "121_at             7.769734          7.815864          7.683279   \n",
       "1255_g_at          3.257484          3.339234          3.298384   \n",
       "\n",
       "           GSM136722.CEL.gz  GSM136723.CEL.gz  GSM136724.CEL.gz  \\\n",
       "1007_s_at          6.513362          6.440706          6.704324   \n",
       "1053_at            6.973322          6.884738          7.120898   \n",
       "117_at             5.505602          5.687689          4.942651   \n",
       "121_at             7.883231          7.913621          7.834196   \n",
       "1255_g_at          3.150654          3.344501          3.230285   \n",
       "\n",
       "           GSM136725.CEL.gz  GSM136726.CEL.gz  GSM136727.CEL.gz  \\\n",
       "1007_s_at          6.488579          6.809481          6.133068   \n",
       "1053_at            7.517410          7.200596          7.280781   \n",
       "117_at             5.247190          5.237239          5.401876   \n",
       "121_at             7.331864          7.357102          7.607461   \n",
       "1255_g_at          3.175846          3.105092          3.225123   \n",
       "\n",
       "           GSM136729.CEL.gz  \n",
       "1007_s_at          6.155473  \n",
       "1053_at            7.111583  \n",
       "117_at             5.302628  \n",
       "121_at             7.456453  \n",
       "1255_g_at          3.090149  \n",
       "\n",
       "[5 rows x 208 columns]"
      ]
     },
     "execution_count": 98,
     "metadata": {},
     "output_type": "execute_result"
    }
   ],
   "source": [
    "def reorder_df_columns(df, ref_df, ref_column):\n",
    "    '''\n",
    "    Reorders the columns in a data frame using data from a second data frame as a reference\n",
    "    \n",
    "    Inputs:\n",
    "        df, dataframe, the dataframe to reorder\n",
    "        ref_df, the dataframe that contains the order to be compared\n",
    "        ref_column, the column in the ref_df that contains the order\n",
    "        \n",
    "    Returns:\n",
    "        df, dataframe, edited in place\n",
    "    '''\n",
    "    if not (df.columns == ref_df[ref_column]).all():\n",
    "        column_order = list(ref_df[ref_column]) #gives a list of the filenames\n",
    "        column_order.reverse()\n",
    "        for column in column_order:\n",
    "            data = df[column]\n",
    "            df.drop(labels=[column], axis=1, inplace=True)\n",
    "            df.insert(0, column, data)\n",
    "    \n",
    "    return df\n",
    "\n",
    "#(exprs.columns == sampleinfo.filename).all()\n",
    "\n",
    "exprs = reorder_df_columns(exprs, sampleinfo, 'filename')\n",
    "exprs.head()"
   ]
  },
  {
   "cell_type": "markdown",
   "metadata": {},
   "source": [
    "Show the head of the two tables: `exprs` and `sampleinfo`. "
   ]
  },
  {
   "cell_type": "code",
   "execution_count": 90,
   "metadata": {
    "collapsed": false
   },
   "outputs": [
    {
     "data": {
      "text/html": [
       "<div style=\"max-height:1000px;max-width:1500px;overflow:auto;\">\n",
       "<table border=\"1\" class=\"dataframe\">\n",
       "  <thead>\n",
       "    <tr style=\"text-align: right;\">\n",
       "      <th></th>\n",
       "      <th>ethnicity</th>\n",
       "      <th>date</th>\n",
       "      <th>filename</th>\n",
       "      <th>sex</th>\n",
       "    </tr>\n",
       "  </thead>\n",
       "  <tbody>\n",
       "    <tr>\n",
       "      <th>0</th>\n",
       "      <td> CEU</td>\n",
       "      <td> 2003-02-04</td>\n",
       "      <td> GSM25349.CEL.gz</td>\n",
       "      <td> M</td>\n",
       "    </tr>\n",
       "    <tr>\n",
       "      <th>1</th>\n",
       "      <td> CEU</td>\n",
       "      <td> 2003-02-04</td>\n",
       "      <td> GSM25350.CEL.gz</td>\n",
       "      <td> M</td>\n",
       "    </tr>\n",
       "    <tr>\n",
       "      <th>2</th>\n",
       "      <td> CEU</td>\n",
       "      <td> 2002-12-17</td>\n",
       "      <td> GSM25356.CEL.gz</td>\n",
       "      <td> M</td>\n",
       "    </tr>\n",
       "    <tr>\n",
       "      <th>3</th>\n",
       "      <td> CEU</td>\n",
       "      <td> 2003-01-30</td>\n",
       "      <td> GSM25357.CEL.gz</td>\n",
       "      <td> M</td>\n",
       "    </tr>\n",
       "    <tr>\n",
       "      <th>4</th>\n",
       "      <td> CEU</td>\n",
       "      <td> 2003-01-03</td>\n",
       "      <td> GSM25358.CEL.gz</td>\n",
       "      <td> M</td>\n",
       "    </tr>\n",
       "  </tbody>\n",
       "</table>\n",
       "</div>"
      ],
      "text/plain": [
       "  ethnicity        date         filename sex\n",
       "0       CEU  2003-02-04  GSM25349.CEL.gz   M\n",
       "1       CEU  2003-02-04  GSM25350.CEL.gz   M\n",
       "2       CEU  2002-12-17  GSM25356.CEL.gz   M\n",
       "3       CEU  2003-01-30  GSM25357.CEL.gz   M\n",
       "4       CEU  2003-01-03  GSM25358.CEL.gz   M"
      ]
     },
     "execution_count": 90,
     "metadata": {},
     "output_type": "execute_result"
    }
   ],
   "source": [
    "sampleinfo.head()"
   ]
  },
  {
   "cell_type": "markdown",
   "metadata": {},
   "source": [
    "#### Problem 1(b)\n",
    "\n",
    "Extract the year and month as integers from the `sampleinfo` table. \n",
    "\n",
    "**Hint**: To convert a Series or a column of a pandas DataFrame that contains a date-like object, you can use the `to_datetime` function [[read here](http://pandas.pydata.org/pandas-docs/stable/timeseries.html)].  This will create a `DatetimeIndex` which can be used to extract the month and year for each row in the DataFrame. "
   ]
  },
  {
   "cell_type": "code",
   "execution_count": 131,
   "metadata": {
    "collapsed": false
   },
   "outputs": [
    {
     "data": {
      "text/html": [
       "<div style=\"max-height:1000px;max-width:1500px;overflow:auto;\">\n",
       "<table border=\"1\" class=\"dataframe\">\n",
       "  <thead>\n",
       "    <tr style=\"text-align: right;\">\n",
       "      <th></th>\n",
       "      <th>date</th>\n",
       "      <th>year</th>\n",
       "      <th>month</th>\n",
       "      <th>day</th>\n",
       "    </tr>\n",
       "  </thead>\n",
       "  <tbody>\n",
       "    <tr>\n",
       "      <th>GSM25349.CEL.gz</th>\n",
       "      <td>2003-02-04</td>\n",
       "      <td> 2003</td>\n",
       "      <td>  2</td>\n",
       "      <td>  4</td>\n",
       "    </tr>\n",
       "    <tr>\n",
       "      <th>GSM25350.CEL.gz</th>\n",
       "      <td>2003-02-04</td>\n",
       "      <td> 2003</td>\n",
       "      <td>  2</td>\n",
       "      <td>  4</td>\n",
       "    </tr>\n",
       "    <tr>\n",
       "      <th>GSM25356.CEL.gz</th>\n",
       "      <td>2002-12-17</td>\n",
       "      <td> 2002</td>\n",
       "      <td> 12</td>\n",
       "      <td> 17</td>\n",
       "    </tr>\n",
       "    <tr>\n",
       "      <th>GSM25357.CEL.gz</th>\n",
       "      <td>2003-01-30</td>\n",
       "      <td> 2003</td>\n",
       "      <td>  1</td>\n",
       "      <td> 30</td>\n",
       "    </tr>\n",
       "    <tr>\n",
       "      <th>GSM25358.CEL.gz</th>\n",
       "      <td>2003-01-03</td>\n",
       "      <td> 2003</td>\n",
       "      <td>  1</td>\n",
       "      <td>  3</td>\n",
       "    </tr>\n",
       "  </tbody>\n",
       "</table>\n",
       "</div>"
      ],
      "text/plain": [
       "                      date  year  month  day\n",
       "GSM25349.CEL.gz 2003-02-04  2003      2    4\n",
       "GSM25350.CEL.gz 2003-02-04  2003      2    4\n",
       "GSM25356.CEL.gz 2002-12-17  2002     12   17\n",
       "GSM25357.CEL.gz 2003-01-30  2003      1   30\n",
       "GSM25358.CEL.gz 2003-01-03  2003      1    3"
      ]
     },
     "execution_count": 131,
     "metadata": {},
     "output_type": "execute_result"
    }
   ],
   "source": [
    "def extract_time(df, col_name):\n",
    "    '''\n",
    "    Extracts the year and month from a given dataframe wiht a date column\n",
    "    \n",
    "    Inputs:\n",
    "        df, dataframe, contains the date information\n",
    "        col_name, name of the column with the date information\n",
    "        \n",
    "    Returns:\n",
    "        result, dataframe, consisting of the date, the year, the month\n",
    "    '''\n",
    "    \n",
    "    time = df[col_name]\n",
    "    new_time = pd.to_datetime(time)\n",
    "    year = new_time.dt.year\n",
    "    month = new_time.dt.month\n",
    "    day = new_time.dt.day\n",
    "    series = [new_time, year, month, day]\n",
    "    result = pd.concat(series, axis = 1)\n",
    "    result.columns = ['date', 'year', 'month', 'day']\n",
    "\n",
    "    return result\n",
    "\n",
    "times = extract_time(sampleinfo, 'date')\n",
    "times.set_index(sampleinfo.filename, inplace=True)\n",
    "times.index.name = None\n",
    "\n",
    "times.head()"
   ]
  },
  {
   "cell_type": "markdown",
   "metadata": {},
   "source": [
    "#### Problem 1(c)\n",
    "\n",
    "Convert the dates in the `date` column from the `sampleinfo` table into days since October 31, 2002. Add a column to the `sampleinfo` DataFrame titled `elapsedInDays` containing the days since October 31, 2002.  Show the head of the `sampleinfo` DataFrame which includes the new column.  \n",
    "\n",
    "**Hint**: Use the `datetime` module to create a new `datetime` object for the specific date October 31, 2002. Then, subtract the October 31, 2002 date from each date from the `date` column in the `sampleinfo` DataFrame. "
   ]
  },
  {
   "cell_type": "code",
   "execution_count": 149,
   "metadata": {
    "collapsed": false
   },
   "outputs": [
    {
     "data": {
      "text/html": [
       "<div style=\"max-height:1000px;max-width:1500px;overflow:auto;\">\n",
       "<table border=\"1\" class=\"dataframe\">\n",
       "  <thead>\n",
       "    <tr style=\"text-align: right;\">\n",
       "      <th></th>\n",
       "      <th>ethnicity</th>\n",
       "      <th>date</th>\n",
       "      <th>filename</th>\n",
       "      <th>sex</th>\n",
       "      <th>elapsedInDays</th>\n",
       "    </tr>\n",
       "  </thead>\n",
       "  <tbody>\n",
       "    <tr>\n",
       "      <th>0</th>\n",
       "      <td> CEU</td>\n",
       "      <td> 2003-02-04</td>\n",
       "      <td> GSM25349.CEL.gz</td>\n",
       "      <td> M</td>\n",
       "      <td>96 days</td>\n",
       "    </tr>\n",
       "    <tr>\n",
       "      <th>1</th>\n",
       "      <td> CEU</td>\n",
       "      <td> 2003-02-04</td>\n",
       "      <td> GSM25350.CEL.gz</td>\n",
       "      <td> M</td>\n",
       "      <td>96 days</td>\n",
       "    </tr>\n",
       "    <tr>\n",
       "      <th>2</th>\n",
       "      <td> CEU</td>\n",
       "      <td> 2002-12-17</td>\n",
       "      <td> GSM25356.CEL.gz</td>\n",
       "      <td> M</td>\n",
       "      <td>47 days</td>\n",
       "    </tr>\n",
       "    <tr>\n",
       "      <th>3</th>\n",
       "      <td> CEU</td>\n",
       "      <td> 2003-01-30</td>\n",
       "      <td> GSM25357.CEL.gz</td>\n",
       "      <td> M</td>\n",
       "      <td>91 days</td>\n",
       "    </tr>\n",
       "    <tr>\n",
       "      <th>4</th>\n",
       "      <td> CEU</td>\n",
       "      <td> 2003-01-03</td>\n",
       "      <td> GSM25358.CEL.gz</td>\n",
       "      <td> M</td>\n",
       "      <td>64 days</td>\n",
       "    </tr>\n",
       "  </tbody>\n",
       "</table>\n",
       "</div>"
      ],
      "text/plain": [
       "  ethnicity        date         filename sex  elapsedInDays\n",
       "0       CEU  2003-02-04  GSM25349.CEL.gz   M        96 days\n",
       "1       CEU  2003-02-04  GSM25350.CEL.gz   M        96 days\n",
       "2       CEU  2002-12-17  GSM25356.CEL.gz   M        47 days\n",
       "3       CEU  2003-01-30  GSM25357.CEL.gz   M        91 days\n",
       "4       CEU  2003-01-03  GSM25358.CEL.gz   M        64 days"
      ]
     },
     "execution_count": 149,
     "metadata": {},
     "output_type": "execute_result"
    }
   ],
   "source": [
    "import datetime\n",
    "\n",
    "start = datetime.date(2002, 10, 31)\n",
    "\n",
    "def convert_date(df):\n",
    "    '''\n",
    "    Takes the df generated from extract_time, builds a list of lists with the inner lists as the year, month, day\n",
    "        for each filename, then generates a new list that contains each element as a datetime.date object\n",
    "    \n",
    "    Inputs: \n",
    "        df, dataframe, dataframe generate from extract_time\n",
    "        \n",
    "    Returns:\n",
    "        converted_dates, list of datetime.date objects for each file\n",
    "    '''\n",
    "    row_names = df.index.values\n",
    "    all_dates = []\n",
    "    \n",
    "    for name in row_names:\n",
    "        curr_date = []\n",
    "        year = df.loc[name, 'year']\n",
    "        month = df.loc[name, 'month']\n",
    "        day = df.loc[name, 'day']\n",
    "        curr_date = [year, month, day]\n",
    "        all_dates.append(curr_date)\n",
    "\n",
    "    converted_dates = list(map(create_date_objs, all_dates)) \n",
    "    \n",
    "    return converted_dates\n",
    "    \n",
    "def create_date_objs(x): \n",
    "    '''\n",
    "    Converts a list [year, month, day] to a datatime.date obj\n",
    "    \n",
    "    Inputs:\n",
    "        x, list, [year, month, day]\n",
    "        \n",
    "    Returns:\n",
    "        datetime.date object\n",
    "    '''\n",
    "    return datetime.date(x[0], x[1], x[2])  \n",
    "\n",
    "def find_timedelta(dates, start, df, new_column_name):\n",
    "    '''\n",
    "    Adds a new column to a df to account for elapsed days relative to a start time\n",
    "    \n",
    "    Inputs:\n",
    "        dates, list of datetime.date objects to subtract from start\n",
    "        start, datetime.date obj, start day\n",
    "        df, dataframe, dateframe to add the new column to\n",
    "        new_column_name, string, name of the new column\n",
    "    '''\n",
    "    days_diff = [(date - start) for date in dates]\n",
    "    df[new_column_name] = days_diff\n",
    "    \n",
    "    return df\n",
    "\n",
    "\n",
    "converted_dates = convert_date(times)\n",
    "sampleinfo = find_timedelta(converted_dates, start, sampleinfo, 'elapsedInDays')\n",
    "    \n",
    "sampleinfo.head()"
   ]
  },
  {
   "cell_type": "markdown",
   "metadata": {},
   "source": [
    "#### Problem 1(d)\n",
    "\n",
    "Use exploratory analysis and the singular value decomposition (SVD) of the gene expression data matrix to determine if the date the samples were processed has large effect on the variability seen in the data or if it is just ethnicity (which is confounded with date). \n",
    "\n",
    "**Hint**: See the end of the [lecture from 9/23/2014 for help with SVD](http://nbviewer.ipython.org/github/cs109/2014/blob/master/lectures/lecture07/data_scraping_transcript.ipynb). \n",
    "\n",
    "First subset the the `sampleinfo` DataFrame to include only the CEU ethnicity.  Call this new subsetted DataFrame `sampleinfoCEU`.  Show the head of `sampleinfoCEU` DataFrame. "
   ]
  },
  {
   "cell_type": "code",
   "execution_count": 161,
   "metadata": {
    "collapsed": false
   },
   "outputs": [
    {
     "data": {
      "text/html": [
       "<div style=\"max-height:1000px;max-width:1500px;overflow:auto;\">\n",
       "<table border=\"1\" class=\"dataframe\">\n",
       "  <thead>\n",
       "    <tr style=\"text-align: right;\">\n",
       "      <th></th>\n",
       "      <th>ethnicity</th>\n",
       "      <th>date</th>\n",
       "      <th>filename</th>\n",
       "      <th>sex</th>\n",
       "      <th>elapsedInDays</th>\n",
       "    </tr>\n",
       "  </thead>\n",
       "  <tbody>\n",
       "    <tr>\n",
       "      <th>0</th>\n",
       "      <td> CEU</td>\n",
       "      <td> 2003-02-04</td>\n",
       "      <td> GSM25349.CEL.gz</td>\n",
       "      <td> M</td>\n",
       "      <td>96 days</td>\n",
       "    </tr>\n",
       "    <tr>\n",
       "      <th>1</th>\n",
       "      <td> CEU</td>\n",
       "      <td> 2003-02-04</td>\n",
       "      <td> GSM25350.CEL.gz</td>\n",
       "      <td> M</td>\n",
       "      <td>96 days</td>\n",
       "    </tr>\n",
       "    <tr>\n",
       "      <th>2</th>\n",
       "      <td> CEU</td>\n",
       "      <td> 2002-12-17</td>\n",
       "      <td> GSM25356.CEL.gz</td>\n",
       "      <td> M</td>\n",
       "      <td>47 days</td>\n",
       "    </tr>\n",
       "    <tr>\n",
       "      <th>3</th>\n",
       "      <td> CEU</td>\n",
       "      <td> 2003-01-30</td>\n",
       "      <td> GSM25357.CEL.gz</td>\n",
       "      <td> M</td>\n",
       "      <td>91 days</td>\n",
       "    </tr>\n",
       "    <tr>\n",
       "      <th>4</th>\n",
       "      <td> CEU</td>\n",
       "      <td> 2003-01-03</td>\n",
       "      <td> GSM25358.CEL.gz</td>\n",
       "      <td> M</td>\n",
       "      <td>64 days</td>\n",
       "    </tr>\n",
       "  </tbody>\n",
       "</table>\n",
       "</div>"
      ],
      "text/plain": [
       "  ethnicity        date         filename sex  elapsedInDays\n",
       "0       CEU  2003-02-04  GSM25349.CEL.gz   M        96 days\n",
       "1       CEU  2003-02-04  GSM25350.CEL.gz   M        96 days\n",
       "2       CEU  2002-12-17  GSM25356.CEL.gz   M        47 days\n",
       "3       CEU  2003-01-30  GSM25357.CEL.gz   M        91 days\n",
       "4       CEU  2003-01-03  GSM25358.CEL.gz   M        64 days"
      ]
     },
     "execution_count": 161,
     "metadata": {},
     "output_type": "execute_result"
    }
   ],
   "source": [
    "sampleinfoCEU = sampleinfo.loc[sampleinfo.ethnicity == 'CEU']\n",
    "sampleinfoCEU.head()"
   ]
  },
  {
   "cell_type": "markdown",
   "metadata": {},
   "source": [
    "Next, subset the `exprs` DataFrame to only include the samples with the CEU ethnicity. Name this new subsetted DataFrame `exprsCEU`. Show the head of the `exprsCEU` DataFrame. "
   ]
  },
  {
   "cell_type": "code",
   "execution_count": 160,
   "metadata": {
    "collapsed": false
   },
   "outputs": [
    {
     "data": {
      "text/html": [
       "<div style=\"max-height:1000px;max-width:1500px;overflow:auto;\">\n",
       "<table border=\"1\" class=\"dataframe\">\n",
       "  <thead>\n",
       "    <tr style=\"text-align: right;\">\n",
       "      <th></th>\n",
       "      <th>GSM25349.CEL.gz</th>\n",
       "      <th>GSM25350.CEL.gz</th>\n",
       "      <th>GSM25356.CEL.gz</th>\n",
       "      <th>GSM25357.CEL.gz</th>\n",
       "      <th>GSM25358.CEL.gz</th>\n",
       "      <th>GSM25359.CEL.gz</th>\n",
       "      <th>GSM25360.CEL.gz</th>\n",
       "      <th>GSM25361.CEL.gz</th>\n",
       "      <th>GSM25377.CEL.gz</th>\n",
       "      <th>GSM25378.CEL.gz</th>\n",
       "      <th>...</th>\n",
       "      <th>GSM48658.CEL.gz</th>\n",
       "      <th>GSM48660.CEL.gz</th>\n",
       "      <th>GSM48661.CEL.gz</th>\n",
       "      <th>GSM48662.CEL.gz</th>\n",
       "      <th>GSM48663.CEL.gz</th>\n",
       "      <th>GSM48664.CEL.gz</th>\n",
       "      <th>GSM48665.CEL.gz</th>\n",
       "      <th>GSM136725.CEL.gz</th>\n",
       "      <th>GSM136726.CEL.gz</th>\n",
       "      <th>GSM136727.CEL.gz</th>\n",
       "    </tr>\n",
       "  </thead>\n",
       "  <tbody>\n",
       "    <tr>\n",
       "      <th>1007_s_at</th>\n",
       "      <td> 6.627014</td>\n",
       "      <td> 6.249807</td>\n",
       "      <td> 5.934128</td>\n",
       "      <td> 6.145268</td>\n",
       "      <td> 6.091270</td>\n",
       "      <td> 6.041186</td>\n",
       "      <td> 6.050375</td>\n",
       "      <td> 6.063847</td>\n",
       "      <td> 6.226106</td>\n",
       "      <td> 6.358282</td>\n",
       "      <td>...</td>\n",
       "      <td> 6.501510</td>\n",
       "      <td> 6.558100</td>\n",
       "      <td> 6.618286</td>\n",
       "      <td> 6.869995</td>\n",
       "      <td> 5.981000</td>\n",
       "      <td> 6.403285</td>\n",
       "      <td> 6.248702</td>\n",
       "      <td> 6.488579</td>\n",
       "      <td> 6.809481</td>\n",
       "      <td> 6.133068</td>\n",
       "    </tr>\n",
       "    <tr>\n",
       "      <th>1053_at</th>\n",
       "      <td> 6.939184</td>\n",
       "      <td> 6.818038</td>\n",
       "      <td> 7.047962</td>\n",
       "      <td> 7.422477</td>\n",
       "      <td> 7.272361</td>\n",
       "      <td> 7.128216</td>\n",
       "      <td> 6.750719</td>\n",
       "      <td> 6.836287</td>\n",
       "      <td> 6.738022</td>\n",
       "      <td> 7.367895</td>\n",
       "      <td>...</td>\n",
       "      <td> 7.066686</td>\n",
       "      <td> 7.386702</td>\n",
       "      <td> 6.407958</td>\n",
       "      <td> 7.089180</td>\n",
       "      <td> 7.120923</td>\n",
       "      <td> 7.018998</td>\n",
       "      <td> 7.155419</td>\n",
       "      <td> 7.517410</td>\n",
       "      <td> 7.200596</td>\n",
       "      <td> 7.280781</td>\n",
       "    </tr>\n",
       "    <tr>\n",
       "      <th>117_at</th>\n",
       "      <td> 5.113570</td>\n",
       "      <td> 5.074096</td>\n",
       "      <td> 5.371201</td>\n",
       "      <td> 5.266550</td>\n",
       "      <td> 5.342047</td>\n",
       "      <td> 5.063876</td>\n",
       "      <td> 5.315898</td>\n",
       "      <td> 5.483652</td>\n",
       "      <td> 6.689444</td>\n",
       "      <td> 6.482782</td>\n",
       "      <td>...</td>\n",
       "      <td> 5.600514</td>\n",
       "      <td> 5.232676</td>\n",
       "      <td> 5.630720</td>\n",
       "      <td> 4.944748</td>\n",
       "      <td> 5.275577</td>\n",
       "      <td> 5.770358</td>\n",
       "      <td> 5.616842</td>\n",
       "      <td> 5.247190</td>\n",
       "      <td> 5.237239</td>\n",
       "      <td> 5.401876</td>\n",
       "    </tr>\n",
       "    <tr>\n",
       "      <th>121_at</th>\n",
       "      <td> 7.833862</td>\n",
       "      <td> 7.780682</td>\n",
       "      <td> 7.458197</td>\n",
       "      <td> 7.655948</td>\n",
       "      <td> 7.546555</td>\n",
       "      <td> 7.072670</td>\n",
       "      <td> 7.092984</td>\n",
       "      <td> 6.954225</td>\n",
       "      <td> 7.489785</td>\n",
       "      <td> 7.388539</td>\n",
       "      <td>...</td>\n",
       "      <td> 7.437535</td>\n",
       "      <td> 7.714650</td>\n",
       "      <td> 7.416252</td>\n",
       "      <td> 7.746448</td>\n",
       "      <td> 8.001434</td>\n",
       "      <td> 7.626723</td>\n",
       "      <td> 7.452299</td>\n",
       "      <td> 7.331864</td>\n",
       "      <td> 7.357102</td>\n",
       "      <td> 7.607461</td>\n",
       "    </tr>\n",
       "    <tr>\n",
       "      <th>1255_g_at</th>\n",
       "      <td> 3.152269</td>\n",
       "      <td> 3.111747</td>\n",
       "      <td> 3.018932</td>\n",
       "      <td> 3.154545</td>\n",
       "      <td> 3.107954</td>\n",
       "      <td> 3.224284</td>\n",
       "      <td> 3.114241</td>\n",
       "      <td> 3.044975</td>\n",
       "      <td> 3.304038</td>\n",
       "      <td> 2.887919</td>\n",
       "      <td>...</td>\n",
       "      <td> 3.009983</td>\n",
       "      <td> 3.151203</td>\n",
       "      <td> 3.199709</td>\n",
       "      <td> 3.159496</td>\n",
       "      <td> 3.149710</td>\n",
       "      <td> 3.242780</td>\n",
       "      <td> 3.433125</td>\n",
       "      <td> 3.175846</td>\n",
       "      <td> 3.105092</td>\n",
       "      <td> 3.225123</td>\n",
       "    </tr>\n",
       "  </tbody>\n",
       "</table>\n",
       "<p>5 rows × 102 columns</p>\n",
       "</div>"
      ],
      "text/plain": [
       "           GSM25349.CEL.gz  GSM25350.CEL.gz  GSM25356.CEL.gz  GSM25357.CEL.gz  \\\n",
       "1007_s_at         6.627014         6.249807         5.934128         6.145268   \n",
       "1053_at           6.939184         6.818038         7.047962         7.422477   \n",
       "117_at            5.113570         5.074096         5.371201         5.266550   \n",
       "121_at            7.833862         7.780682         7.458197         7.655948   \n",
       "1255_g_at         3.152269         3.111747         3.018932         3.154545   \n",
       "\n",
       "           GSM25358.CEL.gz  GSM25359.CEL.gz  GSM25360.CEL.gz  GSM25361.CEL.gz  \\\n",
       "1007_s_at         6.091270         6.041186         6.050375         6.063847   \n",
       "1053_at           7.272361         7.128216         6.750719         6.836287   \n",
       "117_at            5.342047         5.063876         5.315898         5.483652   \n",
       "121_at            7.546555         7.072670         7.092984         6.954225   \n",
       "1255_g_at         3.107954         3.224284         3.114241         3.044975   \n",
       "\n",
       "           GSM25377.CEL.gz  GSM25378.CEL.gz        ...         \\\n",
       "1007_s_at         6.226106         6.358282        ...          \n",
       "1053_at           6.738022         7.367895        ...          \n",
       "117_at            6.689444         6.482782        ...          \n",
       "121_at            7.489785         7.388539        ...          \n",
       "1255_g_at         3.304038         2.887919        ...          \n",
       "\n",
       "           GSM48658.CEL.gz  GSM48660.CEL.gz  GSM48661.CEL.gz  GSM48662.CEL.gz  \\\n",
       "1007_s_at         6.501510         6.558100         6.618286         6.869995   \n",
       "1053_at           7.066686         7.386702         6.407958         7.089180   \n",
       "117_at            5.600514         5.232676         5.630720         4.944748   \n",
       "121_at            7.437535         7.714650         7.416252         7.746448   \n",
       "1255_g_at         3.009983         3.151203         3.199709         3.159496   \n",
       "\n",
       "           GSM48663.CEL.gz  GSM48664.CEL.gz  GSM48665.CEL.gz  \\\n",
       "1007_s_at         5.981000         6.403285         6.248702   \n",
       "1053_at           7.120923         7.018998         7.155419   \n",
       "117_at            5.275577         5.770358         5.616842   \n",
       "121_at            8.001434         7.626723         7.452299   \n",
       "1255_g_at         3.149710         3.242780         3.433125   \n",
       "\n",
       "           GSM136725.CEL.gz  GSM136726.CEL.gz  GSM136727.CEL.gz  \n",
       "1007_s_at          6.488579          6.809481          6.133068  \n",
       "1053_at            7.517410          7.200596          7.280781  \n",
       "117_at             5.247190          5.237239          5.401876  \n",
       "121_at             7.331864          7.357102          7.607461  \n",
       "1255_g_at          3.175846          3.105092          3.225123  \n",
       "\n",
       "[5 rows x 102 columns]"
      ]
     },
     "execution_count": 160,
     "metadata": {},
     "output_type": "execute_result"
    }
   ],
   "source": [
    "indices = sampleinfoCEU.index.values\n",
    "\n",
    "exprsCEU = exprs.iloc[:, indices]\n",
    "exprsCEU.head()"
   ]
  },
  {
   "cell_type": "markdown",
   "metadata": {},
   "source": [
    "Check to make sure the order of the columns in the `exprsCEU` DataFrame matches the rows in the `sampleinfoCEU` DataFrame.  "
   ]
  },
  {
   "cell_type": "code",
   "execution_count": 167,
   "metadata": {
    "collapsed": false
   },
   "outputs": [
    {
     "data": {
      "text/plain": [
       "True"
      ]
     },
     "execution_count": 167,
     "metadata": {},
     "output_type": "execute_result"
    }
   ],
   "source": [
    "(exprsCEU.columns == sampleinfoCEU.filename).all()"
   ]
  },
  {
   "cell_type": "markdown",
   "metadata": {},
   "source": [
    "Compute the average gene expression intensity in the `exprsCEU` DataFrame across all the samples. For each sample in the `exprsCEU` DataFrame, subtract the average gene expression intensity from each of the samples. Show the head of the mean normalized gene expression data.  "
   ]
  },
  {
   "cell_type": "code",
   "execution_count": 278,
   "metadata": {
    "collapsed": false
   },
   "outputs": [
    {
     "data": {
      "text/html": [
       "<div style=\"max-height:1000px;max-width:1500px;overflow:auto;\">\n",
       "<table border=\"1\" class=\"dataframe\">\n",
       "  <thead>\n",
       "    <tr style=\"text-align: right;\">\n",
       "      <th></th>\n",
       "      <th>GSM25349.CEL.gz</th>\n",
       "      <th>GSM25350.CEL.gz</th>\n",
       "      <th>GSM25356.CEL.gz</th>\n",
       "      <th>GSM25357.CEL.gz</th>\n",
       "      <th>GSM25358.CEL.gz</th>\n",
       "      <th>GSM25359.CEL.gz</th>\n",
       "      <th>GSM25360.CEL.gz</th>\n",
       "      <th>GSM25361.CEL.gz</th>\n",
       "      <th>GSM25377.CEL.gz</th>\n",
       "      <th>GSM25378.CEL.gz</th>\n",
       "      <th>...</th>\n",
       "      <th>GSM48658.CEL.gz</th>\n",
       "      <th>GSM48660.CEL.gz</th>\n",
       "      <th>GSM48661.CEL.gz</th>\n",
       "      <th>GSM48662.CEL.gz</th>\n",
       "      <th>GSM48663.CEL.gz</th>\n",
       "      <th>GSM48664.CEL.gz</th>\n",
       "      <th>GSM48665.CEL.gz</th>\n",
       "      <th>GSM136725.CEL.gz</th>\n",
       "      <th>GSM136726.CEL.gz</th>\n",
       "      <th>GSM136727.CEL.gz</th>\n",
       "    </tr>\n",
       "  </thead>\n",
       "  <tbody>\n",
       "    <tr>\n",
       "      <th>1007_s_at</th>\n",
       "      <td> 0.365059</td>\n",
       "      <td>-0.012149</td>\n",
       "      <td>-0.327827</td>\n",
       "      <td>-0.116687</td>\n",
       "      <td>-0.170685</td>\n",
       "      <td>-0.220769</td>\n",
       "      <td>-0.211580</td>\n",
       "      <td>-0.198109</td>\n",
       "      <td>-0.035849</td>\n",
       "      <td> 0.096327</td>\n",
       "      <td>...</td>\n",
       "      <td> 0.239554</td>\n",
       "      <td> 0.296144</td>\n",
       "      <td> 0.356331</td>\n",
       "      <td> 0.608040</td>\n",
       "      <td>-0.280956</td>\n",
       "      <td> 0.141330</td>\n",
       "      <td>-0.013254</td>\n",
       "      <td> 0.226624</td>\n",
       "      <td> 0.547526</td>\n",
       "      <td>-0.128887</td>\n",
       "    </tr>\n",
       "    <tr>\n",
       "      <th>1053_at</th>\n",
       "      <td>-0.136032</td>\n",
       "      <td>-0.257178</td>\n",
       "      <td>-0.027254</td>\n",
       "      <td> 0.347260</td>\n",
       "      <td> 0.197144</td>\n",
       "      <td> 0.053000</td>\n",
       "      <td>-0.324497</td>\n",
       "      <td>-0.238930</td>\n",
       "      <td>-0.337195</td>\n",
       "      <td> 0.292678</td>\n",
       "      <td>...</td>\n",
       "      <td>-0.008531</td>\n",
       "      <td> 0.311485</td>\n",
       "      <td>-0.667259</td>\n",
       "      <td> 0.013964</td>\n",
       "      <td> 0.045706</td>\n",
       "      <td>-0.056219</td>\n",
       "      <td> 0.080203</td>\n",
       "      <td> 0.442193</td>\n",
       "      <td> 0.125379</td>\n",
       "      <td> 0.205564</td>\n",
       "    </tr>\n",
       "    <tr>\n",
       "      <th>117_at</th>\n",
       "      <td>-0.490556</td>\n",
       "      <td>-0.530031</td>\n",
       "      <td>-0.232926</td>\n",
       "      <td>-0.337577</td>\n",
       "      <td>-0.262080</td>\n",
       "      <td>-0.540250</td>\n",
       "      <td>-0.288228</td>\n",
       "      <td>-0.120475</td>\n",
       "      <td> 1.085317</td>\n",
       "      <td> 0.878655</td>\n",
       "      <td>...</td>\n",
       "      <td>-0.003613</td>\n",
       "      <td>-0.371451</td>\n",
       "      <td> 0.026594</td>\n",
       "      <td>-0.659379</td>\n",
       "      <td>-0.328549</td>\n",
       "      <td> 0.166231</td>\n",
       "      <td> 0.012716</td>\n",
       "      <td>-0.356936</td>\n",
       "      <td>-0.366887</td>\n",
       "      <td>-0.202251</td>\n",
       "    </tr>\n",
       "    <tr>\n",
       "      <th>121_at</th>\n",
       "      <td> 0.418026</td>\n",
       "      <td> 0.364847</td>\n",
       "      <td> 0.042362</td>\n",
       "      <td> 0.240113</td>\n",
       "      <td> 0.130720</td>\n",
       "      <td>-0.343165</td>\n",
       "      <td>-0.322852</td>\n",
       "      <td>-0.461611</td>\n",
       "      <td> 0.073949</td>\n",
       "      <td>-0.027296</td>\n",
       "      <td>...</td>\n",
       "      <td> 0.021700</td>\n",
       "      <td> 0.298814</td>\n",
       "      <td> 0.000417</td>\n",
       "      <td> 0.330612</td>\n",
       "      <td> 0.585598</td>\n",
       "      <td> 0.210887</td>\n",
       "      <td> 0.036463</td>\n",
       "      <td>-0.083972</td>\n",
       "      <td>-0.058733</td>\n",
       "      <td> 0.191626</td>\n",
       "    </tr>\n",
       "    <tr>\n",
       "      <th>1255_g_at</th>\n",
       "      <td> 0.018335</td>\n",
       "      <td>-0.022187</td>\n",
       "      <td>-0.115002</td>\n",
       "      <td> 0.020611</td>\n",
       "      <td>-0.025980</td>\n",
       "      <td> 0.090351</td>\n",
       "      <td>-0.019693</td>\n",
       "      <td>-0.088959</td>\n",
       "      <td> 0.170104</td>\n",
       "      <td>-0.246015</td>\n",
       "      <td>...</td>\n",
       "      <td>-0.123951</td>\n",
       "      <td> 0.017269</td>\n",
       "      <td> 0.065775</td>\n",
       "      <td> 0.025562</td>\n",
       "      <td> 0.015776</td>\n",
       "      <td> 0.108846</td>\n",
       "      <td> 0.299192</td>\n",
       "      <td> 0.041912</td>\n",
       "      <td>-0.028842</td>\n",
       "      <td> 0.091189</td>\n",
       "    </tr>\n",
       "  </tbody>\n",
       "</table>\n",
       "<p>5 rows × 102 columns</p>\n",
       "</div>"
      ],
      "text/plain": [
       "           GSM25349.CEL.gz  GSM25350.CEL.gz  GSM25356.CEL.gz  GSM25357.CEL.gz  \\\n",
       "1007_s_at         0.365059        -0.012149        -0.327827        -0.116687   \n",
       "1053_at          -0.136032        -0.257178        -0.027254         0.347260   \n",
       "117_at           -0.490556        -0.530031        -0.232926        -0.337577   \n",
       "121_at            0.418026         0.364847         0.042362         0.240113   \n",
       "1255_g_at         0.018335        -0.022187        -0.115002         0.020611   \n",
       "\n",
       "           GSM25358.CEL.gz  GSM25359.CEL.gz  GSM25360.CEL.gz  GSM25361.CEL.gz  \\\n",
       "1007_s_at        -0.170685        -0.220769        -0.211580        -0.198109   \n",
       "1053_at           0.197144         0.053000        -0.324497        -0.238930   \n",
       "117_at           -0.262080        -0.540250        -0.288228        -0.120475   \n",
       "121_at            0.130720        -0.343165        -0.322852        -0.461611   \n",
       "1255_g_at        -0.025980         0.090351        -0.019693        -0.088959   \n",
       "\n",
       "           GSM25377.CEL.gz  GSM25378.CEL.gz        ...         \\\n",
       "1007_s_at        -0.035849         0.096327        ...          \n",
       "1053_at          -0.337195         0.292678        ...          \n",
       "117_at            1.085317         0.878655        ...          \n",
       "121_at            0.073949        -0.027296        ...          \n",
       "1255_g_at         0.170104        -0.246015        ...          \n",
       "\n",
       "           GSM48658.CEL.gz  GSM48660.CEL.gz  GSM48661.CEL.gz  GSM48662.CEL.gz  \\\n",
       "1007_s_at         0.239554         0.296144         0.356331         0.608040   \n",
       "1053_at          -0.008531         0.311485        -0.667259         0.013964   \n",
       "117_at           -0.003613        -0.371451         0.026594        -0.659379   \n",
       "121_at            0.021700         0.298814         0.000417         0.330612   \n",
       "1255_g_at        -0.123951         0.017269         0.065775         0.025562   \n",
       "\n",
       "           GSM48663.CEL.gz  GSM48664.CEL.gz  GSM48665.CEL.gz  \\\n",
       "1007_s_at        -0.280956         0.141330        -0.013254   \n",
       "1053_at           0.045706        -0.056219         0.080203   \n",
       "117_at           -0.328549         0.166231         0.012716   \n",
       "121_at            0.585598         0.210887         0.036463   \n",
       "1255_g_at         0.015776         0.108846         0.299192   \n",
       "\n",
       "           GSM136725.CEL.gz  GSM136726.CEL.gz  GSM136727.CEL.gz  \n",
       "1007_s_at          0.226624          0.547526         -0.128887  \n",
       "1053_at            0.442193          0.125379          0.205564  \n",
       "117_at            -0.356936         -0.366887         -0.202251  \n",
       "121_at            -0.083972         -0.058733          0.191626  \n",
       "1255_g_at          0.041912         -0.028842          0.091189  \n",
       "\n",
       "[5 rows x 102 columns]"
      ]
     },
     "execution_count": 278,
     "metadata": {},
     "output_type": "execute_result"
    }
   ],
   "source": [
    "mean_expression_cols = exprsCEU.mean(axis=1)\n",
    "mean_expression_rows = exprsCEU.mean(axis=0)\n",
    "\n",
    "norm_expression = exprsCEU.sub(mean_expression_cols, axis=0)\n",
    "#print norm\n",
    "#exprsCEU.describe()\n",
    "\n",
    "#exprsCEU['GSM25349.CEL.gz'] - mean_expression['GSM25349.CEL.gz']\n",
    "\n",
    "\n",
    "#This is the written out code for the map function below\n",
    "#norm = []\n",
    "#for dex in mean_expression.index.values:\n",
    "    #diff = pd.DataFrame({dex:(exprsCEU.loc[:dex] - mean_expression[dex])})\n",
    "    #norm.append(diff)\n",
    "\n",
    "#print norm\n",
    "def find_diff(dex, df, subtract_df):\n",
    "    return pd.DataFrame({dex:(df[dex] - subtract_df[dex])})\n",
    "\n",
    "norm = map(lambda dex: find_diff(dex, exprsCEU, mean_expression_rows), mean_expression_rows.index.values)\n",
    "\n",
    "#print norm\n",
    "\n",
    "norm_expression.head()\n",
    "\n",
    "norm_expression_columns.head()"
   ]
  },
  {
   "cell_type": "markdown",
   "metadata": {},
   "source": [
    "Using this mean normalized gene expression data, compute the projection to the first Principal Component (PC1).  \n",
    "\n",
    "**Hint**: Use the `numpy.linalg.svd()` function in the `numpy.linalg` module (or the `scipy.linalg.svd()` function in the `scipy.linalg` module) to apply an [singular value decomposition](http://en.wikipedia.org/wiki/Singular_value_decomposition) to a matrix.  "
   ]
  },
  {
   "cell_type": "code",
   "execution_count": 283,
   "metadata": {
    "collapsed": false
   },
   "outputs": [
    {
     "name": "stdout",
     "output_type": "stream",
     "text": [
      "[]\n",
      "Everything ok!\n",
      "First Principal Component explains about 15% of the variance\n",
      "(2874, 102)\n",
      "(2874, 102)\n"
     ]
    },
    {
     "ename": "ValueError",
     "evalue": "shapes (2874,102) and (1,102) not aligned: 102 (dim 1) != 1 (dim 0)",
     "output_type": "error",
     "traceback": [
      "\u001b[0;31m---------------------------------------------------------------------------\u001b[0m",
      "\u001b[0;31mValueError\u001b[0m                                Traceback (most recent call last)",
      "\u001b[0;32m<ipython-input-283-bce8efcc25ea>\u001b[0m in \u001b[0;36m<module>\u001b[0;34m()\u001b[0m\n\u001b[1;32m     49\u001b[0m \u001b[0;32mprint\u001b[0m \u001b[0mX\u001b[0m\u001b[0;34m.\u001b[0m\u001b[0mshape\u001b[0m\u001b[0;34m\u001b[0m\u001b[0m\n\u001b[1;32m     50\u001b[0m \u001b[0;34m\u001b[0m\u001b[0m\n\u001b[0;32m---> 51\u001b[0;31m \u001b[0mY\u001b[0m \u001b[0;34m=\u001b[0m \u001b[0mX\u001b[0m\u001b[0;34m.\u001b[0m\u001b[0mdot\u001b[0m\u001b[0;34m(\u001b[0m\u001b[0mmatrix_w\u001b[0m\u001b[0;34m)\u001b[0m \u001b[0;31m#this is going along the wrong axis I think...\u001b[0m\u001b[0;34m\u001b[0m\u001b[0m\n\u001b[0m\u001b[1;32m     52\u001b[0m \u001b[0;32mprint\u001b[0m \u001b[0mY\u001b[0m\u001b[0;34m.\u001b[0m\u001b[0mshape\u001b[0m\u001b[0;34m\u001b[0m\u001b[0m\n",
      "\u001b[0;31mValueError\u001b[0m: shapes (2874,102) and (1,102) not aligned: 102 (dim 1) != 1 (dim 0)"
     ]
    },
    {
     "data": {
      "image/png": "[encoded data removed]",
      "text/plain": [
       "<matplotlib.figure.Figure at 0x118b7fc10>"
      ]
     },
     "metadata": {},
     "output_type": "display_data"
    }
   ],
   "source": [
    "#Need to get rid of NaNs --> fill with the ave of 6 around, 3 above and 3 below\n",
    "%matplotlib inline\n",
    "indices = pd.isnull(norm_expression_columns).any(axis=0).nonzero()[0]\n",
    "print indices\n",
    "\n",
    "norm_expression_columns = norm_expression_columns.fillna(0)\n",
    "\n",
    "U, sigma, V = np.linalg.svd(norm_expression_columns.T, full_matrices=True)\n",
    "\n",
    "length = sigma.shape[0]\n",
    "\n",
    "#For row i in v and column i in u, the corresponding eigenvalue is s[i]**2.\n",
    "eig_vals = np.asarray([sigma[i]**2 for i in range(length)])\n",
    "\n",
    "#However, the eigenvectors only define the directions of the new axis, since they have all the same unit length 1, \n",
    "    #which can confirmed by the following two lines of code:\n",
    "for ev in U: \n",
    "    np.testing.assert_array_almost_equal(1.0, np.linalg.norm(ev)) \n",
    "print('Everything ok!')\n",
    "\n",
    "eig_pairs = [(np.abs(eig_vals[i]), U[:,i]) for i in range(len(eig_vals))]\n",
    "\n",
    "eig_pairs.sort(key=lambda x: x[0], reverse=True)\n",
    "\n",
    "#print('Eigenvalues in descending order:') \n",
    "#for i in eig_pairs: \n",
    "    #print(i[0])\n",
    "\n",
    "tot = sum(eig_vals) \n",
    "var_exp = [(i / tot)*100 for i in sorted(eig_vals, reverse=True)] \n",
    "cum_var_exp = np.cumsum(var_exp)\n",
    "with plt.style.context('seaborn-whitegrid'): \n",
    "    plt.figure(figsize=(6, 4)) \n",
    "    plt.bar(range(102), var_exp, alpha=0.5, align='center', label='individual explained variance') \n",
    "    plt.step(range(102), cum_var_exp, where='mid', label='cumulative explained variance', color='red') \n",
    "    plt.ylabel('Explained variance ratio') \n",
    "    plt.xlabel('Principal components') \n",
    "    plt.legend(loc='best') \n",
    "    plt.tight_layout()\n",
    "    \n",
    "print('First Principal Component explains about 15% of the variance')\n",
    "\n",
    "#matrix_w = np.hstack(eig_pairs[0][1].reshape[102,1], eig_pairs[1][1].reshape[102,1])\n",
    "matrix_w = eig_pairs[0][1].reshape(1,102)\n",
    "\n",
    "print norm_expression_columns.shape\n",
    "\n",
    "X = norm_expression_columns.ix[:,0:102].values\n",
    "print X.shape\n",
    "\n",
    "Y = X.dot(matrix_w) #this is going along the wrong axis I think... \n",
    "print Y.shape\n"
   ]
  },
  {
   "cell_type": "code",
   "execution_count": 276,
   "metadata": {
    "collapsed": false
   },
   "outputs": [
    {
     "name": "stdout",
     "output_type": "stream",
     "text": [
      "Everything ok!\n",
      "First Principal Component explains about 15% of the variance\n",
      "(2874, 102)\n",
      "(2874, 102)\n",
      "(2874, 1)\n"
     ]
    },
    {
     "data": {
      "image/png": "[encoded data removed]",
      "text/plain": [
       "<matplotlib.figure.Figure at 0x11677bb10>"
      ]
     },
     "metadata": {},
     "output_type": "display_data"
    }
   ],
   "source": [
    "#Need to get rid of NaNs --> fill with the ave of 6 around, 3 above and 3 below\n",
    "%matplotlib inline\n",
    "indices = pd.isnull(norm_expression).any(axis=0).nonzero()[0]\n",
    "\n",
    "norm_expression = norm_expression.fillna(0)\n",
    "\n",
    "U, sigma, V = np.linalg.svd(norm_expression.T, full_matrices=True)\n",
    "\n",
    "length = sigma.shape[0]\n",
    "\n",
    "#For row i in v and column i in u, the corresponding eigenvalue is s[i]**2.\n",
    "eig_vals = np.asarray([sigma[i]**2 for i in range(length)])\n",
    "\n",
    "#However, the eigenvectors only define the directions of the new axis, since they have all the same unit length 1, \n",
    "    #which can confirmed by the following two lines of code:\n",
    "for ev in U: \n",
    "    np.testing.assert_array_almost_equal(1.0, np.linalg.norm(ev)) \n",
    "print('Everything ok!')\n",
    "\n",
    "eig_pairs = [(np.abs(eig_vals[i]), U[:,i]) for i in range(len(eig_vals))]\n",
    "\n",
    "eig_pairs.sort(key=lambda x: x[0], reverse=True)\n",
    "\n",
    "#print('Eigenvalues in descending order:') \n",
    "#for i in eig_pairs: \n",
    "    #print(i[0])\n",
    "\n",
    "tot = sum(eig_vals) \n",
    "var_exp = [(i / tot)*100 for i in sorted(eig_vals, reverse=True)] \n",
    "cum_var_exp = np.cumsum(var_exp)\n",
    "with plt.style.context('seaborn-whitegrid'): \n",
    "    plt.figure(figsize=(6, 4)) \n",
    "    plt.bar(range(102), var_exp, alpha=0.5, align='center', label='individual explained variance') \n",
    "    plt.step(range(102), cum_var_exp, where='mid', label='cumulative explained variance', color='red') \n",
    "    plt.ylabel('Explained variance ratio') \n",
    "    plt.xlabel('Principal components') \n",
    "    plt.legend(loc='best') \n",
    "    plt.tight_layout()\n",
    "    \n",
    "print('First Principal Component explains about 15% of the variance')\n",
    "\n",
    "#matrix_w = np.hstack(eig_pairs[0][1].reshape[102,1], eig_pairs[1][1].reshape[102,1])\n",
    "matrix_w = eig_pairs[0][1].reshape(102,1)\n",
    "\n",
    "print norm_expression.shape\n",
    "\n",
    "X = norm_expression.ix[:,0:102].values\n",
    "print X.shape\n",
    "\n",
    "Y = X.dot(matrix_w) #this is going along the wrong axis I think... \n",
    "print Y.shape\n"
   ]
  },
  {
   "cell_type": "markdown",
   "metadata": {},
   "source": [
    "Create a histogram using the values from PC1.  Use a bin size of 25.  "
   ]
  },
  {
   "cell_type": "code",
   "execution_count": 273,
   "metadata": {
    "collapsed": false
   },
   "outputs": [
    {
     "data": {
      "text/html": [
       "<div style=\"max-height:1000px;max-width:1500px;overflow:auto;\">\n",
       "<table border=\"1\" class=\"dataframe\">\n",
       "  <thead>\n",
       "    <tr style=\"text-align: right;\">\n",
       "      <th></th>\n",
       "      <th>0</th>\n",
       "    </tr>\n",
       "  </thead>\n",
       "  <tbody>\n",
       "    <tr>\n",
       "      <th>1007_s_at</th>\n",
       "      <td>-0.454819</td>\n",
       "    </tr>\n",
       "    <tr>\n",
       "      <th>1053_at</th>\n",
       "      <td>-1.837906</td>\n",
       "    </tr>\n",
       "    <tr>\n",
       "      <th>117_at</th>\n",
       "      <td> 1.098749</td>\n",
       "    </tr>\n",
       "    <tr>\n",
       "      <th>121_at</th>\n",
       "      <td>-1.601970</td>\n",
       "    </tr>\n",
       "    <tr>\n",
       "      <th>1255_g_at</th>\n",
       "      <td> 0.052502</td>\n",
       "    </tr>\n",
       "  </tbody>\n",
       "</table>\n",
       "</div>"
      ],
      "text/plain": [
       "                  0\n",
       "1007_s_at -0.454819\n",
       "1053_at   -1.837906\n",
       "117_at     1.098749\n",
       "121_at    -1.601970\n",
       "1255_g_at  0.052502"
      ]
     },
     "execution_count": 273,
     "metadata": {},
     "output_type": "execute_result"
    },
    {
     "data": {
      "image/png": "[encoded data removed]",
      "text/plain": [
       "<matplotlib.figure.Figure at 0x117ae92d0>"
      ]
     },
     "metadata": {},
     "output_type": "display_data"
    }
   ],
   "source": [
    "plt.hist(Y, bins=25)\n",
    "plt.xlabel('PC1 Values, binned by 25')\n",
    "plt.ylabel('Frequency')\n",
    "\n",
    "Y.head()"
   ]
  },
  {
   "cell_type": "markdown",
   "metadata": {},
   "source": [
    "Create a scatter plot with the days since October 31, 2002 on the x-axis and PC1 on the y-axis."
   ]
  },
  {
   "cell_type": "code",
   "execution_count": 249,
   "metadata": {
    "collapsed": false
   },
   "outputs": [
    {
     "name": "stdout",
     "output_type": "stream",
     "text": [
      "(102,)\n",
      "(2874, 1)\n"
     ]
    },
    {
     "ename": "ValueError",
     "evalue": "x and y must be the same size",
     "output_type": "error",
     "traceback": [
      "\u001b[0;31m---------------------------------------------------------------------------\u001b[0m",
      "\u001b[0;31mValueError\u001b[0m                                Traceback (most recent call last)",
      "\u001b[0;32m<ipython-input-249-d8b47ed07239>\u001b[0m in \u001b[0;36m<module>\u001b[0;34m()\u001b[0m\n\u001b[1;32m      4\u001b[0m \u001b[0;32mprint\u001b[0m \u001b[0mY\u001b[0m\u001b[0;34m.\u001b[0m\u001b[0mshape\u001b[0m\u001b[0;34m\u001b[0m\u001b[0m\n\u001b[1;32m      5\u001b[0m \u001b[0;34m\u001b[0m\u001b[0m\n\u001b[0;32m----> 6\u001b[0;31m \u001b[0mplt\u001b[0m\u001b[0;34m.\u001b[0m\u001b[0mscatter\u001b[0m\u001b[0;34m(\u001b[0m\u001b[0msampleinfoCEU\u001b[0m\u001b[0;34m.\u001b[0m\u001b[0melapsedInDays\u001b[0m\u001b[0;34m,\u001b[0m \u001b[0mY\u001b[0m\u001b[0;34m)\u001b[0m\u001b[0;34m\u001b[0m\u001b[0m\n\u001b[0m\u001b[1;32m      7\u001b[0m \u001b[0mplt\u001b[0m\u001b[0;34m.\u001b[0m\u001b[0mxlabel\u001b[0m\u001b[0;34m(\u001b[0m\u001b[0;34m\"Days since Oct 31,2002\"\u001b[0m\u001b[0;34m)\u001b[0m\u001b[0;34m\u001b[0m\u001b[0m\n\u001b[1;32m      8\u001b[0m \u001b[0mplt\u001b[0m\u001b[0;34m.\u001b[0m\u001b[0mylabel\u001b[0m\u001b[0;34m(\u001b[0m\u001b[0;34m\"Principal Component 1\"\u001b[0m\u001b[0;34m)\u001b[0m\u001b[0;34m\u001b[0m\u001b[0m\n",
      "\u001b[0;32m//anaconda/lib/python2.7/site-packages/matplotlib/pyplot.pyc\u001b[0m in \u001b[0;36mscatter\u001b[0;34m(x, y, s, c, marker, cmap, norm, vmin, vmax, alpha, linewidths, verts, edgecolors, hold, data, **kwargs)\u001b[0m\n\u001b[1;32m   3249\u001b[0m                          \u001b[0mvmin\u001b[0m\u001b[0;34m=\u001b[0m\u001b[0mvmin\u001b[0m\u001b[0;34m,\u001b[0m \u001b[0mvmax\u001b[0m\u001b[0;34m=\u001b[0m\u001b[0mvmax\u001b[0m\u001b[0;34m,\u001b[0m \u001b[0malpha\u001b[0m\u001b[0;34m=\u001b[0m\u001b[0malpha\u001b[0m\u001b[0;34m,\u001b[0m\u001b[0;34m\u001b[0m\u001b[0m\n\u001b[1;32m   3250\u001b[0m                          \u001b[0mlinewidths\u001b[0m\u001b[0;34m=\u001b[0m\u001b[0mlinewidths\u001b[0m\u001b[0;34m,\u001b[0m \u001b[0mverts\u001b[0m\u001b[0;34m=\u001b[0m\u001b[0mverts\u001b[0m\u001b[0;34m,\u001b[0m\u001b[0;34m\u001b[0m\u001b[0m\n\u001b[0;32m-> 3251\u001b[0;31m                          edgecolors=edgecolors, data=data, **kwargs)\n\u001b[0m\u001b[1;32m   3252\u001b[0m     \u001b[0;32mfinally\u001b[0m\u001b[0;34m:\u001b[0m\u001b[0;34m\u001b[0m\u001b[0m\n\u001b[1;32m   3253\u001b[0m         \u001b[0max\u001b[0m\u001b[0;34m.\u001b[0m\u001b[0mhold\u001b[0m\u001b[0;34m(\u001b[0m\u001b[0mwashold\u001b[0m\u001b[0;34m)\u001b[0m\u001b[0;34m\u001b[0m\u001b[0m\n",
      "\u001b[0;32m//anaconda/lib/python2.7/site-packages/matplotlib/__init__.pyc\u001b[0m in \u001b[0;36minner\u001b[0;34m(ax, *args, **kwargs)\u001b[0m\n\u001b[1;32m   1810\u001b[0m                     warnings.warn(msg % (label_namer, func.__name__),\n\u001b[1;32m   1811\u001b[0m                                   RuntimeWarning, stacklevel=2)\n\u001b[0;32m-> 1812\u001b[0;31m             \u001b[0;32mreturn\u001b[0m \u001b[0mfunc\u001b[0m\u001b[0;34m(\u001b[0m\u001b[0max\u001b[0m\u001b[0;34m,\u001b[0m \u001b[0;34m*\u001b[0m\u001b[0margs\u001b[0m\u001b[0;34m,\u001b[0m \u001b[0;34m**\u001b[0m\u001b[0mkwargs\u001b[0m\u001b[0;34m)\u001b[0m\u001b[0;34m\u001b[0m\u001b[0m\n\u001b[0m\u001b[1;32m   1813\u001b[0m         \u001b[0mpre_doc\u001b[0m \u001b[0;34m=\u001b[0m \u001b[0minner\u001b[0m\u001b[0;34m.\u001b[0m\u001b[0m__doc__\u001b[0m\u001b[0;34m\u001b[0m\u001b[0m\n\u001b[1;32m   1814\u001b[0m         \u001b[0;32mif\u001b[0m \u001b[0mpre_doc\u001b[0m \u001b[0;32mis\u001b[0m \u001b[0mNone\u001b[0m\u001b[0;34m:\u001b[0m\u001b[0;34m\u001b[0m\u001b[0m\n",
      "\u001b[0;32m//anaconda/lib/python2.7/site-packages/matplotlib/axes/_axes.pyc\u001b[0m in \u001b[0;36mscatter\u001b[0;34m(self, x, y, s, c, marker, cmap, norm, vmin, vmax, alpha, linewidths, verts, edgecolors, **kwargs)\u001b[0m\n\u001b[1;32m   3838\u001b[0m         \u001b[0my\u001b[0m \u001b[0;34m=\u001b[0m \u001b[0mnp\u001b[0m\u001b[0;34m.\u001b[0m\u001b[0mma\u001b[0m\u001b[0;34m.\u001b[0m\u001b[0mravel\u001b[0m\u001b[0;34m(\u001b[0m\u001b[0my\u001b[0m\u001b[0;34m)\u001b[0m\u001b[0;34m\u001b[0m\u001b[0m\n\u001b[1;32m   3839\u001b[0m         \u001b[0;32mif\u001b[0m \u001b[0mx\u001b[0m\u001b[0;34m.\u001b[0m\u001b[0msize\u001b[0m \u001b[0;34m!=\u001b[0m \u001b[0my\u001b[0m\u001b[0;34m.\u001b[0m\u001b[0msize\u001b[0m\u001b[0;34m:\u001b[0m\u001b[0;34m\u001b[0m\u001b[0m\n\u001b[0;32m-> 3840\u001b[0;31m             \u001b[0;32mraise\u001b[0m \u001b[0mValueError\u001b[0m\u001b[0;34m(\u001b[0m\u001b[0;34m\"x and y must be the same size\"\u001b[0m\u001b[0;34m)\u001b[0m\u001b[0;34m\u001b[0m\u001b[0m\n\u001b[0m\u001b[1;32m   3841\u001b[0m \u001b[0;34m\u001b[0m\u001b[0m\n\u001b[1;32m   3842\u001b[0m         \u001b[0ms\u001b[0m \u001b[0;34m=\u001b[0m \u001b[0mnp\u001b[0m\u001b[0;34m.\u001b[0m\u001b[0mma\u001b[0m\u001b[0;34m.\u001b[0m\u001b[0mravel\u001b[0m\u001b[0;34m(\u001b[0m\u001b[0ms\u001b[0m\u001b[0;34m)\u001b[0m  \u001b[0;31m# This doesn't have to match x, y in size.\u001b[0m\u001b[0;34m\u001b[0m\u001b[0m\n",
      "\u001b[0;31mValueError\u001b[0m: x and y must be the same size"
     ]
    },
    {
     "data": {
      "image/png": "[encoded data removed]",
      "text/plain": [
       "<matplotlib.figure.Figure at 0x11791c350>"
      ]
     },
     "metadata": {},
     "output_type": "display_data"
    }
   ],
   "source": [
    "sampleinfoCEU.head()\n",
    "\n",
    "print sampleinfoCEU.elapsedInDays.shape\n",
    "print Y.shape\n",
    "#Based on what sample were run on what day. Need to keep track. Y has the samples as the index... \n",
    "#wait, shouldnt there be only \n",
    "\n",
    "\n",
    "plt.scatter(sampleinfoCEU.elapsedInDays, Y)\n",
    "plt.xlabel(\"Days since Oct 31,2002\")\n",
    "plt.ylabel(\"Principal Component 1\")\n",
    "plt.tight_layout()"
   ]
  },
  {
   "cell_type": "markdown",
   "metadata": {},
   "source": [
    "Around what day do you notice a difference in the way the samples were processed?"
   ]
  },
  {
   "cell_type": "code",
   "execution_count": 13,
   "metadata": {
    "collapsed": false
   },
   "outputs": [],
   "source": [
    "#your code here"
   ]
  },
  {
   "cell_type": "markdown",
   "metadata": {},
   "source": [
    "Answer:"
   ]
  },
  {
   "cell_type": "markdown",
   "metadata": {},
   "source": [
    "## Discussion for Problem 1\n",
    "\n",
    "*Write a brief discussion of your conclusions to the questions and tasks above in 100 words or less.*\n",
    "\n",
    "---\n"
   ]
  },
  {
   "cell_type": "markdown",
   "metadata": {},
   "source": [
    "## Problem 2: Is there a pollster bias in presidential election polls?"
   ]
  },
  {
   "cell_type": "markdown",
   "metadata": {},
   "source": [
    "#### Problem 2(a)\n",
    "\n",
    "The [HuffPost Pollster](http://elections.huffingtonpost.com/pollster) contains many political polls. You can access these polls from individual races as a CSV but you can also access polls through the [HuffPost Pollster API](http://elections.huffingtonpost.com/pollster/api) to access the data.  \n",
    "\n",
    "Read in the polls from the [2012 Presidential Election: Barack Obama vs Mitt Romney](http://elections.huffingtonpost.com/pollster/2012-general-election-romney-vs-obama) into a pandas DataFrame called `election`. For this problem, you may read in the polls for this race directly using [the CSV file](http://elections.huffingtonpost.com/pollster/2012-general-election-romney-vs-obama.csv) available from the HuffPost Pollster page."
   ]
  },
  {
   "cell_type": "code",
   "execution_count": 291,
   "metadata": {
    "collapsed": false
   },
   "outputs": [],
   "source": [
    "#response = requests.get('http://elections.huffingtonpost.com/pollster/api/charts/2012-general-election-romney-vs-obama.csv')\n",
    "\n",
    "#print(response.status_code)\n",
    "#print(type(response))\n",
    "\n",
    "elections_data = '/Users/Kristen/CS109_Harvard/2012-general-election-romney-vs-obama.csv'\n",
    "\n",
    "elections = pd.read_csv(elections_data)"
   ]
  },
  {
   "cell_type": "markdown",
   "metadata": {},
   "source": [
    "Show the head of the `election` DataFrame. "
   ]
  },
  {
   "cell_type": "code",
   "execution_count": 292,
   "metadata": {
    "collapsed": false
   },
   "outputs": [
    {
     "data": {
      "text/html": [
       "<div style=\"max-height:1000px;max-width:1500px;overflow:auto;\">\n",
       "<table border=\"1\" class=\"dataframe\">\n",
       "  <thead>\n",
       "    <tr style=\"text-align: right;\">\n",
       "      <th></th>\n",
       "      <th>Pollster</th>\n",
       "      <th>Start Date</th>\n",
       "      <th>End Date</th>\n",
       "      <th>Entry Date/Time (ET)</th>\n",
       "      <th>Number of Observations</th>\n",
       "      <th>Population</th>\n",
       "      <th>Mode</th>\n",
       "      <th>Obama</th>\n",
       "      <th>Romney</th>\n",
       "      <th>Undecided</th>\n",
       "      <th>Other</th>\n",
       "      <th>Pollster URL</th>\n",
       "      <th>Source URL</th>\n",
       "      <th>Partisan</th>\n",
       "      <th>Affiliation</th>\n",
       "      <th>Question Text</th>\n",
       "      <th>Question Iteration</th>\n",
       "    </tr>\n",
       "  </thead>\n",
       "  <tbody>\n",
       "    <tr>\n",
       "      <th>0</th>\n",
       "      <td> Politico/GWU/Battleground</td>\n",
       "      <td> 2012-11-04</td>\n",
       "      <td> 2012-11-05</td>\n",
       "      <td> 2012-11-06T08:40:26Z</td>\n",
       "      <td> 1000</td>\n",
       "      <td> Likely Voters</td>\n",
       "      <td>      Live Phone</td>\n",
       "      <td> 47</td>\n",
       "      <td> 47</td>\n",
       "      <td>  6</td>\n",
       "      <td>NaN</td>\n",
       "      <td> http://elections.huffingtonpost.com/pollster/p...</td>\n",
       "      <td> http://www.politico.com/news/stories/1112/8338...</td>\n",
       "      <td> Nonpartisan</td>\n",
       "      <td> None</td>\n",
       "      <td>NaN</td>\n",
       "      <td> 1</td>\n",
       "    </tr>\n",
       "    <tr>\n",
       "      <th>1</th>\n",
       "      <td>          YouGov/Economist</td>\n",
       "      <td> 2012-11-03</td>\n",
       "      <td> 2012-11-05</td>\n",
       "      <td> 2012-11-26T15:31:23Z</td>\n",
       "      <td>  740</td>\n",
       "      <td> Likely Voters</td>\n",
       "      <td>        Internet</td>\n",
       "      <td> 49</td>\n",
       "      <td> 47</td>\n",
       "      <td>  3</td>\n",
       "      <td>NaN</td>\n",
       "      <td> http://elections.huffingtonpost.com/pollster/p...</td>\n",
       "      <td> http://cdn.yougov.com/cumulus_uploads/document...</td>\n",
       "      <td> Nonpartisan</td>\n",
       "      <td> None</td>\n",
       "      <td>NaN</td>\n",
       "      <td> 1</td>\n",
       "    </tr>\n",
       "    <tr>\n",
       "      <th>2</th>\n",
       "      <td>          Gravis Marketing</td>\n",
       "      <td> 2012-11-03</td>\n",
       "      <td> 2012-11-05</td>\n",
       "      <td> 2012-11-06T09:22:02Z</td>\n",
       "      <td>  872</td>\n",
       "      <td> Likely Voters</td>\n",
       "      <td> Automated Phone</td>\n",
       "      <td> 48</td>\n",
       "      <td> 48</td>\n",
       "      <td>  4</td>\n",
       "      <td>NaN</td>\n",
       "      <td> http://elections.huffingtonpost.com/pollster/p...</td>\n",
       "      <td> http://www.gravispolls.com/2012/11/gravis-mark...</td>\n",
       "      <td> Nonpartisan</td>\n",
       "      <td> None</td>\n",
       "      <td>NaN</td>\n",
       "      <td> 1</td>\n",
       "    </tr>\n",
       "    <tr>\n",
       "      <th>3</th>\n",
       "      <td>                  IBD/TIPP</td>\n",
       "      <td> 2012-11-03</td>\n",
       "      <td> 2012-11-05</td>\n",
       "      <td> 2012-11-06T08:51:48Z</td>\n",
       "      <td>  712</td>\n",
       "      <td> Likely Voters</td>\n",
       "      <td>      Live Phone</td>\n",
       "      <td> 50</td>\n",
       "      <td> 49</td>\n",
       "      <td>NaN</td>\n",
       "      <td>  1</td>\n",
       "      <td> http://elections.huffingtonpost.com/pollster/p...</td>\n",
       "      <td> http://news.investors.com/special-report/50841...</td>\n",
       "      <td> Nonpartisan</td>\n",
       "      <td> None</td>\n",
       "      <td>NaN</td>\n",
       "      <td> 1</td>\n",
       "    </tr>\n",
       "    <tr>\n",
       "      <th>4</th>\n",
       "      <td>                 Rasmussen</td>\n",
       "      <td> 2012-11-03</td>\n",
       "      <td> 2012-11-05</td>\n",
       "      <td> 2012-11-06T08:47:50Z</td>\n",
       "      <td> 1500</td>\n",
       "      <td> Likely Voters</td>\n",
       "      <td> Automated Phone</td>\n",
       "      <td> 48</td>\n",
       "      <td> 49</td>\n",
       "      <td>NaN</td>\n",
       "      <td>NaN</td>\n",
       "      <td> http://elections.huffingtonpost.com/pollster/p...</td>\n",
       "      <td> http://www.rasmussenreports.com/public_content...</td>\n",
       "      <td> Nonpartisan</td>\n",
       "      <td> None</td>\n",
       "      <td>NaN</td>\n",
       "      <td> 1</td>\n",
       "    </tr>\n",
       "  </tbody>\n",
       "</table>\n",
       "</div>"
      ],
      "text/plain": [
       "                    Pollster  Start Date    End Date  Entry Date/Time (ET)  \\\n",
       "0  Politico/GWU/Battleground  2012-11-04  2012-11-05  2012-11-06T08:40:26Z   \n",
       "1           YouGov/Economist  2012-11-03  2012-11-05  2012-11-26T15:31:23Z   \n",
       "2           Gravis Marketing  2012-11-03  2012-11-05  2012-11-06T09:22:02Z   \n",
       "3                   IBD/TIPP  2012-11-03  2012-11-05  2012-11-06T08:51:48Z   \n",
       "4                  Rasmussen  2012-11-03  2012-11-05  2012-11-06T08:47:50Z   \n",
       "\n",
       "   Number of Observations     Population             Mode  Obama  Romney  \\\n",
       "0                    1000  Likely Voters       Live Phone     47      47   \n",
       "1                     740  Likely Voters         Internet     49      47   \n",
       "2                     872  Likely Voters  Automated Phone     48      48   \n",
       "3                     712  Likely Voters       Live Phone     50      49   \n",
       "4                    1500  Likely Voters  Automated Phone     48      49   \n",
       "\n",
       "   Undecided  Other                                       Pollster URL  \\\n",
       "0          6    NaN  http://elections.huffingtonpost.com/pollster/p...   \n",
       "1          3    NaN  http://elections.huffingtonpost.com/pollster/p...   \n",
       "2          4    NaN  http://elections.huffingtonpost.com/pollster/p...   \n",
       "3        NaN      1  http://elections.huffingtonpost.com/pollster/p...   \n",
       "4        NaN    NaN  http://elections.huffingtonpost.com/pollster/p...   \n",
       "\n",
       "                                          Source URL     Partisan Affiliation  \\\n",
       "0  http://www.politico.com/news/stories/1112/8338...  Nonpartisan        None   \n",
       "1  http://cdn.yougov.com/cumulus_uploads/document...  Nonpartisan        None   \n",
       "2  http://www.gravispolls.com/2012/11/gravis-mark...  Nonpartisan        None   \n",
       "3  http://news.investors.com/special-report/50841...  Nonpartisan        None   \n",
       "4  http://www.rasmussenreports.com/public_content...  Nonpartisan        None   \n",
       "\n",
       "   Question Text  Question Iteration  \n",
       "0            NaN                   1  \n",
       "1            NaN                   1  \n",
       "2            NaN                   1  \n",
       "3            NaN                   1  \n",
       "4            NaN                   1  "
      ]
     },
     "execution_count": 292,
     "metadata": {},
     "output_type": "execute_result"
    }
   ],
   "source": [
    "elections.head()"
   ]
  },
  {
   "cell_type": "markdown",
   "metadata": {},
   "source": [
    "How many polls were conducted in November? Define this number as M.  \n",
    "\n",
    "**Hint**: Subset the `election` DataFrame for only dates in the `Start Date` column that are in November 2012.  "
   ]
  },
  {
   "cell_type": "code",
   "execution_count": 370,
   "metadata": {
    "collapsed": false
   },
   "outputs": [
    {
     "name": "stdout",
     "output_type": "stream",
     "text": [
      "18\n"
     ]
    }
   ],
   "source": [
    "from collections import Counter\n",
    "\n",
    "\n",
    "type(elections.loc[1, 'Start Date'])\n",
    "\n",
    "elections['Start Date'] = pd.to_datetime(elections['Start Date'])\n",
    "\n",
    "filtered = elections[map(lambda x: (x.month == 11) and (x.year == 2012), elections['Start Date'])]\n",
    "filtered.drop_duplicates('Pollster', inplace=True)\n",
    "\n",
    "M = (filtered['Start Date'].shape)[0]\n",
    "print M\n",
    "\n",
    "########\n",
    "#Another way to do it\n",
    "#times = extract_time(drop_dups, 'Start Date')\n",
    "#print(times)\n",
    "\n",
    "#months = list(times.month)\n",
    "\n",
    "#count = Counter()\n",
    "\n",
    "#for month in months:\n",
    "   #count[month] += 1\n",
    "    \n",
    "#M = count[11]\n",
    "#print M\n",
    "#print count\n",
    "##########\n",
    "#times\n"
   ]
  },
  {
   "cell_type": "markdown",
   "metadata": {},
   "source": [
    "Answer: 18"
   ]
  },
  {
   "cell_type": "markdown",
   "metadata": {},
   "source": [
    "What was the median of the number of observations in the November polls? Define this quantity as N. "
   ]
  },
  {
   "cell_type": "code",
   "execution_count": 369,
   "metadata": {
    "collapsed": false
   },
   "outputs": [
    {
     "name": "stdout",
     "output_type": "stream",
     "text": [
      "1200.0\n"
     ]
    }
   ],
   "source": [
    "N = filtered['Number of Observations'].median()\n",
    "print N"
   ]
  },
  {
   "cell_type": "markdown",
   "metadata": {},
   "source": [
    "Answer: 1200.0"
   ]
  },
  {
   "cell_type": "markdown",
   "metadata": {},
   "source": [
    "#### Problem 2(b)\n",
    "\n",
    "Using the median sample size $N$ from Problem 1(a), simulate the results from a single poll:  simulate the number of votes for Obama out of a sample size $N$ where $p$ = 0.53 is the percent of voters who are voting for Obama.  \n",
    "\n",
    "**Hint**: Use the binomial distribution with parameters $N$ and $p$ = 0.53. "
   ]
  },
  {
   "cell_type": "code",
   "execution_count": 371,
   "metadata": {
    "collapsed": false
   },
   "outputs": [
    {
     "name": "stdout",
     "output_type": "stream",
     "text": [
      "single poll:  663\n"
     ]
    }
   ],
   "source": [
    "#your code here\n",
    "#I think they mean 2(a) and the median Number of Observations is 1000\n",
    "\n",
    "#When you run this cell multiple times, you will get different values for a single poll (as expected)\n",
    "    #I'm not quite sure how its generating that number though... \n",
    "\n",
    "p_obama = 0.53\n",
    "\n",
    "single_poll = np.random.binomial(N, p_obama)\n",
    "print 'single poll: ', single_poll"
   ]
  },
  {
   "cell_type": "markdown",
   "metadata": {},
   "source": [
    "Now, perform a Monte Carlo simulation to obtain the estimated percentage of Obama votes with a sample size $N$ where $N$ is the median sample size calculated in Problem 2(a). Let $p$=0.53 be the percent of voters are voting for Obama. \n",
    "\n",
    "**Hint**: You will repeat the simulation above 1,000 times and plot the distribution of the estimated *percent* of Obama votes from a single poll.  The results from the single poll you simulate is random variable and will be different every time you sample. "
   ]
  },
  {
   "cell_type": "code",
   "execution_count": 372,
   "metadata": {
    "collapsed": false
   },
   "outputs": [],
   "source": [
    "multi_poll = np.random.binomial(N, p_obama, 1000)\n",
    "percentage = np.true_divide(multi_poll, 1000)"
   ]
  },
  {
   "cell_type": "markdown",
   "metadata": {},
   "source": [
    "Plot the distribution of the estimated percentage of Obama votes from your single poll. What is the distribution of the estimated percentage of Obama votes? "
   ]
  },
  {
   "cell_type": "code",
   "execution_count": 386,
   "metadata": {
    "collapsed": false
   },
   "outputs": [
    {
     "data": {
      "image/png": "[encoded data removed]",
      "text/plain": [
       "<matplotlib.figure.Figure at 0x13b0db390>"
      ]
     },
     "metadata": {},
     "output_type": "display_data"
    }
   ],
   "source": [
    "import scipy.stats\n",
    "\n",
    "plt.hist(percentage)\n",
    "plt.xlabel('Percentage of Vote, 100 bins')\n",
    "plt.ylabel('Frequency from Monte Carlo')\n",
    "\n",
    "## QQ-plot to gauge visually that this is normal distribution\n",
    "def reject_outliers(data, m=2):\n",
    "    return data[abs(data - np.mean(data)) < m * np.std(data)]\n",
    "percent = reject_outliers(percentage, m=1)\n",
    "\n",
    "scipy.stats.probplot((percent - np.mean(percent))/np.std(percent), dist='norm', plot=plt)\n",
    "plt.show()"
   ]
  },
  {
   "cell_type": "markdown",
   "metadata": {},
   "source": [
    "Answer: Normal, yes! But run a QQ plot to verify** Look this up.."
   ]
  },
  {
   "cell_type": "markdown",
   "metadata": {},
   "source": [
    "What is the standard error (SE) of the estimated percentage from the poll. \n",
    "\n",
    "**Hint**: Remember the SE is the standard deviation (SD) of the distribution of a random variable. "
   ]
  },
  {
   "cell_type": "code",
   "execution_count": 374,
   "metadata": {
    "collapsed": false
   },
   "outputs": [
    {
     "name": "stdout",
     "output_type": "stream",
     "text": [
      "sem: 0.531282935504\n"
     ]
    }
   ],
   "source": [
    "import scipy.stats\n",
    "\n",
    "sem = scipy.stats.sem(multi_poll)\n",
    "print 'sem:', sem"
   ]
  },
  {
   "cell_type": "markdown",
   "metadata": {},
   "source": [
    "#### Problem 2(c)\n",
    "\n",
    "Now suppose we run M polls where M is the number of polls that happened in November (calculated in Problem 2(a)). Run 1,000 simulations and compute the mean of the M polls for each simulation. "
   ]
  },
  {
   "cell_type": "code",
   "execution_count": 375,
   "metadata": {
    "collapsed": false
   },
   "outputs": [
    {
     "name": "stdout",
     "output_type": "stream",
     "text": [
      "[ 0.  0.  0.  0.  0.  0.  0.  0.  0.  0.  0.  0.  0.  0.  0.  0.  0.  0.]\n",
      "[ 635.32   637.043  635.261  635.35   634.708  635.852  635.389  635.834\n",
      "  635.193  635.686  635.741  635.979  635.327  635.287  636.27   636.348\n",
      "  636.289  635.602]\n"
     ]
    }
   ],
   "source": [
    "aves = np.zeros(shape=(1, M))[0]\n",
    "print aves\n",
    "for i in range(M):\n",
    "    poll = np.random.binomial(N, p_obama, 1000)\n",
    "    aves[i] = np.average(poll)\n",
    "\n",
    "print aves\n"
   ]
  },
  {
   "cell_type": "markdown",
   "metadata": {},
   "source": [
    "What is the distribution of the average of polls?\n",
    "\n",
    "**Hint**: Show a plot. "
   ]
  },
  {
   "cell_type": "code",
   "execution_count": 377,
   "metadata": {
    "collapsed": false
   },
   "outputs": [
    {
     "data": {
      "text/plain": [
       "<matplotlib.text.Text at 0x1398b1a50>"
      ]
     },
     "execution_count": 377,
     "metadata": {},
     "output_type": "execute_result"
    },
    {
     "data": {
      "image/png": "[encoded data removed]",
      "text/plain": [
       "<matplotlib.figure.Figure at 0x1392f2810>"
      ]
     },
     "metadata": {},
     "output_type": "display_data"
    }
   ],
   "source": [
    "plt.hist(aves, bins=5)\n",
    "plt.xlabel('Average # of Votes for Each Simulation')\n",
    "plt.ylabel('Frequency')"
   ]
  },
  {
   "cell_type": "markdown",
   "metadata": {},
   "source": [
    "Answer: Tail... Poisson? No it's a binomial distribution with a long tail..."
   ]
  },
  {
   "cell_type": "markdown",
   "metadata": {},
   "source": [
    "What is the standard error (SE) of the average of polls? "
   ]
  },
  {
   "cell_type": "code",
   "execution_count": 378,
   "metadata": {
    "collapsed": false
   },
   "outputs": [
    {
     "name": "stdout",
     "output_type": "stream",
     "text": [
      "averages sem: 0.12950503575\n"
     ]
    }
   ],
   "source": [
    "ave_sem = scipy.stats.sem(aves)\n",
    "print 'averages sem:', ave_sem"
   ]
  },
  {
   "cell_type": "markdown",
   "metadata": {},
   "source": [
    "Answer: 0.129"
   ]
  },
  {
   "cell_type": "markdown",
   "metadata": {},
   "source": [
    "Is the SE of the average of polls larger, the same, or smaller than that the SD of a single poll (calculated in Problem 2(b))? By how much?\n",
    "\n",
    "**Hint**: Compute a ratio of the two quantities.  "
   ]
  },
  {
   "cell_type": "code",
   "execution_count": 25,
   "metadata": {
    "collapsed": false
   },
   "outputs": [],
   "source": [
    "#your code here"
   ]
  },
  {
   "cell_type": "markdown",
   "metadata": {},
   "source": [
    "Answer: "
   ]
  },
  {
   "cell_type": "markdown",
   "metadata": {},
   "source": [
    "#### Problem 2(d) \n",
    "\n",
    "Repeat Problem 2(c) but now record the *across poll* standard deviation in each simulation. "
   ]
  },
  {
   "cell_type": "code",
   "execution_count": 26,
   "metadata": {
    "collapsed": false
   },
   "outputs": [],
   "source": [
    "#your code here"
   ]
  },
  {
   "cell_type": "markdown",
   "metadata": {},
   "source": [
    "What is the distribution of the *across M polls* standard deviation?\n",
    "\n",
    "**Hint**: Show a plot. "
   ]
  },
  {
   "cell_type": "code",
   "execution_count": 27,
   "metadata": {
    "collapsed": false
   },
   "outputs": [],
   "source": [
    "#your code here"
   ]
  },
  {
   "cell_type": "markdown",
   "metadata": {},
   "source": [
    "Answer: "
   ]
  },
  {
   "cell_type": "markdown",
   "metadata": {},
   "source": [
    "#### Problem 2(e) \n",
    "\n",
    "What is the standard deviation of M polls in our real (not simulated) 2012 presidential election data ? "
   ]
  },
  {
   "cell_type": "code",
   "execution_count": 28,
   "metadata": {
    "collapsed": false
   },
   "outputs": [],
   "source": [
    "#your code here"
   ]
  },
  {
   "cell_type": "markdown",
   "metadata": {},
   "source": [
    "Is this larger, the same, or smaller than what we expeced if polls were not biased."
   ]
  },
  {
   "cell_type": "code",
   "execution_count": 29,
   "metadata": {
    "collapsed": false
   },
   "outputs": [],
   "source": [
    "#your code here"
   ]
  },
  {
   "cell_type": "markdown",
   "metadata": {},
   "source": [
    "Answer: "
   ]
  },
  {
   "cell_type": "markdown",
   "metadata": {},
   "source": [
    "#### Problem 2(f)\n",
    "\n",
    "**For AC209 Students**: Learn about the normal approximation for the binomial distribution and derive the results of Problem 2(b) and 2(c) analytically (using this approximation). Compare the results obtained analytically to those obtained from simulations."
   ]
  },
  {
   "cell_type": "code",
   "execution_count": 30,
   "metadata": {
    "collapsed": false
   },
   "outputs": [],
   "source": [
    "#your code here"
   ]
  },
  {
   "cell_type": "markdown",
   "metadata": {},
   "source": [
    "Answer: "
   ]
  },
  {
   "cell_type": "markdown",
   "metadata": {},
   "source": [
    "## Discussion for Problem 2\n",
    "\n",
    "*Write a brief discussion of your conclusions to the questions and tasks above in 100 words or less.*\n",
    "\n",
    "---\n"
   ]
  },
  {
   "cell_type": "markdown",
   "metadata": {},
   "source": [
    "## Problem 3: Is the average of polls better than just one poll?"
   ]
  },
  {
   "cell_type": "markdown",
   "metadata": {},
   "source": [
    "#### Problem 3(a)\n",
    "\n",
    "Most undecided voters vote for one of the two candidates at the election. Therefore, the reported percentages underestimate the final value of both candidates. However, if we assume the undecided will split evenly, then the observed difference should be an unbiased estimate of the final difference. \n",
    "\n",
    "Add a new column to the `election` DataFrame containg the difference between Obama and Romeny called `Diff`. "
   ]
  },
  {
   "cell_type": "code",
   "execution_count": 31,
   "metadata": {
    "collapsed": false
   },
   "outputs": [],
   "source": [
    "#your code here"
   ]
  },
  {
   "cell_type": "markdown",
   "metadata": {},
   "source": [
    "#### Problem 3(b)\n",
    "\n",
    "Make a plot of the differences for the week before the election (e.g. 5 days) where the days are on the x-axis and the differences are on the y-axis.  Add a horizontal line showing 3.9%: the difference between Obama and Romney on election day."
   ]
  },
  {
   "cell_type": "code",
   "execution_count": 32,
   "metadata": {
    "collapsed": false
   },
   "outputs": [],
   "source": [
    "#your code here"
   ]
  },
  {
   "cell_type": "markdown",
   "metadata": {},
   "source": [
    "#### Problem 3(c) \n",
    "\n",
    "Make a plot showing the differences by pollster where the pollsters are on the x-axis and the differences on the y-axis. "
   ]
  },
  {
   "cell_type": "code",
   "execution_count": 33,
   "metadata": {
    "collapsed": false
   },
   "outputs": [],
   "source": [
    "#your code here"
   ]
  },
  {
   "cell_type": "markdown",
   "metadata": {},
   "source": [
    "Is the *across poll* difference larger than the *between pollster* difference? "
   ]
  },
  {
   "cell_type": "markdown",
   "metadata": {},
   "source": [
    "Answer: "
   ]
  },
  {
   "cell_type": "markdown",
   "metadata": {},
   "source": [
    "#### Problem 3(d)\n",
    "\n",
    "Take the average for each pollster and then compute the average of that. Given this difference how confident would you have been of an Obama victory?\n",
    "\n",
    "**Hint**: Compute an estimate of the SE of this average based exclusively on the observed data. "
   ]
  },
  {
   "cell_type": "code",
   "execution_count": 34,
   "metadata": {
    "collapsed": false
   },
   "outputs": [],
   "source": [
    "#your code here"
   ]
  },
  {
   "cell_type": "markdown",
   "metadata": {},
   "source": [
    "Answer: "
   ]
  },
  {
   "cell_type": "markdown",
   "metadata": {},
   "source": [
    "#### Problem 3(e)\n",
    "\n",
    "**For AC209 Students**: Show the difference against time and see if you can detect a trend towards the end. Use this trend to see if it improves the final estimate."
   ]
  },
  {
   "cell_type": "code",
   "execution_count": 35,
   "metadata": {
    "collapsed": false
   },
   "outputs": [],
   "source": [
    "#your code here"
   ]
  },
  {
   "cell_type": "markdown",
   "metadata": {},
   "source": [
    "Answer: "
   ]
  },
  {
   "cell_type": "markdown",
   "metadata": {},
   "source": [
    "## Discussion for Problem 3\n",
    "\n",
    "*Write a brief discussion of your conclusions to the questions and tasks above in 100 words or less.*\n",
    "\n",
    "---\n"
   ]
  },
  {
   "cell_type": "markdown",
   "metadata": {},
   "source": [
    "## Problem 4\n",
    "\n",
    "In this last problem, we will use the polls from the [2014 Senate Midterm Elections](http://elections.huffingtonpost.com/pollster) from the [HuffPost Pollster API](http://elections.huffingtonpost.com/pollster/api) to create a preliminary prediction of the result of each state. \n",
    "\n",
    "The HuffPost Pollster API allows you to access the data as a CSV or a JSON response by tacking \".csv\" or \".json\" at the end of the URLs. For example the 2012 Presidential Election could be accessed as a [.json](http://elections.huffingtonpost.com/pollster/2012-general-election-romney-vs-obama.json) instead of a [.csv](http://elections.huffingtonpost.com/pollster/2012-general-election-romney-vs-obama.csv)"
   ]
  },
  {
   "cell_type": "markdown",
   "metadata": {},
   "source": [
    "#### Problem 4(a)\n",
    "\n",
    "Read in the polls for **all** of the 2014 Senate Elections using the HuffPost API. For example, we can consider the [2014 Senate race in Kentucky between Mitch McConnell and Alison Grimes](http://elections.huffingtonpost.com/pollster/2014-kentucky-senate-mcconnell-vs-grimes). \n",
    "\n",
    "To search for the 2014 Senate races, use the `topics` parameter in the API [[read more about topics here](http://elections.huffingtonpost.com/pollster/api)].  "
   ]
  },
  {
   "cell_type": "code",
   "execution_count": 36,
   "metadata": {
    "collapsed": false
   },
   "outputs": [],
   "source": [
    "url_str = \"http://elections.huffingtonpost.com/pollster/api/charts/?topic=2014-senate\""
   ]
  },
  {
   "cell_type": "markdown",
   "metadata": {},
   "source": [
    "To list all the URLs related to the 2014 Senate races using the pollster API, we can use a list comprehension:"
   ]
  },
  {
   "cell_type": "code",
   "execution_count": 37,
   "metadata": {
    "collapsed": false
   },
   "outputs": [
    {
     "data": {
      "text/plain": [
       "[u'http://elections.huffingtonpost.com/pollster/2014-kentucky-senate-mcconnell-vs-grimes.csv',\n",
       " u'http://elections.huffingtonpost.com/pollster/2014-arkansas-senate-cotton-vs-pryor.csv',\n",
       " u'http://elections.huffingtonpost.com/pollster/2014-michigan-senate-land-vs-peters.csv',\n",
       " u'http://elections.huffingtonpost.com/pollster/2014-louisiana-senate-cassidy-vs-landrieu.csv',\n",
       " u'http://elections.huffingtonpost.com/pollster/2014-new-hampshire-senate-brown-vs-shaheen.csv',\n",
       " u'http://elections.huffingtonpost.com/pollster/2014-west-virginia-senate-capito-vs-tennant.csv',\n",
       " u'http://elections.huffingtonpost.com/pollster/2014-new-hampshire-senate-bass-vs-shaheen.csv',\n",
       " u'http://elections.huffingtonpost.com/pollster/2014-north-carolina-senate-tillis-vs-hagan.csv',\n",
       " u'http://elections.huffingtonpost.com/pollster/2014-virginia-senate-gillespie-vs-warner.csv',\n",
       " u'http://elections.huffingtonpost.com/pollster/2014-colorado-senate-gardner-vs-udall.csv',\n",
       " u'http://elections.huffingtonpost.com/pollster/2014-illinois-senate-oberweis-vs-durbin.csv',\n",
       " u'http://elections.huffingtonpost.com/pollster/2014-alaska-senate-sullivan-vs-begich.csv',\n",
       " u'http://elections.huffingtonpost.com/pollster/2014-iowa-senate-ernst-vs-braley.csv',\n",
       " u'http://elections.huffingtonpost.com/pollster/2014-mississippi-senate-cochran-vs-childers.csv',\n",
       " u'http://elections.huffingtonpost.com/pollster/2014-oregon-senate-wehby-vs-merkley.csv',\n",
       " u'http://elections.huffingtonpost.com/pollster/2014-georgia-senate-perdue-vs-nunn.csv',\n",
       " u'http://elections.huffingtonpost.com/pollster/2014-louisiana-senate-sasse-vs-domina.csv',\n",
       " u'http://elections.huffingtonpost.com/pollster/2014-south-dakota-senate-rounds-vs-weiland.csv',\n",
       " u'http://elections.huffingtonpost.com/pollster/2014-maine-senate-collins-vs-bellows.csv',\n",
       " u'http://elections.huffingtonpost.com/pollster/2014-minnesota-senate-mcfadden-vs-franken.csv',\n",
       " u'http://elections.huffingtonpost.com/pollster/2014-texas-senate-cornyn-vs-alameel.csv',\n",
       " u'http://elections.huffingtonpost.com/pollster/2014-south-carolina-senate-graham-vs-hutto.csv',\n",
       " u'http://elections.huffingtonpost.com/pollster/2014-south-carolina-senate-scott-vs-dickerson.csv',\n",
       " u'http://elections.huffingtonpost.com/pollster/2014-oklahoma-senate-inhofe-vs-silverstein.csv',\n",
       " u'http://elections.huffingtonpost.com/pollster/2014-new-mexico-senate-weh-vs-udall.csv',\n",
       " u'http://elections.huffingtonpost.com/pollster/2014-new-jersey-senate-bell-vs-booker.csv',\n",
       " u'http://elections.huffingtonpost.com/pollster/2014-idaho-senate-risch-vs-mitchell.csv',\n",
       " u'http://elections.huffingtonpost.com/pollster/2014-tennessee-senate-alexander-vs-ball.csv',\n",
       " u'http://elections.huffingtonpost.com/pollster/2014-wyoming-senate.csv',\n",
       " u'http://elections.huffingtonpost.com/pollster/2014-kansas-senate-roberts-vs-orman-vs-taylor.csv',\n",
       " u'http://elections.huffingtonpost.com/pollster/2014-hawaii-senate-cavasso-vs-schatz.csv',\n",
       " u'http://elections.huffingtonpost.com/pollster/2014-oklahoma-senate-lankford-vs-johnson.csv',\n",
       " u'http://elections.huffingtonpost.com/pollster/2014-montana-senate-daines-vs-curtis.csv',\n",
       " u'http://elections.huffingtonpost.com/pollster/2014-rhode-island-senate-zaccaria-vs-reed.csv',\n",
       " u'http://elections.huffingtonpost.com/pollster/2014-massachusetts-senate-herr-vs-markey.csv',\n",
       " u'http://elections.huffingtonpost.com/pollster/2014-delaware-senate-wade-vs-coons.csv']"
      ]
     },
     "execution_count": 37,
     "metadata": {},
     "output_type": "execute_result"
    }
   ],
   "source": [
    "election_urls = [election['url'] + '.csv' for election in requests.get(url_str).json()]\n",
    "election_urls"
   ]
  },
  {
   "cell_type": "markdown",
   "metadata": {},
   "source": [
    "Because there so many Senate races, we can create a dictionary of pandas DataFrames that will be keyed by the name of the election (a string). "
   ]
  },
  {
   "cell_type": "code",
   "execution_count": 38,
   "metadata": {
    "collapsed": false
   },
   "outputs": [],
   "source": [
    "def build_frame(url):\n",
    "    \"\"\"\n",
    "    Returns a pandas DataFrame object containing\n",
    "    the data returned from the given url\n",
    "    \"\"\"\n",
    "    source = requests.get(url).text\n",
    "    \n",
    "    # Use StringIO because pd.DataFrame.from_csv requires .read() method\n",
    "    s = StringIO(source)\n",
    "    \n",
    "    return pd.DataFrame.from_csv(s, index_col=None).convert_objects(\n",
    "            convert_dates=\"coerce\", convert_numeric=True)"
   ]
  },
  {
   "cell_type": "code",
   "execution_count": 39,
   "metadata": {
    "collapsed": false
   },
   "outputs": [],
   "source": [
    "# Makes a dictionary of pandas DataFrames keyed on election string.\n",
    "dfs = dict((election.split(\"/\")[-1][:-4], build_frame(election)) for election in election_urls)"
   ]
  },
  {
   "cell_type": "markdown",
   "metadata": {},
   "source": [
    "Show the head of the DataFrame containing the polls for the 2014 Senate race in Kentucky between McConnell and Grimes."
   ]
  },
  {
   "cell_type": "code",
   "execution_count": 40,
   "metadata": {
    "collapsed": false
   },
   "outputs": [],
   "source": [
    "#your code here"
   ]
  },
  {
   "cell_type": "markdown",
   "metadata": {},
   "source": [
    "#### Problem 4(b)\n",
    "\n",
    "For each 2014 Senate race, create a preliminary prediction of the result for that state."
   ]
  },
  {
   "cell_type": "code",
   "execution_count": 42,
   "metadata": {
    "collapsed": false
   },
   "outputs": [],
   "source": [
    "#your code here"
   ]
  },
  {
   "cell_type": "markdown",
   "metadata": {},
   "source": [
    "# Submission Instructions\n",
    "\n",
    "To submit your homework, create a folder named **lastname_firstinitial_hw#** and place your IPython notebooks, data files, and any other files in this folder. Your IPython Notebooks should be completely executed with the results visible in the notebook. We should not have to run any code.  Compress the folder (please use .zip compression) and submit to the CS109 dropbox in the appropriate folder. *If we cannot access your work because these directions are not followed correctly, we will not grade your work.*\n"
   ]
  },
  {
   "cell_type": "code",
   "execution_count": null,
   "metadata": {
    "collapsed": false
   },
   "outputs": [],
   "source": []
  }
 ],
 "metadata": {
  "kernelspec": {
   "display_name": "Python 2",
   "language": "python",
   "name": "python2"
  },
  "language_info": {
   "codemirror_mode": {
    "name": "ipython",
    "version": 2
   },
   "file_extension": ".py",
   "mimetype": "text/x-python",
   "name": "python",
   "nbconvert_exporter": "python",
   "pygments_lexer": "ipython2",
   "version": "2.7.11"
  }
 },
 "nbformat": 4,
 "nbformat_minor": 0
}
