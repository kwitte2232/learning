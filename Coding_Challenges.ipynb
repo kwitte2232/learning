{
 "cells": [
  {
   "cell_type": "code",
   "execution_count": 45,
   "metadata": {
    "collapsed": true
   },
   "outputs": [],
   "source": [
    "def findNumber(arr, k):\n",
    "    \n",
    "    sorted_arr = sorted(arr)\n",
    "    print sorted_arr\n",
    "    maximum = 1\n",
    "    for x in sorted_arr:\n",
    "        if k == x:\n",
    "            return \"YES\"\n",
    "        if x >= maximum:\n",
    "            if maximum > k:\n",
    "                return \"NO\"\n",
    "        else:\n",
    "            maximum = x\n",
    "    \n",
    "    return \"NO\""
   ]
  },
  {
   "cell_type": "code",
   "execution_count": 44,
   "metadata": {
    "collapsed": true
   },
   "outputs": [],
   "source": [
    "def  oddNumbers(l, r):\n",
    "    \n",
    "    l = range(l, r+1, 1)\n",
    "    print l\n",
    "    odds = []\n",
    "    for number in l:\n",
    "        print number\n",
    "        if number%2 == 1:\n",
    "            odds.append(number)\n",
    "    return odds\n"
   ]
  },
  {
   "cell_type": "markdown",
   "metadata": {},
   "source": [
    "**Question**:\n",
    "Write a program which will find all such numbers which are divisible by 7 but are not a multiple of 5,\n",
    "between 2000 and 3200 (both included).\n",
    "The numbers obtained should be printed in a comma-separated sequence on a single line."
   ]
  },
  {
   "cell_type": "code",
   "execution_count": 37,
   "metadata": {},
   "outputs": [
    {
     "name": "stdout",
     "output_type": "stream",
     "text": [
      "(array([ 6, 13, 20, 27, 34, 41, 48, 55, 62, 69, 76, 83, 90, 97]),)\n",
      "[ 0  1  3  4  5  6  8  9 10 11 13]\n",
      "[ 6 13 27 34 41 48 62 69 76 83 97]\n",
      "[ 7 14 28 35 42 49 63 70 77 84 98]\n"
     ]
    }
   ],
   "source": [
    "import numpy as np\n",
    "\n",
    "def find_divisible(start, end):\n",
    "    \n",
    "    r = np.array(range(start, end+1, 1))\n",
    "    divide = np.where(r%7 == 0) #Find divisible by 7\n",
    "    not_multiple = np.where(divide[0]%5 != 0) #of those, which are not multiples of 5\n",
    "    both = divide[0][not_multiple[0]] #indices where both conditions are satisfied\n",
    "    return r[both]\n",
    "\n",
    "data = find_divisible(1, 100)\n",
    "print data"
   ]
  },
  {
   "cell_type": "markdown",
   "metadata": {},
   "source": [
    "**Question:**  \n",
    "Write a program which can compute the factorial of a given numbers.\n",
    "The results should be printed in a comma-separated sequence on a single line.\n",
    "Suppose the following input is supplied to the program:  \n",
    "8  \n",
    "Then, the output should be:  \n",
    "40320"
   ]
  },
  {
   "cell_type": "code",
   "execution_count": 43,
   "metadata": {},
   "outputs": [
    {
     "data": {
      "text/plain": [
       "40320"
      ]
     },
     "execution_count": 43,
     "metadata": {},
     "output_type": "execute_result"
    }
   ],
   "source": [
    "def find_factorial(number):\n",
    "    \n",
    "    fact = 1\n",
    "    sequence = range(1, number+1, 1)\n",
    "    for n in sequence:\n",
    "        fact = n*fact\n",
    "    return fact\n",
    "\n",
    "find_factorial(8)"
   ]
  },
  {
   "cell_type": "markdown",
   "metadata": {},
   "source": [
    "**Question:**  \n",
    "With a given integral number n, write a program to generate a dictionary that contains (i, i*i) such that is an integral number between 1 and n (both included). and then the program should print the dictionary.  \n",
    "Suppose the following input is supplied to the program:  \n",
    "8  \n",
    "Then, the output should be:  \n",
    "{1: 1, 2: 4, 3: 9, 4: 16, 5: 25, 6: 36, 7: 49, 8: 64}"
   ]
  },
  {
   "cell_type": "code",
   "execution_count": 49,
   "metadata": {},
   "outputs": [
    {
     "name": "stdout",
     "output_type": "stream",
     "text": [
      "{1: 1, 2: 4, 3: 9, 4: 16, 5: 25, 6: 36, 7: 49, 8: 64}\n",
      "{1: 1, 2: 4, 3: 9, 4: 16, 5: 25, 6: 36, 7: 49, 8: 64}\n"
     ]
    }
   ],
   "source": [
    "def find_squares(number):\n",
    "    \n",
    "    mapped_squares = {}\n",
    "    r = np.array(range(1, number+1, 1)) # r = np.arange(1, number+1, 1)\n",
    "    squares = r**2\n",
    "    for n, square in zip(r, squares):\n",
    "        mapped_squares[n] = square\n",
    "    return mapped_squares\n",
    "\n",
    "one = find_squares(8)\n",
    "print one\n",
    "\n",
    "#Alternatively:\n",
    "\n",
    "def find_squares_2(number):\n",
    "    \n",
    "    r = np.array(range(1, number+1, 1))\n",
    "    squares = r**2\n",
    "    return dict(zip(r, squares))\n",
    "\n",
    "two = find_squares_2(8)\n",
    "print two"
   ]
  },
  {
   "cell_type": "markdown",
   "metadata": {},
   "source": [
    "**Question:**  \n",
    "Define a class which has at least two methods:  \n",
    "getString: to get a string from console input  \n",
    "printString: to print the string in upper case.  \n",
    "Also please include simple test function to test the class methods.  \n",
    "\n",
    "Hints:  \n",
    "Use __init__ method to construct some parameters"
   ]
  },
  {
   "cell_type": "code",
   "execution_count": 60,
   "metadata": {},
   "outputs": [
    {
     "name": "stdout",
     "output_type": "stream",
     "text": [
      "SDE\n"
     ]
    }
   ],
   "source": [
    "class String():\n",
    "    \n",
    "    def __init__(self):\n",
    "        self.s = ''\n",
    "    \n",
    "    def getString(self, _list):\n",
    "        self.s = ''.join(_list)\n",
    "        \n",
    "    def printString(self):\n",
    "        print self.s.upper()\n",
    "\n",
    "test_obj = String()\n",
    "test_obj.getString(['s','d','e'])\n",
    "test_obj.printString()\n"
   ]
  },
  {
   "cell_type": "markdown",
   "metadata": {},
   "source": [
    "**Question:**  \n",
    "Write a program which takes 2 digits, X,Y as input and generates a 2-dimensional array. The element value in the i-th row and j-th column of the array should be i*j.  \n",
    "Note: i=0,1.., X-1; j=0,1,¡­Y-1.  \n",
    "Example  \n",
    "Suppose the following inputs are given to the program:  \n",
    "3,5  \n",
    "Then, the output of the program should be:  \n",
    "[[0, 0, 0, 0, 0], [0, 1, 2, 3, 4], [0, 2, 4, 6, 8]] "
   ]
  },
  {
   "cell_type": "code",
   "execution_count": 109,
   "metadata": {},
   "outputs": [
    {
     "data": {
      "text/plain": [
       "array([[ 0.,  0.,  0.,  0.,  0.],\n",
       "       [ 0.,  1.,  2.,  3.,  4.],\n",
       "       [ 0.,  2.,  4.,  6.,  8.]])"
      ]
     },
     "execution_count": 109,
     "metadata": {},
     "output_type": "execute_result"
    }
   ],
   "source": [
    "def find_array(x, y):\n",
    "\n",
    "    xs = np.arange(0, x, 1)\n",
    "    ys = np.arange(0, y, 1)\n",
    "    collect = np.zeros((3,5))\n",
    "    for row, element in enumerate(xs):\n",
    "        current = element*ys\n",
    "        collect[row] = current\n",
    "    return collect\n",
    "\n",
    "find_array(3,5)\n",
    "    "
   ]
  },
  {
   "cell_type": "markdown",
   "metadata": {},
   "source": [
    "**Question:**  \n",
    "Write a program that accepts a comma separated sequence of words as input and prints the words in a comma-separated sequence after sorting them alphabetically.  \n",
    "  \n",
    "Suppose the following input is supplied to the program:  \n",
    "without,hello,bag,world  \n",
    "Then, the output should be:  \n",
    "bag,hello,without,world"
   ]
  },
  {
   "cell_type": "code",
   "execution_count": 133,
   "metadata": {},
   "outputs": [
    {
     "data": {
      "text/plain": [
       "['alpha', 'bag', 'hello', 'without', 'world']"
      ]
     },
     "execution_count": 133,
     "metadata": {},
     "output_type": "execute_result"
    }
   ],
   "source": [
    "def alphabetize(words):\n",
    "    lower_case = [s.lower() if any(letter.isupper() for letter in s) else s for s in words]\n",
    "    lower_case.sort()\n",
    "    return lower_case\n",
    "\n",
    "w = ['without','helLo','bag','WorlD', 'ALPHA']\n",
    "alphabetize(w)"
   ]
  },
  {
   "cell_type": "markdown",
   "metadata": {},
   "source": [
    "**Question:**  \n",
    "Write a program that accepts sequence of lines as input and prints the lines after making all characters in the sentence capitalized.  \n",
    "  \n",
    "Suppose the following input is supplied to the program:  \n",
    "Hello world  \n",
    "Practice makes perfect  \n",
    "  \n",
    "Then, the output should be:  \n",
    "HELLO WORLD  \n",
    "PRACTICE MAKES PERFECT"
   ]
  },
  {
   "cell_type": "code",
   "execution_count": 147,
   "metadata": {},
   "outputs": [
    {
     "name": "stdout",
     "output_type": "stream",
     "text": [
      "HELLO WORLD\n",
      "PRACTICE MAKES PERFECT\n"
     ]
    }
   ],
   "source": [
    "def make_allcaps(lines):\n",
    "    uppers = np.char.upper(lines)\n",
    "    return uppers\n",
    "\n",
    "def print_lines(upper):\n",
    "    for element in upper:\n",
    "        print element\n",
    "\n",
    "\n",
    "lines = np.array([('Hello world'), ('Practice makes perfect')])\n",
    "upper = make_allcaps(lines)\n",
    "print_lines(upper)"
   ]
  },
  {
   "cell_type": "markdown",
   "metadata": {},
   "source": [
    "**Question:**  \n",
    "Write a program that accepts a sequence of whitespace separated words as input and prints the words after removing all duplicate words and sorting them alphanumerically.  \n",
    "  \n",
    "Suppose the following input is supplied to the program:  \n",
    "hello world and practice makes perfect and hello world again  \n",
    "Then, the output should be:  \n",
    "again and hello makes perfect practice world"
   ]
  },
  {
   "cell_type": "code",
   "execution_count": 154,
   "metadata": {},
   "outputs": [
    {
     "data": {
      "text/plain": [
       "'again and hello makes perfect practice world'"
      ]
     },
     "execution_count": 154,
     "metadata": {},
     "output_type": "execute_result"
    }
   ],
   "source": [
    "s = 'hello world and practice makes perfect and hello world again'\n",
    "\n",
    "def del_dups_alphabetize(sentence):\n",
    "    white_space_remove = sentence.split(' ')\n",
    "    del_dups = list(set(white_space_remove))\n",
    "    alpha_sort = alphabetize(del_dups) # See above\n",
    "    add_white_space = ' '.join(alpha_sort)   \n",
    "    return add_white_space\n",
    "    \n",
    "del_dups_alphabetize(s)\n",
    "    "
   ]
  },
  {
   "cell_type": "markdown",
   "metadata": {},
   "source": [
    "**Question:**  \n",
    "Write a program which accepts a sequence of comma separated 4 digit binary numbers as its input and then check whether they are divisible by 5 or not. The numbers that are divisible by 5 are to be printed in a comma separated sequence.  \n",
    "  \n",
    "Example:  \n",
    "0100,0011,1010,1001  \n",
    "  \n",
    "Then the output should be:  \n",
    "1010  \n"
   ]
  },
  {
   "cell_type": "code",
   "execution_count": null,
   "metadata": {
    "collapsed": true
   },
   "outputs": [],
   "source": []
  },
  {
   "cell_type": "markdown",
   "metadata": {},
   "source": [
    "**Question:**  \n",
    "The Fibonacci Sequence is computed based on the following formula:  \n",
    "\n",
    "f(n)=0 if n=0  \n",
    "f(n)=1 if n=1  \n",
    "f(n)=f(n-1)+f(n-2) if n>1  \n",
    "  \n",
    "Please write a program to compute the value of f(n) with a given n input.  \n",
    "Example:  \n",
    "If the following n is given as input to the program:  \n",
    "7  \n",
    "  \n",
    "Then, the output of the program should be:  \n",
    "13\n",
    "  \n",
    "Hints:  \n",
    "We can define recursive function in Python."
   ]
  },
  {
   "cell_type": "code",
   "execution_count": 8,
   "metadata": {},
   "outputs": [
    {
     "name": "stdout",
     "output_type": "stream",
     "text": [
      "13\n",
      "120\n"
     ]
    }
   ],
   "source": [
    "#Fibonacci seq: 0, 1, 1, 2, 3, 5, 8, 13, 21, 34,... etc\n",
    "\n",
    "def fib(n):\n",
    "    if n == 0:\n",
    "        return n\n",
    "    elif n == 1:\n",
    "        return n\n",
    "    else:\n",
    "        fibonacci = fib(n-1) + fib(n-2)\n",
    "        return fibonacci\n",
    "\n",
    "print fib(7)\n",
    "\n",
    "# For more recursion practice: Factorial\n",
    "\n",
    "def factorial(n):\n",
    "    if n == 1:\n",
    "        return n\n",
    "    else:\n",
    "        return n*factorial(n-1)\n",
    "\n",
    "print factorial(5)"
   ]
  },
  {
   "cell_type": "markdown",
   "metadata": {},
   "source": [
    "**Question:**  \n",
    "  \n",
    "Write a program to solve a classic ancient Chinese puzzle:  \n",
    "We count 35 heads and 94 legs among the chickens and rabbits in a farm. How many rabbits and how many chickens do we have?"
   ]
  },
  {
   "cell_type": "code",
   "execution_count": null,
   "metadata": {
    "collapsed": true
   },
   "outputs": [],
   "source": []
  }
 ],
 "metadata": {
  "kernelspec": {
   "display_name": "Python 2",
   "language": "python",
   "name": "python2"
  },
  "language_info": {
   "codemirror_mode": {
    "name": "ipython",
    "version": 2
   },
   "file_extension": ".py",
   "mimetype": "text/x-python",
   "name": "python",
   "nbconvert_exporter": "python",
   "pygments_lexer": "ipython2",
   "version": "2.7.13"
  }
 },
 "nbformat": 4,
 "nbformat_minor": 2
}
