{
 "cells": [
  {
   "cell_type": "code",
   "execution_count": 45,
   "metadata": {},
   "outputs": [],
   "source": [
    "def findNumber(arr, k):\n",
    "    \n",
    "    sorted_arr = sorted(arr)\n",
    "    print sorted_arr\n",
    "    maximum = 1\n",
    "    for x in sorted_arr:\n",
    "        if k == x:\n",
    "            return \"YES\"\n",
    "        if x >= maximum:\n",
    "            if maximum > k:\n",
    "                return \"NO\"\n",
    "        else:\n",
    "            maximum = x\n",
    "    \n",
    "    return \"NO\""
   ]
  },
  {
   "cell_type": "code",
   "execution_count": 44,
   "metadata": {},
   "outputs": [],
   "source": [
    "def  oddNumbers(l, r):\n",
    "    \n",
    "    l = range(l, r+1, 1)\n",
    "    print l\n",
    "    odds = []\n",
    "    for number in l:\n",
    "        print number\n",
    "        if number%2 == 1:\n",
    "            odds.append(number)\n",
    "    return odds\n"
   ]
  },
  {
   "cell_type": "markdown",
   "metadata": {},
   "source": [
    "**Question**:\n",
    "Write a program which will find all such numbers which are divisible by 7 but are not a multiple of 5,\n",
    "between 2000 and 3200 (both included).\n",
    "The numbers obtained should be printed in a comma-separated sequence on a single line."
   ]
  },
  {
   "cell_type": "code",
   "execution_count": 37,
   "metadata": {},
   "outputs": [
    {
     "name": "stdout",
     "output_type": "stream",
     "text": [
      "(array([ 6, 13, 20, 27, 34, 41, 48, 55, 62, 69, 76, 83, 90, 97]),)\n",
      "[ 0  1  3  4  5  6  8  9 10 11 13]\n",
      "[ 6 13 27 34 41 48 62 69 76 83 97]\n",
      "[ 7 14 28 35 42 49 63 70 77 84 98]\n"
     ]
    }
   ],
   "source": [
    "import numpy as np\n",
    "\n",
    "def find_divisible(start, end):\n",
    "    \n",
    "    r = np.array(range(start, end+1, 1))\n",
    "    divide = np.where(r%7 == 0) #Find divisible by 7\n",
    "    not_multiple = np.where(divide[0]%5 != 0) #of those, which are not multiples of 5\n",
    "    both = divide[0][not_multiple[0]] #indices where both conditions are satisfied\n",
    "    return r[both]\n",
    "\n",
    "data = find_divisible(1, 100)\n",
    "print data"
   ]
  },
  {
   "cell_type": "markdown",
   "metadata": {},
   "source": [
    "**Question:**  \n",
    "Write a program which can compute the factorial of a given numbers.\n",
    "The results should be printed in a comma-separated sequence on a single line.\n",
    "Suppose the following input is supplied to the program:  \n",
    "8  \n",
    "Then, the output should be:  \n",
    "40320"
   ]
  },
  {
   "cell_type": "code",
   "execution_count": 43,
   "metadata": {},
   "outputs": [
    {
     "data": {
      "text/plain": [
       "40320"
      ]
     },
     "execution_count": 43,
     "metadata": {},
     "output_type": "execute_result"
    }
   ],
   "source": [
    "def find_factorial(number):\n",
    "    \n",
    "    fact = 1\n",
    "    sequence = range(1, number+1, 1)\n",
    "    for n in sequence:\n",
    "        fact = n*fact\n",
    "    return fact\n",
    "\n",
    "find_factorial(8)"
   ]
  },
  {
   "cell_type": "markdown",
   "metadata": {},
   "source": [
    "**Question:**  \n",
    "With a given integral number n, write a program to generate a dictionary that contains (i, i*i) such that is an integral number between 1 and n (both included). and then the program should print the dictionary.  \n",
    "Suppose the following input is supplied to the program:  \n",
    "8  \n",
    "Then, the output should be:  \n",
    "{1: 1, 2: 4, 3: 9, 4: 16, 5: 25, 6: 36, 7: 49, 8: 64}"
   ]
  },
  {
   "cell_type": "code",
   "execution_count": 49,
   "metadata": {},
   "outputs": [
    {
     "name": "stdout",
     "output_type": "stream",
     "text": [
      "{1: 1, 2: 4, 3: 9, 4: 16, 5: 25, 6: 36, 7: 49, 8: 64}\n",
      "{1: 1, 2: 4, 3: 9, 4: 16, 5: 25, 6: 36, 7: 49, 8: 64}\n"
     ]
    }
   ],
   "source": [
    "def find_squares(number):\n",
    "    \n",
    "    mapped_squares = {}\n",
    "    r = np.array(range(1, number+1, 1))\n",
    "    squares = r**2\n",
    "    for n, square in zip(r, squares):\n",
    "        mapped_squares[n] = square\n",
    "    return mapped_squares\n",
    "\n",
    "one = find_squares(8)\n",
    "print one\n",
    "\n",
    "#Alternatively:\n",
    "\n",
    "def find_squares_2(number):\n",
    "    \n",
    "    r = np.array(range(1, number+1, 1))\n",
    "    squares = r**2\n",
    "    return dict(zip(r, squares))\n",
    "\n",
    "two = find_squares_2(8)\n",
    "print two"
   ]
  },
  {
   "cell_type": "markdown",
   "metadata": {},
   "source": [
    "**Question:**  \n",
    "Define a class which has at least two methods:  \n",
    "getString: to get a string from console input  \n",
    "printString: to print the string in upper case.  \n",
    "Also please include simple test function to test the class methods.  \n",
    "\n",
    "Hints:  \n",
    "Use __init__ method to construct some parameters"
   ]
  },
  {
   "cell_type": "code",
   "execution_count": 60,
   "metadata": {},
   "outputs": [
    {
     "name": "stdout",
     "output_type": "stream",
     "text": [
      "SDE\n"
     ]
    }
   ],
   "source": [
    "class String():\n",
    "    \n",
    "    def __init__(self):\n",
    "        self.s = ''\n",
    "    \n",
    "    def getString(self, _list):\n",
    "        self.s = ''.join(_list)\n",
    "        \n",
    "    def printString(self):\n",
    "        print self.s.upper()\n",
    "\n",
    "test_obj = String()\n",
    "test_obj.getString(['s','d','e'])\n",
    "test_obj.printString()\n"
   ]
  },
  {
   "cell_type": "code",
   "execution_count": null,
   "metadata": {
    "collapsed": true
   },
   "outputs": [],
   "source": []
  }
 ],
 "metadata": {
  "kernelspec": {
   "display_name": "Python 2",
   "language": "python",
   "name": "python2"
  },
  "language_info": {
   "codemirror_mode": {
    "name": "ipython",
    "version": 2
   },
   "file_extension": ".py",
   "mimetype": "text/x-python",
   "name": "python",
   "nbconvert_exporter": "python",
   "pygments_lexer": "ipython2",
   "version": "2.7.13"
  }
 },
 "nbformat": 4,
 "nbformat_minor": 2
}
