{
 "cells": [
  {
   "cell_type": "code",
   "execution_count": 7,
   "metadata": {
    "collapsed": false
   },
   "outputs": [],
   "source": [
    "%matplotlib inline\n",
    "import pandas_datareader as pdr\n",
    "import pandas as pd\n",
    "import datetime\n",
    "import matplotlib.pyplot as plt\n",
    "import numpy as np\n",
    "\n",
    "\n",
    "#aapl = pdr.get_data_yahoo('AAPL', \n",
    "                          #start=datetime.datetime(2006, 10, 1), \n",
    "                          #end=datetime.datetime(2012, 1, 1))\n",
    "#Note, see below\n",
    "        \n",
    "aapl = pd.read_csv(\"https://s3.amazonaws.com/assets.datacamp.com/blog_assets/aapl.csv\", header=0, index_col= 0, names=['Open', 'High', 'Low', 'Close', 'Volume', 'Adj Close'], parse_dates=True)"
   ]
  },
  {
   "cell_type": "markdown",
   "metadata": {},
   "source": [
    "Note that the Yahoo API endpoint has recently changed and that, if you want to already start working with the library on your own, you’ll need to install a temporary fix until the patch has been merged into the master brach to start pulling in data from Yahoo! Finance with pandas-datareader. Make sure to read up on the issue here before you start on your own!"
   ]
  },
  {
   "cell_type": "code",
   "execution_count": 8,
   "metadata": {
    "collapsed": false
   },
   "outputs": [
    {
     "data": {
      "text/html": [
       "<div>\n",
       "<style>\n",
       "    .dataframe thead tr:only-child th {\n",
       "        text-align: right;\n",
       "    }\n",
       "\n",
       "    .dataframe thead th {\n",
       "        text-align: left;\n",
       "    }\n",
       "\n",
       "    .dataframe tbody tr th {\n",
       "        vertical-align: top;\n",
       "    }\n",
       "</style>\n",
       "<table border=\"1\" class=\"dataframe\">\n",
       "  <thead>\n",
       "    <tr style=\"text-align: right;\">\n",
       "      <th></th>\n",
       "      <th>Open</th>\n",
       "      <th>High</th>\n",
       "      <th>Low</th>\n",
       "      <th>Close</th>\n",
       "      <th>Volume</th>\n",
       "      <th>Adj Close</th>\n",
       "    </tr>\n",
       "  </thead>\n",
       "  <tbody>\n",
       "    <tr>\n",
       "      <th>2006-10-02</th>\n",
       "      <td>75.10</td>\n",
       "      <td>75.87</td>\n",
       "      <td>74.30</td>\n",
       "      <td>74.860001</td>\n",
       "      <td>178159800.0</td>\n",
       "      <td>10.694285</td>\n",
       "    </tr>\n",
       "    <tr>\n",
       "      <th>2006-10-03</th>\n",
       "      <td>74.45</td>\n",
       "      <td>74.95</td>\n",
       "      <td>73.19</td>\n",
       "      <td>74.080002</td>\n",
       "      <td>197677200.0</td>\n",
       "      <td>10.582857</td>\n",
       "    </tr>\n",
       "    <tr>\n",
       "      <th>2006-10-04</th>\n",
       "      <td>74.10</td>\n",
       "      <td>75.46</td>\n",
       "      <td>73.16</td>\n",
       "      <td>75.380005</td>\n",
       "      <td>207270700.0</td>\n",
       "      <td>10.768572</td>\n",
       "    </tr>\n",
       "    <tr>\n",
       "      <th>2006-10-05</th>\n",
       "      <td>74.53</td>\n",
       "      <td>76.16</td>\n",
       "      <td>74.13</td>\n",
       "      <td>74.829994</td>\n",
       "      <td>170970800.0</td>\n",
       "      <td>10.690000</td>\n",
       "    </tr>\n",
       "    <tr>\n",
       "      <th>2006-10-06</th>\n",
       "      <td>74.42</td>\n",
       "      <td>75.04</td>\n",
       "      <td>73.81</td>\n",
       "      <td>74.220001</td>\n",
       "      <td>116739700.0</td>\n",
       "      <td>10.602858</td>\n",
       "    </tr>\n",
       "  </tbody>\n",
       "</table>\n",
       "</div>"
      ],
      "text/plain": [
       "             Open   High    Low      Close       Volume  Adj Close\n",
       "2006-10-02  75.10  75.87  74.30  74.860001  178159800.0  10.694285\n",
       "2006-10-03  74.45  74.95  73.19  74.080002  197677200.0  10.582857\n",
       "2006-10-04  74.10  75.46  73.16  75.380005  207270700.0  10.768572\n",
       "2006-10-05  74.53  76.16  74.13  74.829994  170970800.0  10.690000\n",
       "2006-10-06  74.42  75.04  73.81  74.220001  116739700.0  10.602858"
      ]
     },
     "execution_count": 8,
     "metadata": {},
     "output_type": "execute_result"
    }
   ],
   "source": [
    "aapl.head()"
   ]
  },
  {
   "cell_type": "code",
   "execution_count": 9,
   "metadata": {
    "collapsed": false
   },
   "outputs": [
    {
     "data": {
      "text/html": [
       "<div>\n",
       "<style>\n",
       "    .dataframe thead tr:only-child th {\n",
       "        text-align: right;\n",
       "    }\n",
       "\n",
       "    .dataframe thead th {\n",
       "        text-align: left;\n",
       "    }\n",
       "\n",
       "    .dataframe tbody tr th {\n",
       "        vertical-align: top;\n",
       "    }\n",
       "</style>\n",
       "<table border=\"1\" class=\"dataframe\">\n",
       "  <thead>\n",
       "    <tr style=\"text-align: right;\">\n",
       "      <th></th>\n",
       "      <th>Open</th>\n",
       "      <th>High</th>\n",
       "      <th>Low</th>\n",
       "      <th>Close</th>\n",
       "      <th>Volume</th>\n",
       "      <th>Adj Close</th>\n",
       "    </tr>\n",
       "  </thead>\n",
       "  <tbody>\n",
       "    <tr>\n",
       "      <th>2011-12-23</th>\n",
       "      <td>399.69</td>\n",
       "      <td>403.59</td>\n",
       "      <td>399.49</td>\n",
       "      <td>403.330017</td>\n",
       "      <td>67349800.0</td>\n",
       "      <td>57.618572</td>\n",
       "    </tr>\n",
       "    <tr>\n",
       "      <th>2011-12-27</th>\n",
       "      <td>403.10</td>\n",
       "      <td>409.09</td>\n",
       "      <td>403.02</td>\n",
       "      <td>406.529999</td>\n",
       "      <td>66269000.0</td>\n",
       "      <td>58.075714</td>\n",
       "    </tr>\n",
       "    <tr>\n",
       "      <th>2011-12-28</th>\n",
       "      <td>406.89</td>\n",
       "      <td>408.25</td>\n",
       "      <td>401.34</td>\n",
       "      <td>402.640015</td>\n",
       "      <td>57165500.0</td>\n",
       "      <td>57.520000</td>\n",
       "    </tr>\n",
       "    <tr>\n",
       "      <th>2011-12-29</th>\n",
       "      <td>403.40</td>\n",
       "      <td>405.65</td>\n",
       "      <td>400.51</td>\n",
       "      <td>405.119995</td>\n",
       "      <td>53994500.0</td>\n",
       "      <td>57.874287</td>\n",
       "    </tr>\n",
       "    <tr>\n",
       "      <th>2011-12-30</th>\n",
       "      <td>403.51</td>\n",
       "      <td>406.28</td>\n",
       "      <td>403.49</td>\n",
       "      <td>405.000000</td>\n",
       "      <td>44915500.0</td>\n",
       "      <td>57.857143</td>\n",
       "    </tr>\n",
       "  </tbody>\n",
       "</table>\n",
       "</div>"
      ],
      "text/plain": [
       "              Open    High     Low       Close      Volume  Adj Close\n",
       "2011-12-23  399.69  403.59  399.49  403.330017  67349800.0  57.618572\n",
       "2011-12-27  403.10  409.09  403.02  406.529999  66269000.0  58.075714\n",
       "2011-12-28  406.89  408.25  401.34  402.640015  57165500.0  57.520000\n",
       "2011-12-29  403.40  405.65  400.51  405.119995  53994500.0  57.874287\n",
       "2011-12-30  403.51  406.28  403.49  405.000000  44915500.0  57.857143"
      ]
     },
     "execution_count": 9,
     "metadata": {},
     "output_type": "execute_result"
    }
   ],
   "source": [
    "aapl.tail()"
   ]
  },
  {
   "cell_type": "code",
   "execution_count": 10,
   "metadata": {
    "collapsed": false
   },
   "outputs": [
    {
     "data": {
      "text/html": [
       "<div>\n",
       "<style>\n",
       "    .dataframe thead tr:only-child th {\n",
       "        text-align: right;\n",
       "    }\n",
       "\n",
       "    .dataframe thead th {\n",
       "        text-align: left;\n",
       "    }\n",
       "\n",
       "    .dataframe tbody tr th {\n",
       "        vertical-align: top;\n",
       "    }\n",
       "</style>\n",
       "<table border=\"1\" class=\"dataframe\">\n",
       "  <thead>\n",
       "    <tr style=\"text-align: right;\">\n",
       "      <th></th>\n",
       "      <th>Open</th>\n",
       "      <th>High</th>\n",
       "      <th>Low</th>\n",
       "      <th>Close</th>\n",
       "      <th>Volume</th>\n",
       "      <th>Adj Close</th>\n",
       "    </tr>\n",
       "  </thead>\n",
       "  <tbody>\n",
       "    <tr>\n",
       "      <th>count</th>\n",
       "      <td>1323.000000</td>\n",
       "      <td>1323.000000</td>\n",
       "      <td>1323.000000</td>\n",
       "      <td>1323.000000</td>\n",
       "      <td>1.323000e+03</td>\n",
       "      <td>1323.000000</td>\n",
       "    </tr>\n",
       "    <tr>\n",
       "      <th>mean</th>\n",
       "      <td>202.307082</td>\n",
       "      <td>204.662963</td>\n",
       "      <td>199.553787</td>\n",
       "      <td>202.224059</td>\n",
       "      <td>1.882896e+08</td>\n",
       "      <td>28.889151</td>\n",
       "    </tr>\n",
       "    <tr>\n",
       "      <th>std</th>\n",
       "      <td>98.861918</td>\n",
       "      <td>99.393085</td>\n",
       "      <td>98.208308</td>\n",
       "      <td>98.838135</td>\n",
       "      <td>1.027007e+08</td>\n",
       "      <td>14.119734</td>\n",
       "    </tr>\n",
       "    <tr>\n",
       "      <th>min</th>\n",
       "      <td>73.420000</td>\n",
       "      <td>73.980000</td>\n",
       "      <td>72.600000</td>\n",
       "      <td>73.230003</td>\n",
       "      <td>3.937360e+07</td>\n",
       "      <td>10.461429</td>\n",
       "    </tr>\n",
       "    <tr>\n",
       "      <th>25%</th>\n",
       "      <td>122.205000</td>\n",
       "      <td>124.270000</td>\n",
       "      <td>120.275000</td>\n",
       "      <td>122.020001</td>\n",
       "      <td>1.122037e+08</td>\n",
       "      <td>17.431429</td>\n",
       "    </tr>\n",
       "    <tr>\n",
       "      <th>50%</th>\n",
       "      <td>176.820000</td>\n",
       "      <td>179.500000</td>\n",
       "      <td>173.080000</td>\n",
       "      <td>175.840012</td>\n",
       "      <td>1.629866e+08</td>\n",
       "      <td>25.120001</td>\n",
       "    </tr>\n",
       "    <tr>\n",
       "      <th>75%</th>\n",
       "      <td>271.440000</td>\n",
       "      <td>273.930000</td>\n",
       "      <td>268.460000</td>\n",
       "      <td>270.899994</td>\n",
       "      <td>2.316230e+08</td>\n",
       "      <td>38.699999</td>\n",
       "    </tr>\n",
       "    <tr>\n",
       "      <th>max</th>\n",
       "      <td>421.760000</td>\n",
       "      <td>426.700000</td>\n",
       "      <td>415.990000</td>\n",
       "      <td>422.239990</td>\n",
       "      <td>8.432424e+08</td>\n",
       "      <td>60.320000</td>\n",
       "    </tr>\n",
       "  </tbody>\n",
       "</table>\n",
       "</div>"
      ],
      "text/plain": [
       "              Open         High          Low        Close        Volume  \\\n",
       "count  1323.000000  1323.000000  1323.000000  1323.000000  1.323000e+03   \n",
       "mean    202.307082   204.662963   199.553787   202.224059  1.882896e+08   \n",
       "std      98.861918    99.393085    98.208308    98.838135  1.027007e+08   \n",
       "min      73.420000    73.980000    72.600000    73.230003  3.937360e+07   \n",
       "25%     122.205000   124.270000   120.275000   122.020001  1.122037e+08   \n",
       "50%     176.820000   179.500000   173.080000   175.840012  1.629866e+08   \n",
       "75%     271.440000   273.930000   268.460000   270.899994  2.316230e+08   \n",
       "max     421.760000   426.700000   415.990000   422.239990  8.432424e+08   \n",
       "\n",
       "         Adj Close  \n",
       "count  1323.000000  \n",
       "mean     28.889151  \n",
       "std      14.119734  \n",
       "min      10.461429  \n",
       "25%      17.431429  \n",
       "50%      25.120001  \n",
       "75%      38.699999  \n",
       "max      60.320000  "
      ]
     },
     "execution_count": 10,
     "metadata": {},
     "output_type": "execute_result"
    }
   ],
   "source": [
    "aapl.describe()"
   ]
  },
  {
   "cell_type": "code",
   "execution_count": 11,
   "metadata": {
    "collapsed": false
   },
   "outputs": [
    {
     "data": {
      "text/plain": [
       "DatetimeIndex(['2006-10-02', '2006-10-03', '2006-10-04', '2006-10-05',\n",
       "               '2006-10-06', '2006-10-09', '2006-10-10', '2006-10-11',\n",
       "               '2006-10-12', '2006-10-13',\n",
       "               ...\n",
       "               '2011-12-16', '2011-12-19', '2011-12-20', '2011-12-21',\n",
       "               '2011-12-22', '2011-12-23', '2011-12-27', '2011-12-28',\n",
       "               '2011-12-29', '2011-12-30'],\n",
       "              dtype='datetime64[ns]', length=1323, freq=None)"
      ]
     },
     "execution_count": 11,
     "metadata": {},
     "output_type": "execute_result"
    }
   ],
   "source": [
    "aapl.index"
   ]
  },
  {
   "cell_type": "code",
   "execution_count": 12,
   "metadata": {
    "collapsed": false
   },
   "outputs": [
    {
     "data": {
      "text/plain": [
       "Index([u'Open', u'High', u'Low', u'Close', u'Volume', u'Adj Close'], dtype='object')"
      ]
     },
     "execution_count": 12,
     "metadata": {},
     "output_type": "execute_result"
    }
   ],
   "source": [
    "aapl.columns"
   ]
  },
  {
   "cell_type": "code",
   "execution_count": 15,
   "metadata": {
    "collapsed": false
   },
   "outputs": [
    {
     "data": {
      "text/plain": [
       "2011-12-16    381.019989\n",
       "2011-12-19    382.209991\n",
       "2011-12-20    395.950012\n",
       "2011-12-21    396.450012\n",
       "2011-12-22    398.549988\n",
       "2011-12-23    403.330017\n",
       "2011-12-27    406.529999\n",
       "2011-12-28    402.640015\n",
       "2011-12-29    405.119995\n",
       "2011-12-30    405.000000\n",
       "Name: Close, dtype: float64"
      ]
     },
     "execution_count": 15,
     "metadata": {},
     "output_type": "execute_result"
    }
   ],
   "source": [
    "last_ten_rows = aapl.Close[-10:]\n",
    "last_ten_rows"
   ]
  },
  {
   "cell_type": "code",
   "execution_count": 16,
   "metadata": {
    "collapsed": false
   },
   "outputs": [
    {
     "data": {
      "text/plain": [
       "pandas.core.series.Series"
      ]
     },
     "execution_count": 16,
     "metadata": {},
     "output_type": "execute_result"
    }
   ],
   "source": [
    "type(last_ten_rows)"
   ]
  },
  {
   "cell_type": "code",
   "execution_count": 17,
   "metadata": {
    "collapsed": false
   },
   "outputs": [
    {
     "name": "stdout",
     "output_type": "stream",
     "text": [
      "             Open   High    Low      Close       Volume  Adj Close\n",
      "2006-11-01  81.10  81.38  78.36  79.160004  152798100.0  11.308572\n",
      "2006-11-02  78.92  79.32  78.50  78.979996  116370800.0  11.282857\n",
      "2006-11-03  79.36  79.53  77.79  78.290001  107972200.0  11.184286\n",
      "2006-11-06  78.95  80.06  78.43  79.709999  108644200.0  11.387143\n",
      "2006-11-07  80.45  81.00  80.13  80.510002  131483100.0  11.501429\n"
     ]
    }
   ],
   "source": [
    "#Inspect first rows of Nov-Dec 2006\n",
    "print(aapl.loc[pd.Timestamp(\"2006-11-01\"):pd.Timestamp('2006-12-31')]).head()"
   ]
  },
  {
   "cell_type": "code",
   "execution_count": 18,
   "metadata": {
    "collapsed": false
   },
   "outputs": [
    {
     "name": "stdout",
     "output_type": "stream",
     "text": [
      "             Open   High    Low      Close       Volume  Adj Close\n",
      "2007-01-03  86.29  86.58  81.90  83.800003  309579900.0  11.971429\n",
      "2007-01-04  84.05  85.95  83.82  85.659996  211815100.0  12.237143\n",
      "2007-01-05  85.77  86.20  84.40  85.049995  208685400.0  12.150000\n",
      "2007-01-08  85.96  86.53  85.28  85.470001  199276700.0  12.210000\n",
      "2007-01-09  86.45  92.98  85.15  92.570000  837324600.0  13.224286\n"
     ]
    }
   ],
   "source": [
    "#Inspect the first rows of 2007\n",
    "print(aapl.loc[\"2007\"].head())"
   ]
  },
  {
   "cell_type": "code",
   "execution_count": 19,
   "metadata": {
    "collapsed": false
   },
   "outputs": [
    {
     "name": "stdout",
     "output_type": "stream",
     "text": [
      "             Open   High    Low      Close       Volume  Adj Close\n",
      "2006-11-01  81.10  81.38  78.36  79.160004  152798100.0  11.308572\n",
      "2006-11-02  78.92  79.32  78.50  78.979996  116370800.0  11.282857\n",
      "2006-11-03  79.36  79.53  77.79  78.290001  107972200.0  11.184286\n",
      "2006-11-06  78.95  80.06  78.43  79.709999  108644200.0  11.387143\n",
      "2006-11-07  80.45  81.00  80.13  80.510002  131483100.0  11.501429\n",
      "2006-11-08  80.02  82.69  79.89  82.449997  172729200.0  11.778571\n",
      "2006-11-09  82.90  84.69  82.12  83.339996  230763400.0  11.905714\n",
      "2006-11-10  83.55  83.60  82.50  83.120003   93466100.0  11.874286\n",
      "2006-11-13  83.22  84.45  82.64  84.349998  112668500.0  12.050000\n",
      "2006-11-14  84.80  85.00  83.90  85.000000  147238700.0  12.142858\n",
      "2006-11-15  85.05  85.90  84.00  84.050003  163830800.0  12.007143\n",
      "2006-11-16  84.87  86.30  84.62  85.610001  173485200.0  12.230000\n",
      "2006-11-17  85.14  85.94  85.00  85.850006  116606000.0  12.264286\n",
      "2006-11-20  85.40  87.00  85.20  86.470001  142698500.0  12.352858\n",
      "2006-11-21  87.42  88.60  87.11  88.599998  155666700.0  12.657143\n",
      "2006-11-22  88.99  90.75  87.85  90.309998  167985300.0  12.901428\n",
      "2006-11-24  89.53  93.08  89.50  91.630005  129669400.0  13.090000\n",
      "2006-11-27  92.51  93.16  89.50  89.540001  268709000.0  12.791429\n",
      "2006-11-28  90.36  91.97  89.91  91.809998  259043400.0  13.115714\n",
      "2006-11-29  93.00  93.15  90.25  91.799995  289270800.0  13.114285\n",
      "2006-11-30  92.21  92.68  91.06  91.660004  217621600.0  13.094286\n"
     ]
    }
   ],
   "source": [
    "#Inspect November 2006 using positinal indexing\n",
    "print(aapl.iloc[22:43])"
   ]
  },
  {
   "cell_type": "code",
   "execution_count": 20,
   "metadata": {
    "collapsed": false
   },
   "outputs": [
    {
     "name": "stdout",
     "output_type": "stream",
     "text": [
      "            Open      Close\n",
      "2006-11-01  81.1  79.160004\n",
      "2006-12-01  91.8  91.320000\n"
     ]
    }
   ],
   "source": [
    "#Inspect the Open and Close values for 2006-11-01 and 2006-12-01\n",
    "print(aapl.iloc[[22,43],[0,3]])"
   ]
  },
  {
   "cell_type": "code",
   "execution_count": 27,
   "metadata": {
    "collapsed": false
   },
   "outputs": [
    {
     "name": "stdout",
     "output_type": "stream",
     "text": [
      "             Open      Close\n",
      "2006-11-01  81.10  79.160004\n",
      "2006-11-02  78.92  78.979996\n",
      "2006-11-03  79.36  78.290001\n",
      "2006-11-06  78.95  79.709999\n",
      "2006-11-07  80.45  80.510002\n",
      "2006-11-08  80.02  82.449997\n",
      "2006-11-09  82.90  83.339996\n",
      "2006-11-10  83.55  83.120003\n",
      "2006-11-13  83.22  84.349998\n",
      "2006-11-14  84.80  85.000000\n",
      "2006-11-15  85.05  84.050003\n",
      "2006-11-16  84.87  85.610001\n",
      "2006-11-17  85.14  85.850006\n",
      "2006-11-20  85.40  86.470001\n",
      "2006-11-21  87.42  88.599998\n",
      "2006-11-22  88.99  90.309998\n",
      "2006-11-24  89.53  91.630005\n",
      "2006-11-27  92.51  89.540001\n",
      "2006-11-28  90.36  91.809998\n",
      "2006-11-29  93.00  91.799995\n",
      "2006-11-30  92.21  91.660004\n"
     ]
    }
   ],
   "source": [
    "#Inspect the Open and Close values for November\n",
    "print(aapl.iloc[22:43, [0,3]])"
   ]
  },
  {
   "cell_type": "code",
   "execution_count": 28,
   "metadata": {
    "collapsed": false
   },
   "outputs": [
    {
     "name": "stdout",
     "output_type": "stream",
     "text": [
      "              Open    High     Low       Close       Volume  Adj Close\n",
      "2007-07-06  133.13  133.34  130.40  132.300003  218673700.0  18.900000\n",
      "2009-08-10  165.66  166.60  163.66  164.720001   75073600.0  23.531429\n",
      "2010-01-06  214.38  215.23  210.75  210.970001  138040000.0  30.138571\n",
      "2008-11-28   94.70   94.76   91.86   92.669998   74443600.0  13.238571\n",
      "2010-07-06  251.00  252.80  246.16  248.629990  153808900.0  35.518570\n",
      "2009-05-22  124.05  124.18  121.75  122.500000   74499600.0  17.500000\n",
      "2011-08-03  390.98  393.55  382.24  392.570007  183127000.0  56.081429\n",
      "2011-06-24  331.37  333.15  325.09  326.350006  109951800.0  46.621429\n",
      "2007-08-06  132.90  135.27  128.30  135.250000  231292600.0  19.321428\n",
      "2008-08-19  174.54  177.07  171.81  173.529999  154051100.0  24.790001\n",
      "2010-05-28  259.39  259.40  253.35  256.880005  203903700.0  36.697144\n",
      "2011-02-09  355.19  359.00  354.87  358.160004  120686300.0  51.165714\n",
      "2007-02-15   85.44   85.62   84.78   85.209999   90915300.0  12.172857\n",
      "2010-06-07  258.29  259.15  250.55  250.940002  221735500.0  35.848572\n",
      "2011-04-21  355.00  355.13  348.52  350.699982  188452600.0  50.099998\n",
      "2011-07-26  400.00  404.50  399.68  403.410004  119145600.0  57.630001\n",
      "2010-11-30  313.54  314.36  310.87  311.149994  125464500.0  44.450001\n",
      "2008-02-06  130.83  131.92  121.77  122.000000  393318100.0  17.428572\n",
      "2007-05-11  107.74  109.13  106.78  108.739998  163424100.0  15.534286\n",
      "2008-06-19  178.55  182.34  176.80  180.899994  197987300.0  25.842857\n"
     ]
    }
   ],
   "source": [
    "sample = aapl.sample(20)\n",
    "print sample"
   ]
  },
  {
   "cell_type": "code",
   "execution_count": 31,
   "metadata": {
    "collapsed": false
   },
   "outputs": [
    {
     "data": {
      "text/html": [
       "<div>\n",
       "<style>\n",
       "    .dataframe thead tr:only-child th {\n",
       "        text-align: right;\n",
       "    }\n",
       "\n",
       "    .dataframe thead th {\n",
       "        text-align: left;\n",
       "    }\n",
       "\n",
       "    .dataframe tbody tr th {\n",
       "        vertical-align: top;\n",
       "    }\n",
       "</style>\n",
       "<table border=\"1\" class=\"dataframe\">\n",
       "  <thead>\n",
       "    <tr style=\"text-align: right;\">\n",
       "      <th></th>\n",
       "      <th>Open</th>\n",
       "      <th>High</th>\n",
       "      <th>Low</th>\n",
       "      <th>Close</th>\n",
       "      <th>Volume</th>\n",
       "      <th>Adj Close</th>\n",
       "    </tr>\n",
       "  </thead>\n",
       "  <tbody>\n",
       "    <tr>\n",
       "      <th>2006-10-31</th>\n",
       "      <td>77.020455</td>\n",
       "      <td>77.866364</td>\n",
       "      <td>76.251818</td>\n",
       "      <td>77.125909</td>\n",
       "      <td>1.634995e+08</td>\n",
       "      <td>11.017987</td>\n",
       "    </tr>\n",
       "    <tr>\n",
       "      <th>2006-11-30</th>\n",
       "      <td>85.130952</td>\n",
       "      <td>86.202381</td>\n",
       "      <td>84.202857</td>\n",
       "      <td>85.344762</td>\n",
       "      <td>1.647010e+08</td>\n",
       "      <td>12.192109</td>\n",
       "    </tr>\n",
       "    <tr>\n",
       "      <th>2006-12-31</th>\n",
       "      <td>86.911000</td>\n",
       "      <td>87.825500</td>\n",
       "      <td>85.439000</td>\n",
       "      <td>86.471500</td>\n",
       "      <td>2.111349e+08</td>\n",
       "      <td>12.353071</td>\n",
       "    </tr>\n",
       "    <tr>\n",
       "      <th>2007-01-31</th>\n",
       "      <td>89.056500</td>\n",
       "      <td>90.166000</td>\n",
       "      <td>87.658000</td>\n",
       "      <td>88.881499</td>\n",
       "      <td>3.401223e+08</td>\n",
       "      <td>12.697357</td>\n",
       "    </tr>\n",
       "    <tr>\n",
       "      <th>2007-02-28</th>\n",
       "      <td>85.764737</td>\n",
       "      <td>86.680526</td>\n",
       "      <td>84.782632</td>\n",
       "      <td>85.727895</td>\n",
       "      <td>1.805573e+08</td>\n",
       "      <td>12.246842</td>\n",
       "    </tr>\n",
       "  </tbody>\n",
       "</table>\n",
       "</div>"
      ],
      "text/plain": [
       "                 Open       High        Low      Close        Volume  \\\n",
       "2006-10-31  77.020455  77.866364  76.251818  77.125909  1.634995e+08   \n",
       "2006-11-30  85.130952  86.202381  84.202857  85.344762  1.647010e+08   \n",
       "2006-12-31  86.911000  87.825500  85.439000  86.471500  2.111349e+08   \n",
       "2007-01-31  89.056500  90.166000  87.658000  88.881499  3.401223e+08   \n",
       "2007-02-28  85.764737  86.680526  84.782632  85.727895  1.805573e+08   \n",
       "\n",
       "            Adj Close  \n",
       "2006-10-31  11.017987  \n",
       "2006-11-30  12.192109  \n",
       "2006-12-31  12.353071  \n",
       "2007-01-31  12.697357  \n",
       "2007-02-28  12.246842  "
      ]
     },
     "execution_count": 31,
     "metadata": {},
     "output_type": "execute_result"
    }
   ],
   "source": [
    "monthly_aapl = aapl.resample(\"M\").mean()\n",
    "monthly_aapl.head()"
   ]
  },
  {
   "cell_type": "code",
   "execution_count": 33,
   "metadata": {
    "collapsed": false
   },
   "outputs": [
    {
     "data": {
      "text/html": [
       "<div>\n",
       "<style>\n",
       "    .dataframe thead tr:only-child th {\n",
       "        text-align: right;\n",
       "    }\n",
       "\n",
       "    .dataframe thead th {\n",
       "        text-align: left;\n",
       "    }\n",
       "\n",
       "    .dataframe tbody tr th {\n",
       "        vertical-align: top;\n",
       "    }\n",
       "</style>\n",
       "<table border=\"1\" class=\"dataframe\">\n",
       "  <thead>\n",
       "    <tr style=\"text-align: right;\">\n",
       "      <th></th>\n",
       "      <th>Open</th>\n",
       "      <th>High</th>\n",
       "      <th>Low</th>\n",
       "      <th>Close</th>\n",
       "      <th>Volume</th>\n",
       "      <th>Adj Close</th>\n",
       "      <th>diff</th>\n",
       "    </tr>\n",
       "  </thead>\n",
       "  <tbody>\n",
       "    <tr>\n",
       "      <th>2006-10-02</th>\n",
       "      <td>75.10</td>\n",
       "      <td>75.87</td>\n",
       "      <td>74.30</td>\n",
       "      <td>74.860001</td>\n",
       "      <td>178159800.0</td>\n",
       "      <td>10.694285</td>\n",
       "      <td>-0.239999</td>\n",
       "    </tr>\n",
       "    <tr>\n",
       "      <th>2006-10-03</th>\n",
       "      <td>74.45</td>\n",
       "      <td>74.95</td>\n",
       "      <td>73.19</td>\n",
       "      <td>74.080002</td>\n",
       "      <td>197677200.0</td>\n",
       "      <td>10.582857</td>\n",
       "      <td>-0.369998</td>\n",
       "    </tr>\n",
       "    <tr>\n",
       "      <th>2006-10-04</th>\n",
       "      <td>74.10</td>\n",
       "      <td>75.46</td>\n",
       "      <td>73.16</td>\n",
       "      <td>75.380005</td>\n",
       "      <td>207270700.0</td>\n",
       "      <td>10.768572</td>\n",
       "      <td>1.280005</td>\n",
       "    </tr>\n",
       "    <tr>\n",
       "      <th>2006-10-05</th>\n",
       "      <td>74.53</td>\n",
       "      <td>76.16</td>\n",
       "      <td>74.13</td>\n",
       "      <td>74.829994</td>\n",
       "      <td>170970800.0</td>\n",
       "      <td>10.690000</td>\n",
       "      <td>0.299994</td>\n",
       "    </tr>\n",
       "    <tr>\n",
       "      <th>2006-10-06</th>\n",
       "      <td>74.42</td>\n",
       "      <td>75.04</td>\n",
       "      <td>73.81</td>\n",
       "      <td>74.220001</td>\n",
       "      <td>116739700.0</td>\n",
       "      <td>10.602858</td>\n",
       "      <td>-0.199999</td>\n",
       "    </tr>\n",
       "  </tbody>\n",
       "</table>\n",
       "</div>"
      ],
      "text/plain": [
       "             Open   High    Low      Close       Volume  Adj Close      diff\n",
       "2006-10-02  75.10  75.87  74.30  74.860001  178159800.0  10.694285 -0.239999\n",
       "2006-10-03  74.45  74.95  73.19  74.080002  197677200.0  10.582857 -0.369998\n",
       "2006-10-04  74.10  75.46  73.16  75.380005  207270700.0  10.768572  1.280005\n",
       "2006-10-05  74.53  76.16  74.13  74.829994  170970800.0  10.690000  0.299994\n",
       "2006-10-06  74.42  75.04  73.81  74.220001  116739700.0  10.602858 -0.199999"
      ]
     },
     "execution_count": 33,
     "metadata": {},
     "output_type": "execute_result"
    }
   ],
   "source": [
    "aapl[\"diff\"] = aapl[\"Close\"] - aapl[\"Open\"]\n",
    "aapl.head()"
   ]
  },
  {
   "cell_type": "code",
   "execution_count": 35,
   "metadata": {
    "collapsed": false
   },
   "outputs": [
    {
     "data": {
      "image/png": "[encoded data removed]",
      "text/plain": [
       "<matplotlib.figure.Figure at 0x109d3ad90>"
      ]
     },
     "metadata": {},
     "output_type": "display_data"
    }
   ],
   "source": [
    "aapl[\"Close\"].plot(grid=True)\n",
    "plt.xlabel(\"Time\")\n",
    "plt.ylabel(\"Close Price\")\n",
    "plt.show()"
   ]
  },
  {
   "cell_type": "markdown",
   "metadata": {},
   "source": [
    "# Common Financial Analysis\n",
    "\n",
    "## Part 1: Returns"
   ]
  },
  {
   "cell_type": "code",
   "execution_count": 38,
   "metadata": {
    "collapsed": false
   },
   "outputs": [
    {
     "data": {
      "image/png": "[encoded data removed]",
      "text/plain": [
       "<matplotlib.figure.Figure at 0x109ececd0>"
      ]
     },
     "metadata": {},
     "output_type": "display_data"
    }
   ],
   "source": [
    "#Daily percentage change\n",
    "daily_close = aapl[[\"Adj Close\"]]\n",
    "    #double brackets return it as a dataframe\n",
    "    \n",
    "daily_pct_change = daily_close.pct_change()\n",
    "daily_pct_change.fillna(0, inplace=True)\n",
    "daily_log_returns = np.log(daily_close.pct_change()+1)\n",
    "    #why plus 1?\n",
    "\n",
    "daily_log_returns.head()\n",
    "daily_log_returns[\"Adj Close\"].plot()\n",
    "plt.xlabel(\"Time\")\n",
    "plt.ylabel(\"Percent Daily Return (Log Scale)\")\n",
    "plt.show()"
   ]
  },
  {
   "cell_type": "code",
   "execution_count": 39,
   "metadata": {
    "collapsed": false
   },
   "outputs": [
    {
     "data": {
      "image/png": "[encoded data removed]",
      "text/plain": [
       "<matplotlib.figure.Figure at 0x109e92bd0>"
      ]
     },
     "metadata": {},
     "output_type": "display_data"
    }
   ],
   "source": [
    "daily_pct_change.head()\n",
    "daily_pct_change[[\"Adj Close\"]].plot()\n",
    "plt.xlabel(\"Time\")\n",
    "plt.ylabel(\"Percent Daily Change\")\n",
    "plt.show()"
   ]
  },
  {
   "cell_type": "code",
   "execution_count": 41,
   "metadata": {
    "collapsed": false
   },
   "outputs": [
    {
     "data": {
      "image/png": "[encoded data removed]",
      "text/plain": [
       "<matplotlib.figure.Figure at 0x109d99610>"
      ]
     },
     "metadata": {},
     "output_type": "display_data"
    }
   ],
   "source": [
    "#Percent Change over montly or quarterly returns\n",
    "    #Resample aapl to business months, taking the last observation as the value (vs taking the mean of the month)\n",
    "monthly = aapl.resample(\"BM\").apply(lambda x: x[-1])\n",
    "monthly.pct_change()\n",
    "\n",
    "quarters = aapl.resample(\"4M\").mean()\n",
    "quarters.pct_change()\n",
    "\n",
    "monthly[[\"Adj Close\"]].plot()\n",
    "plt.xlabel(\"Time\")\n",
    "plt.ylabel(\"Percent Monthly Change\")\n",
    "plt.show()"
   ]
  },
  {
   "cell_type": "code",
   "execution_count": 42,
   "metadata": {
    "collapsed": false
   },
   "outputs": [
    {
     "data": {
      "image/png": "[encoded data removed]",
      "text/plain": [
       "<matplotlib.figure.Figure at 0x109e92d90>"
      ]
     },
     "metadata": {},
     "output_type": "display_data"
    }
   ],
   "source": [
    "quarters[[\"Adj Close\"]].plot()\n",
    "plt.xlabel(\"Time\")\n",
    "plt.ylabel(\"Percent Quarterly Change\")\n",
    "plt.show()"
   ]
  },
  {
   "cell_type": "code",
   "execution_count": 43,
   "metadata": {
    "collapsed": false
   },
   "outputs": [
    {
     "data": {
      "image/png": "[encoded data removed]",
      "text/plain": [
       "<matplotlib.figure.Figure at 0x10a53d650>"
      ]
     },
     "metadata": {},
     "output_type": "display_data"
    }
   ],
   "source": [
    "#Plot the distribution of daily_pct_change\n",
    "\n",
    "daily_pct_change.hist(bins=50)\n",
    "plt.xlabel(\"Percent Change\")\n",
    "plt.ylabel(\"Frequency of Events\")\n",
    "plt.show()"
   ]
  },
  {
   "cell_type": "code",
   "execution_count": 44,
   "metadata": {
    "collapsed": false
   },
   "outputs": [
    {
     "data": {
      "text/html": [
       "<div>\n",
       "<style>\n",
       "    .dataframe thead tr:only-child th {\n",
       "        text-align: right;\n",
       "    }\n",
       "\n",
       "    .dataframe thead th {\n",
       "        text-align: left;\n",
       "    }\n",
       "\n",
       "    .dataframe tbody tr th {\n",
       "        vertical-align: top;\n",
       "    }\n",
       "</style>\n",
       "<table border=\"1\" class=\"dataframe\">\n",
       "  <thead>\n",
       "    <tr style=\"text-align: right;\">\n",
       "      <th></th>\n",
       "      <th>Adj Close</th>\n",
       "    </tr>\n",
       "  </thead>\n",
       "  <tbody>\n",
       "    <tr>\n",
       "      <th>count</th>\n",
       "      <td>1323.000000</td>\n",
       "    </tr>\n",
       "    <tr>\n",
       "      <th>mean</th>\n",
       "      <td>0.001565</td>\n",
       "    </tr>\n",
       "    <tr>\n",
       "      <th>std</th>\n",
       "      <td>0.023983</td>\n",
       "    </tr>\n",
       "    <tr>\n",
       "      <th>min</th>\n",
       "      <td>-0.179195</td>\n",
       "    </tr>\n",
       "    <tr>\n",
       "      <th>25%</th>\n",
       "      <td>-0.010661</td>\n",
       "    </tr>\n",
       "    <tr>\n",
       "      <th>50%</th>\n",
       "      <td>0.001646</td>\n",
       "    </tr>\n",
       "    <tr>\n",
       "      <th>75%</th>\n",
       "      <td>0.014285</td>\n",
       "    </tr>\n",
       "    <tr>\n",
       "      <th>max</th>\n",
       "      <td>0.139050</td>\n",
       "    </tr>\n",
       "  </tbody>\n",
       "</table>\n",
       "</div>"
      ],
      "text/plain": [
       "         Adj Close\n",
       "count  1323.000000\n",
       "mean      0.001565\n",
       "std       0.023983\n",
       "min      -0.179195\n",
       "25%      -0.010661\n",
       "50%       0.001646\n",
       "75%       0.014285\n",
       "max       0.139050"
      ]
     },
     "execution_count": 44,
     "metadata": {},
     "output_type": "execute_result"
    }
   ],
   "source": [
    "daily_pct_change.describe()"
   ]
  },
  {
   "cell_type": "code",
   "execution_count": 45,
   "metadata": {
    "collapsed": false
   },
   "outputs": [
    {
     "data": {
      "text/html": [
       "<div>\n",
       "<style>\n",
       "    .dataframe thead tr:only-child th {\n",
       "        text-align: right;\n",
       "    }\n",
       "\n",
       "    .dataframe thead th {\n",
       "        text-align: left;\n",
       "    }\n",
       "\n",
       "    .dataframe tbody tr th {\n",
       "        vertical-align: top;\n",
       "    }\n",
       "</style>\n",
       "<table border=\"1\" class=\"dataframe\">\n",
       "  <thead>\n",
       "    <tr style=\"text-align: right;\">\n",
       "      <th></th>\n",
       "      <th>Adj Close</th>\n",
       "    </tr>\n",
       "  </thead>\n",
       "  <tbody>\n",
       "    <tr>\n",
       "      <th>2006-10-02</th>\n",
       "      <td>1.000000</td>\n",
       "    </tr>\n",
       "    <tr>\n",
       "      <th>2006-10-03</th>\n",
       "      <td>0.989581</td>\n",
       "    </tr>\n",
       "    <tr>\n",
       "      <th>2006-10-04</th>\n",
       "      <td>1.006946</td>\n",
       "    </tr>\n",
       "    <tr>\n",
       "      <th>2006-10-05</th>\n",
       "      <td>0.999599</td>\n",
       "    </tr>\n",
       "    <tr>\n",
       "      <th>2006-10-06</th>\n",
       "      <td>0.991451</td>\n",
       "    </tr>\n",
       "  </tbody>\n",
       "</table>\n",
       "</div>"
      ],
      "text/plain": [
       "            Adj Close\n",
       "2006-10-02   1.000000\n",
       "2006-10-03   0.989581\n",
       "2006-10-04   1.006946\n",
       "2006-10-05   0.999599\n",
       "2006-10-06   0.991451"
      ]
     },
     "execution_count": 45,
     "metadata": {},
     "output_type": "execute_result"
    }
   ],
   "source": [
    "#Cumulative daily rate of return : the aggregate amt/pct an investment has gained or lost over time\n",
    "\n",
    "cum_daily_return = (1+daily_pct_change).cumprod()\n",
    "cum_daily_return.head()"
   ]
  },
  {
   "cell_type": "code",
   "execution_count": 47,
   "metadata": {
    "collapsed": false
   },
   "outputs": [
    {
     "data": {
      "image/png": "[encoded data removed]",
      "text/plain": [
       "<matplotlib.figure.Figure at 0x10a69b290>"
      ]
     },
     "metadata": {},
     "output_type": "display_data"
    }
   ],
   "source": [
    "cum_daily_return.plot(grid=True)\n",
    "plt.xlabel(\"Time (days)\")\n",
    "plt.ylabel(\"Cumulative Daily Return (100%)\")\n",
    "plt.show()"
   ]
  },
  {
   "cell_type": "code",
   "execution_count": 49,
   "metadata": {
    "collapsed": false
   },
   "outputs": [
    {
     "data": {
      "image/png": "[encoded data removed]",
      "text/plain": [
       "<matplotlib.figure.Figure at 0x10a68f6d0>"
      ]
     },
     "metadata": {},
     "output_type": "display_data"
    }
   ],
   "source": [
    "cum_monthly_return = cum_daily_return.resample(\"M\").mean()\n",
    "\n",
    "cum_monthly_return.plot(grid=True)\n",
    "plt.xlabel(\"Time (months)\")\n",
    "plt.ylabel(\"Cumulative Daily Return (100%)\")\n",
    "plt.show()"
   ]
  },
  {
   "cell_type": "markdown",
   "metadata": {},
   "source": [
    "Knowing how to calculate returns is a valuable skill, but they are even more informative when compared to another stock. In the next section, we will get more data from Yahoo! Finance to compare between stocks."
   ]
  },
  {
   "cell_type": "markdown",
   "metadata": {},
   "source": [
    "Update (6/29/17): Yahoo Finance API issue\n",
    "Over the last few weeks, Yahoo finance has changed the structure of its website and as a result the most popular Python packages for retrieving data have stopped functioning properly. Until this is resolved, the following piece of code will provide sufficient data to run the examples in this series of articles. Data is now taken from Google Finance and we are using the ETF “SPY” as proxy for S&P 500 on Google Finance.\n",
    "\n",
    "Please not that if you use this set of data to run the example, you may be getting slightly different results."
   ]
  },
  {
   "cell_type": "code",
   "execution_count": 61,
   "metadata": {
    "collapsed": false
   },
   "outputs": [
    {
     "data": {
      "text/html": [
       "<div>\n",
       "<style>\n",
       "    .dataframe thead tr:only-child th {\n",
       "        text-align: right;\n",
       "    }\n",
       "\n",
       "    .dataframe thead th {\n",
       "        text-align: left;\n",
       "    }\n",
       "\n",
       "    .dataframe tbody tr th {\n",
       "        vertical-align: top;\n",
       "    }\n",
       "</style>\n",
       "<table border=\"1\" class=\"dataframe\">\n",
       "  <thead>\n",
       "    <tr style=\"text-align: right;\">\n",
       "      <th></th>\n",
       "      <th></th>\n",
       "      <th>Open</th>\n",
       "      <th>High</th>\n",
       "      <th>Low</th>\n",
       "      <th>Close</th>\n",
       "      <th>Volume</th>\n",
       "    </tr>\n",
       "    <tr>\n",
       "      <th>Date</th>\n",
       "      <th>minor</th>\n",
       "      <th></th>\n",
       "      <th></th>\n",
       "      <th></th>\n",
       "      <th></th>\n",
       "      <th></th>\n",
       "    </tr>\n",
       "  </thead>\n",
       "  <tbody>\n",
       "    <tr>\n",
       "      <th rowspan=\"3\" valign=\"top\">2006-10-02</th>\n",
       "      <th>AAPL</th>\n",
       "      <td>10.73</td>\n",
       "      <td>10.84</td>\n",
       "      <td>10.61</td>\n",
       "      <td>10.69</td>\n",
       "      <td>178263043.0</td>\n",
       "    </tr>\n",
       "    <tr>\n",
       "      <th>IBM</th>\n",
       "      <td>81.76</td>\n",
       "      <td>82.47</td>\n",
       "      <td>81.58</td>\n",
       "      <td>81.87</td>\n",
       "      <td>4483300.0</td>\n",
       "    </tr>\n",
       "    <tr>\n",
       "      <th>MSFT</th>\n",
       "      <td>27.32</td>\n",
       "      <td>27.49</td>\n",
       "      <td>27.15</td>\n",
       "      <td>27.36</td>\n",
       "      <td>52928741.0</td>\n",
       "    </tr>\n",
       "    <tr>\n",
       "      <th rowspan=\"2\" valign=\"top\">2006-10-03</th>\n",
       "      <th>AAPL</th>\n",
       "      <td>10.64</td>\n",
       "      <td>10.71</td>\n",
       "      <td>10.46</td>\n",
       "      <td>10.58</td>\n",
       "      <td>197724611.0</td>\n",
       "    </tr>\n",
       "    <tr>\n",
       "      <th>IBM</th>\n",
       "      <td>81.88</td>\n",
       "      <td>82.26</td>\n",
       "      <td>81.56</td>\n",
       "      <td>81.65</td>\n",
       "      <td>4838500.0</td>\n",
       "    </tr>\n",
       "  </tbody>\n",
       "</table>\n",
       "</div>"
      ],
      "text/plain": [
       "                   Open   High    Low  Close       Volume\n",
       "Date       minor                                         \n",
       "2006-10-02 AAPL   10.73  10.84  10.61  10.69  178263043.0\n",
       "           IBM    81.76  82.47  81.58  81.87    4483300.0\n",
       "           MSFT   27.32  27.49  27.15  27.36   52928741.0\n",
       "2006-10-03 AAPL   10.64  10.71  10.46  10.58  197724611.0\n",
       "           IBM    81.88  82.26  81.56  81.65    4838500.0"
      ]
     },
     "execution_count": 61,
     "metadata": {},
     "output_type": "execute_result"
    }
   ],
   "source": [
    "#Make a function that takes in the ticker symbol and a start and end date. \n",
    "#Yahoo changed their API end-point \n",
    "'''\n",
    "def get(tickers, startdate, enddate):\n",
    "    def data(ticker):\n",
    "        data_source = 'google'\n",
    "        return (pdr.DataReader(ticker, data_source, start=startdate, end=enddate))\n",
    "    datas = map(data, tickers)\n",
    "    return (pd.concat(data, keys=tickers, names=['Ticker', 'Date']))\n",
    "    \n",
    "This function came from the DataCamp tutorial, but the python packages no longer work with the Yahoo API. Used a single line\n",
    "of code below to extract out the data.\n",
    "'''\n",
    "\n",
    "\n",
    "tickers = ['AAPL', 'MSFT', 'IBM', 'GOOG']\n",
    "\n",
    "all_data = (pdr.DataReader(tickers, 'google', datetime.datetime(2006, 10, 1), datetime.datetime(2012, 1, 1))).to_frame()\n",
    "all_data.head()"
   ]
  },
  {
   "cell_type": "code",
   "execution_count": 81,
   "metadata": {
    "collapsed": false
   },
   "outputs": [
    {
     "data": {
      "text/html": [
       "<div>\n",
       "<style>\n",
       "    .dataframe thead tr:only-child th {\n",
       "        text-align: right;\n",
       "    }\n",
       "\n",
       "    .dataframe thead th {\n",
       "        text-align: left;\n",
       "    }\n",
       "\n",
       "    .dataframe tbody tr th {\n",
       "        vertical-align: top;\n",
       "    }\n",
       "</style>\n",
       "<table border=\"1\" class=\"dataframe\">\n",
       "  <thead>\n",
       "    <tr style=\"text-align: right;\">\n",
       "      <th></th>\n",
       "      <th></th>\n",
       "      <th>Open</th>\n",
       "      <th>High</th>\n",
       "      <th>Low</th>\n",
       "      <th>Close</th>\n",
       "      <th>Volume</th>\n",
       "    </tr>\n",
       "    <tr>\n",
       "      <th>Ticker</th>\n",
       "      <th>Date</th>\n",
       "      <th></th>\n",
       "      <th></th>\n",
       "      <th></th>\n",
       "      <th></th>\n",
       "      <th></th>\n",
       "    </tr>\n",
       "  </thead>\n",
       "  <tbody>\n",
       "    <tr>\n",
       "      <th rowspan=\"5\" valign=\"top\">AAPL</th>\n",
       "      <th>2006-10-02</th>\n",
       "      <td>10.73</td>\n",
       "      <td>10.84</td>\n",
       "      <td>10.61</td>\n",
       "      <td>10.69</td>\n",
       "      <td>178263043.0</td>\n",
       "    </tr>\n",
       "    <tr>\n",
       "      <th>2006-10-03</th>\n",
       "      <td>10.64</td>\n",
       "      <td>10.71</td>\n",
       "      <td>10.46</td>\n",
       "      <td>10.58</td>\n",
       "      <td>197724611.0</td>\n",
       "    </tr>\n",
       "    <tr>\n",
       "      <th>2006-10-04</th>\n",
       "      <td>10.59</td>\n",
       "      <td>10.78</td>\n",
       "      <td>10.45</td>\n",
       "      <td>10.77</td>\n",
       "      <td>209840785.0</td>\n",
       "    </tr>\n",
       "    <tr>\n",
       "      <th>2006-10-05</th>\n",
       "      <td>10.65</td>\n",
       "      <td>10.88</td>\n",
       "      <td>10.59</td>\n",
       "      <td>10.69</td>\n",
       "      <td>170994999.0</td>\n",
       "    </tr>\n",
       "    <tr>\n",
       "      <th>2006-10-06</th>\n",
       "      <td>10.63</td>\n",
       "      <td>10.72</td>\n",
       "      <td>10.54</td>\n",
       "      <td>10.60</td>\n",
       "      <td>116749486.0</td>\n",
       "    </tr>\n",
       "  </tbody>\n",
       "</table>\n",
       "</div>"
      ],
      "text/plain": [
       "                    Open   High    Low  Close       Volume\n",
       "Ticker Date                                               \n",
       "AAPL   2006-10-02  10.73  10.84  10.61  10.69  178263043.0\n",
       "       2006-10-03  10.64  10.71  10.46  10.58  197724611.0\n",
       "       2006-10-04  10.59  10.78  10.45  10.77  209840785.0\n",
       "       2006-10-05  10.65  10.88  10.59  10.69  170994999.0\n",
       "       2006-10-06  10.63  10.72  10.54  10.60  116749486.0"
      ]
     },
     "execution_count": 81,
     "metadata": {},
     "output_type": "execute_result"
    }
   ],
   "source": [
    "#Reorder the indices to group and sort by Ticker symbol as the major index\n",
    "sorted_data = all_data.reorder_levels([1,0], axis=0).sort_index(0)\n",
    "idx = sorted_data.index\n",
    "idx.set_names('Ticker', level=0, inplace=True)\n",
    "sorted_data.index = idx\n",
    "sorted_data.head()"
   ]
  },
  {
   "cell_type": "code",
   "execution_count": 90,
   "metadata": {
    "collapsed": false
   },
   "outputs": [
    {
     "data": {
      "text/html": [
       "<div>\n",
       "<style>\n",
       "    .dataframe thead tr:only-child th {\n",
       "        text-align: right;\n",
       "    }\n",
       "\n",
       "    .dataframe thead th {\n",
       "        text-align: left;\n",
       "    }\n",
       "\n",
       "    .dataframe tbody tr th {\n",
       "        vertical-align: top;\n",
       "    }\n",
       "</style>\n",
       "<table border=\"1\" class=\"dataframe\">\n",
       "  <thead>\n",
       "    <tr style=\"text-align: right;\">\n",
       "      <th></th>\n",
       "      <th>Open</th>\n",
       "      <th>High</th>\n",
       "      <th>Low</th>\n",
       "      <th>Close</th>\n",
       "      <th>Volume</th>\n",
       "      <th>Adj Close</th>\n",
       "    </tr>\n",
       "  </thead>\n",
       "  <tbody>\n",
       "    <tr>\n",
       "      <th>count</th>\n",
       "      <td>3967.000000</td>\n",
       "      <td>3967.000000</td>\n",
       "      <td>3967.000000</td>\n",
       "      <td>3967.000000</td>\n",
       "      <td>3.967000e+03</td>\n",
       "      <td>5292.000000</td>\n",
       "    </tr>\n",
       "    <tr>\n",
       "      <th>mean</th>\n",
       "      <td>59.825147</td>\n",
       "      <td>60.456925</td>\n",
       "      <td>59.231439</td>\n",
       "      <td>59.880141</td>\n",
       "      <td>8.741011e+07</td>\n",
       "      <td>108.093513</td>\n",
       "    </tr>\n",
       "    <tr>\n",
       "      <th>std</th>\n",
       "      <td>48.690438</td>\n",
       "      <td>49.114294</td>\n",
       "      <td>48.354699</td>\n",
       "      <td>48.773206</td>\n",
       "      <td>9.753951e+07</td>\n",
       "      <td>96.206514</td>\n",
       "    </tr>\n",
       "    <tr>\n",
       "      <th>min</th>\n",
       "      <td>10.490000</td>\n",
       "      <td>10.570000</td>\n",
       "      <td>10.370000</td>\n",
       "      <td>10.460000</td>\n",
       "      <td>2.081260e+06</td>\n",
       "      <td>10.461429</td>\n",
       "    </tr>\n",
       "    <tr>\n",
       "      <th>25%</th>\n",
       "      <td>25.025000</td>\n",
       "      <td>25.340000</td>\n",
       "      <td>24.650000</td>\n",
       "      <td>25.005000</td>\n",
       "      <td>8.844110e+06</td>\n",
       "      <td>26.596429</td>\n",
       "    </tr>\n",
       "    <tr>\n",
       "      <th>50%</th>\n",
       "      <td>30.020000</td>\n",
       "      <td>30.330000</td>\n",
       "      <td>29.830000</td>\n",
       "      <td>30.040000</td>\n",
       "      <td>5.906884e+07</td>\n",
       "      <td>66.029999</td>\n",
       "    </tr>\n",
       "    <tr>\n",
       "      <th>75%</th>\n",
       "      <td>103.105000</td>\n",
       "      <td>104.775000</td>\n",
       "      <td>102.180000</td>\n",
       "      <td>103.280000</td>\n",
       "      <td>1.202383e+08</td>\n",
       "      <td>172.990005</td>\n",
       "    </tr>\n",
       "    <tr>\n",
       "      <th>max</th>\n",
       "      <td>193.640000</td>\n",
       "      <td>194.900000</td>\n",
       "      <td>192.400000</td>\n",
       "      <td>194.560000</td>\n",
       "      <td>8.432640e+08</td>\n",
       "      <td>369.509979</td>\n",
       "    </tr>\n",
       "  </tbody>\n",
       "</table>\n",
       "</div>"
      ],
      "text/plain": [
       "              Open         High          Low        Close        Volume  \\\n",
       "count  3967.000000  3967.000000  3967.000000  3967.000000  3.967000e+03   \n",
       "mean     59.825147    60.456925    59.231439    59.880141  8.741011e+07   \n",
       "std      48.690438    49.114294    48.354699    48.773206  9.753951e+07   \n",
       "min      10.490000    10.570000    10.370000    10.460000  2.081260e+06   \n",
       "25%      25.025000    25.340000    24.650000    25.005000  8.844110e+06   \n",
       "50%      30.020000    30.330000    29.830000    30.040000  5.906884e+07   \n",
       "75%     103.105000   104.775000   102.180000   103.280000  1.202383e+08   \n",
       "max     193.640000   194.900000   192.400000   194.560000  8.432640e+08   \n",
       "\n",
       "         Adj Close  \n",
       "count  5292.000000  \n",
       "mean    108.093513  \n",
       "std      96.206514  \n",
       "min      10.461429  \n",
       "25%      26.596429  \n",
       "50%      66.029999  \n",
       "75%     172.990005  \n",
       "max     369.509979  "
      ]
     },
     "execution_count": 90,
     "metadata": {},
     "output_type": "execute_result"
    }
   ],
   "source": [
    "from_datacamp = pd.read_csv(\"https://s3.amazonaws.com/assets.datacamp.com/blog_assets/all_stock_data.csv\", index_col= [0,1], header=0, parse_dates=[1])\n",
    "adj_close = from_datacamp[[\"Adj Close\"]]\n",
    "data = pd.concat([sorted_data, adj_close], axis=1)\n",
    "data.describe()"
   ]
  },
  {
   "cell_type": "code",
   "execution_count": 91,
   "metadata": {
    "collapsed": false
   },
   "outputs": [
    {
     "data": {
      "text/html": [
       "<div>\n",
       "<style>\n",
       "    .dataframe thead tr:only-child th {\n",
       "        text-align: right;\n",
       "    }\n",
       "\n",
       "    .dataframe thead th {\n",
       "        text-align: left;\n",
       "    }\n",
       "\n",
       "    .dataframe tbody tr th {\n",
       "        vertical-align: top;\n",
       "    }\n",
       "</style>\n",
       "<table border=\"1\" class=\"dataframe\">\n",
       "  <thead>\n",
       "    <tr style=\"text-align: right;\">\n",
       "      <th></th>\n",
       "      <th>Open</th>\n",
       "      <th>High</th>\n",
       "      <th>Low</th>\n",
       "      <th>Close</th>\n",
       "      <th>Adj Close</th>\n",
       "      <th>Volume</th>\n",
       "    </tr>\n",
       "  </thead>\n",
       "  <tbody>\n",
       "    <tr>\n",
       "      <th>count</th>\n",
       "      <td>5292.000000</td>\n",
       "      <td>5292.000000</td>\n",
       "      <td>5292.000000</td>\n",
       "      <td>5292.000000</td>\n",
       "      <td>5292.000000</td>\n",
       "      <td>5.292000e+03</td>\n",
       "    </tr>\n",
       "    <tr>\n",
       "      <th>mean</th>\n",
       "      <td>108.091934</td>\n",
       "      <td>109.264359</td>\n",
       "      <td>106.886679</td>\n",
       "      <td>214.747783</td>\n",
       "      <td>108.093513</td>\n",
       "      <td>6.768845e+07</td>\n",
       "    </tr>\n",
       "    <tr>\n",
       "      <th>std</th>\n",
       "      <td>96.272141</td>\n",
       "      <td>97.216791</td>\n",
       "      <td>95.217117</td>\n",
       "      <td>191.748210</td>\n",
       "      <td>96.206514</td>\n",
       "      <td>9.097254e+07</td>\n",
       "    </tr>\n",
       "    <tr>\n",
       "      <th>min</th>\n",
       "      <td>10.488571</td>\n",
       "      <td>10.568571</td>\n",
       "      <td>10.371428</td>\n",
       "      <td>15.150000</td>\n",
       "      <td>10.461429</td>\n",
       "      <td>1.027500e+06</td>\n",
       "    </tr>\n",
       "    <tr>\n",
       "      <th>25%</th>\n",
       "      <td>26.600000</td>\n",
       "      <td>26.937501</td>\n",
       "      <td>26.275001</td>\n",
       "      <td>63.069999</td>\n",
       "      <td>26.596429</td>\n",
       "      <td>6.952525e+06</td>\n",
       "    </tr>\n",
       "    <tr>\n",
       "      <th>50%</th>\n",
       "      <td>66.495712</td>\n",
       "      <td>68.968573</td>\n",
       "      <td>64.463572</td>\n",
       "      <td>129.414993</td>\n",
       "      <td>66.029999</td>\n",
       "      <td>2.707570e+07</td>\n",
       "    </tr>\n",
       "    <tr>\n",
       "      <th>75%</th>\n",
       "      <td>172.604287</td>\n",
       "      <td>175.527080</td>\n",
       "      <td>170.088135</td>\n",
       "      <td>361.726898</td>\n",
       "      <td>172.990005</td>\n",
       "      <td>9.389922e+07</td>\n",
       "    </tr>\n",
       "    <tr>\n",
       "      <th>max</th>\n",
       "      <td>369.181213</td>\n",
       "      <td>372.224823</td>\n",
       "      <td>361.146332</td>\n",
       "      <td>739.759033</td>\n",
       "      <td>369.509979</td>\n",
       "      <td>8.432424e+08</td>\n",
       "    </tr>\n",
       "  </tbody>\n",
       "</table>\n",
       "</div>"
      ],
      "text/plain": [
       "              Open         High          Low        Close    Adj Close  \\\n",
       "count  5292.000000  5292.000000  5292.000000  5292.000000  5292.000000   \n",
       "mean    108.091934   109.264359   106.886679   214.747783   108.093513   \n",
       "std      96.272141    97.216791    95.217117   191.748210    96.206514   \n",
       "min      10.488571    10.568571    10.371428    15.150000    10.461429   \n",
       "25%      26.600000    26.937501    26.275001    63.069999    26.596429   \n",
       "50%      66.495712    68.968573    64.463572   129.414993    66.029999   \n",
       "75%     172.604287   175.527080   170.088135   361.726898   172.990005   \n",
       "max     369.181213   372.224823   361.146332   739.759033   369.509979   \n",
       "\n",
       "             Volume  \n",
       "count  5.292000e+03  \n",
       "mean   6.768845e+07  \n",
       "std    9.097254e+07  \n",
       "min    1.027500e+06  \n",
       "25%    6.952525e+06  \n",
       "50%    2.707570e+07  \n",
       "75%    9.389922e+07  \n",
       "max    8.432424e+08  "
      ]
     },
     "execution_count": 91,
     "metadata": {},
     "output_type": "execute_result"
    }
   ],
   "source": [
    "from_datacamp.describe()"
   ]
  },
  {
   "cell_type": "markdown",
   "metadata": {},
   "source": [
    "The data derived from DataCamp contains ~1300 entries. Not immediately clear why as the data should theoretically be the same as what is pulled from Google Finance. As this is a DataCamp tutorial, moving forward with the DataCamp data"
   ]
  },
  {
   "cell_type": "code",
   "execution_count": 92,
   "metadata": {
    "collapsed": false
   },
   "outputs": [
    {
     "data": {
      "text/html": [
       "<div>\n",
       "<style>\n",
       "    .dataframe thead tr:only-child th {\n",
       "        text-align: right;\n",
       "    }\n",
       "\n",
       "    .dataframe thead th {\n",
       "        text-align: left;\n",
       "    }\n",
       "\n",
       "    .dataframe tbody tr th {\n",
       "        vertical-align: top;\n",
       "    }\n",
       "</style>\n",
       "<table border=\"1\" class=\"dataframe\">\n",
       "  <thead>\n",
       "    <tr style=\"text-align: right;\">\n",
       "      <th>Ticker</th>\n",
       "      <th>AAPL</th>\n",
       "      <th>GOOG</th>\n",
       "      <th>IBM</th>\n",
       "      <th>MSFT</th>\n",
       "    </tr>\n",
       "    <tr>\n",
       "      <th>Date</th>\n",
       "      <th></th>\n",
       "      <th></th>\n",
       "      <th></th>\n",
       "      <th></th>\n",
       "    </tr>\n",
       "  </thead>\n",
       "  <tbody>\n",
       "    <tr>\n",
       "      <th>2006-10-02</th>\n",
       "      <td>10.694285</td>\n",
       "      <td>199.970459</td>\n",
       "      <td>81.870003</td>\n",
       "      <td>27.360001</td>\n",
       "    </tr>\n",
       "    <tr>\n",
       "      <th>2006-10-03</th>\n",
       "      <td>10.582857</td>\n",
       "      <td>201.265610</td>\n",
       "      <td>81.650002</td>\n",
       "      <td>27.370001</td>\n",
       "    </tr>\n",
       "    <tr>\n",
       "      <th>2006-10-04</th>\n",
       "      <td>10.768572</td>\n",
       "      <td>207.073837</td>\n",
       "      <td>83.099998</td>\n",
       "      <td>27.940001</td>\n",
       "    </tr>\n",
       "    <tr>\n",
       "      <th>2006-10-05</th>\n",
       "      <td>10.690000</td>\n",
       "      <td>205.136093</td>\n",
       "      <td>82.919998</td>\n",
       "      <td>27.920000</td>\n",
       "    </tr>\n",
       "    <tr>\n",
       "      <th>2006-10-06</th>\n",
       "      <td>10.602858</td>\n",
       "      <td>209.464874</td>\n",
       "      <td>83.139999</td>\n",
       "      <td>27.870001</td>\n",
       "    </tr>\n",
       "  </tbody>\n",
       "</table>\n",
       "</div>"
      ],
      "text/plain": [
       "Ticker           AAPL        GOOG        IBM       MSFT\n",
       "Date                                                   \n",
       "2006-10-02  10.694285  199.970459  81.870003  27.360001\n",
       "2006-10-03  10.582857  201.265610  81.650002  27.370001\n",
       "2006-10-04  10.768572  207.073837  83.099998  27.940001\n",
       "2006-10-05  10.690000  205.136093  82.919998  27.920000\n",
       "2006-10-06  10.602858  209.464874  83.139999  27.870001"
      ]
     },
     "execution_count": 92,
     "metadata": {},
     "output_type": "execute_result"
    }
   ],
   "source": [
    "daily_close_px = from_datacamp[[\"Adj Close\"]].reset_index().pivot('Date', 'Ticker', 'Adj Close')\n",
    "    #DataFrame.pivot(index=None, columns=None, values=None)\n",
    "    #reset_index()seems as though it just clears the pre-defined index\n",
    "daily_close_px.head()"
   ]
  },
  {
   "cell_type": "code",
   "execution_count": 94,
   "metadata": {
    "collapsed": false
   },
   "outputs": [
    {
     "data": {
      "image/png": "[encoded data removed]",
      "text/plain": [
       "<matplotlib.figure.Figure at 0x10a675150>"
      ]
     },
     "metadata": {},
     "output_type": "display_data"
    }
   ],
   "source": [
    "daily_pct_change = daily_close_px.pct_change()\n",
    "daily_pct_change.hist(bins=50, sharex=True)\n",
    "plt.xlabel(\"Percent Change\")\n",
    "plt.show()"
   ]
  },
  {
   "cell_type": "code",
   "execution_count": 96,
   "metadata": {
    "collapsed": false
   },
   "outputs": [
    {
     "data": {
      "image/png": "[encoded data removed]",
      "text/plain": [
       "<matplotlib.figure.Figure at 0x10b581dd0>"
      ]
     },
     "metadata": {},
     "output_type": "display_data"
    }
   ],
   "source": [
    "#Plot a scatter matrix : used to determine whether the data are correlated and whether the correlation is (+) or (-)\n",
    "pd.plotting.scatter_matrix(daily_pct_change, diagonal='kde', alpha=0.1)\n",
    "plt.show()"
   ]
  },
  {
   "cell_type": "markdown",
   "metadata": {},
   "source": [
    "Based on these scatter plots, we can observe that each stock is at the least positively correlated with the others, though some are more positive (IBM as a function of GOOG, AAPL and MSFT) than others (GOOG as a function of IBM). Derive that information by looking at the slope of the scatter.\n",
    "\n",
    "The diagonal of the scatter plot (MSFT vs MSFT, etc) uses Kernel Density Estimate which estimates the probability density function of a random variable. Much more to learn about KDE."
   ]
  },
  {
   "cell_type": "markdown",
   "metadata": {},
   "source": [
    "# Common Financial Analysis\n",
    "\n",
    "\n",
    "## Part 2: Moving Windows\n",
    "\n",
    "A moving window is there when one computes a statistic on a window of data represented by a specific time period and then slides that across the data by a specified interval. An example is rolling average, which smoothes out short-term fluctuations and highlights longer-term trends in the data."
   ]
  },
  {
   "cell_type": "code",
   "execution_count": 99,
   "metadata": {
    "collapsed": false
   },
   "outputs": [
    {
     "name": "stdout",
     "output_type": "stream",
     "text": [
      "            Adj Close\n",
      "2011-12-16  55.529679\n",
      "2011-12-19  55.491607\n",
      "2011-12-20  55.456536\n",
      "2011-12-21  55.451822\n",
      "2011-12-22  55.444500\n",
      "2011-12-23  55.439643\n",
      "2011-12-27  55.445286\n",
      "2011-12-28  55.437643\n",
      "2011-12-29  55.468393\n",
      "2011-12-30  55.495500\n",
      "            Adj Close\n",
      "2011-12-16  54.431427\n",
      "2011-12-19  54.601429\n",
      "2011-12-20  56.564285\n",
      "2011-12-21  56.635715\n",
      "2011-12-22  56.935715\n",
      "2011-12-23  57.618572\n",
      "2011-12-27  58.075714\n",
      "2011-12-28  57.520000\n",
      "2011-12-29  57.874287\n",
      "2011-12-30  57.857143\n"
     ]
    }
   ],
   "source": [
    "adj_close_px = aapl[[\"Adj Close\"]]\n",
    "moving_avg = adj_close_px.rolling(window=40).mean()\n",
    "print moving_avg[-10:]\n",
    "print adj_close_px[-10:]"
   ]
  },
  {
   "cell_type": "code",
   "execution_count": 109,
   "metadata": {
    "collapsed": false
   },
   "outputs": [
    {
     "data": {
      "image/png": "[encoded data removed]",
      "text/plain": [
       "<matplotlib.figure.Figure at 0x109d86a10>"
      ]
     },
     "metadata": {},
     "output_type": "display_data"
    }
   ],
   "source": [
    "aapl['42'] = adj_close_px.rolling(window=40).mean()\n",
    "aapl['252'] = adj_close_px.rolling(window=252).mean()\n",
    "aapl[['Adj Close', '42', '252']].plot()\n",
    "plt.xlabel(\"Time (days)\")\n",
    "plt.ylabel(\"Adj Close Price\")\n",
    "plt.show()"
   ]
  },
  {
   "cell_type": "markdown",
   "metadata": {},
   "source": [
    "### Volatility Calculation\n",
    "\n",
    "The volatility of a stock is a measurement of the change in variance in the returns of the stock over a specific time period. \n",
    "\n",
    "volatility = std*sqrt(Time)\n",
    "\n",
    "The moving historical std dev of the log returns - ie the moving historical volatility - may hold more interesting data. This is referred to as the annualized volatility."
   ]
  },
  {
   "cell_type": "code",
   "execution_count": 111,
   "metadata": {
    "collapsed": false
   },
   "outputs": [
    {
     "data": {
      "image/png": "[encoded data removed]",
      "text/plain": [
       "<matplotlib.figure.Figure at 0x10dd37310>"
      ]
     },
     "metadata": {},
     "output_type": "display_data"
    }
   ],
   "source": [
    "min_periods = 75\n",
    "vol = daily_pct_change.rolling(min_periods).std()*np.sqrt(min_periods)\n",
    "vol.plot()\n",
    "plt.xlabel(\"Time (Days)\")\n",
    "plt.ylabel(\"Volatility\")\n",
    "plt.show()"
   ]
  },
  {
   "cell_type": "code",
   "execution_count": 112,
   "metadata": {
    "collapsed": false
   },
   "outputs": [
    {
     "data": {
      "image/png": "[encoded data removed]",
      "text/plain": [
       "<matplotlib.figure.Figure at 0x10a1d9150>"
      ]
     },
     "metadata": {},
     "output_type": "display_data"
    }
   ],
   "source": [
    "ann_vol = (np.log(daily_pct_change+1)).rolling(min_periods).std()*np.sqrt(min_periods)\n",
    "ann_vol.plot()\n",
    "plt.xlabel(\"Time (Days)\")\n",
    "plt.ylabel(\"Annualized Volatility\")\n",
    "plt.show()"
   ]
  },
  {
   "cell_type": "markdown",
   "metadata": {},
   "source": [
    "### Ordinary Least-Squares Regression (OLS)\n"
   ]
  },
  {
   "cell_type": "code",
   "execution_count": 130,
   "metadata": {
    "collapsed": false
   },
   "outputs": [
    {
     "ename": "AttributeError",
     "evalue": "'module' object has no attribute 'regression'",
     "output_type": "error",
     "traceback": [
      "\u001b[0;31m---------------------------------------------------------------------------\u001b[0m",
      "\u001b[0;31mAttributeError\u001b[0m                            Traceback (most recent call last)",
      "\u001b[0;32m<ipython-input-130-365642b4764d>\u001b[0m in \u001b[0;36m<module>\u001b[0;34m()\u001b[0m\n\u001b[1;32m     17\u001b[0m \u001b[0;34m\u001b[0m\u001b[0m\n\u001b[1;32m     18\u001b[0m \u001b[0mX\u001b[0m \u001b[0;34m=\u001b[0m \u001b[0msm\u001b[0m\u001b[0;34m.\u001b[0m\u001b[0mtools\u001b[0m\u001b[0;34m.\u001b[0m\u001b[0mtools\u001b[0m\u001b[0;34m.\u001b[0m\u001b[0madd_constant\u001b[0m\u001b[0;34m(\u001b[0m\u001b[0mreturn_data\u001b[0m\u001b[0;34m[\u001b[0m\u001b[0;34m'AAPL'\u001b[0m\u001b[0;34m]\u001b[0m\u001b[0;34m)\u001b[0m\u001b[0;34m\u001b[0m\u001b[0m\n\u001b[0;32m---> 19\u001b[0;31m \u001b[0mmodel\u001b[0m \u001b[0;34m=\u001b[0m \u001b[0msm\u001b[0m\u001b[0;34m.\u001b[0m\u001b[0mregression\u001b[0m\u001b[0;34m.\u001b[0m\u001b[0mlinear_model\u001b[0m\u001b[0;34m.\u001b[0m\u001b[0mOLS\u001b[0m\u001b[0;34m(\u001b[0m\u001b[0mreturn_data\u001b[0m\u001b[0;34m[\u001b[0m\u001b[0;34m'MSFT'\u001b[0m\u001b[0;34m]\u001b[0m\u001b[0;34m,\u001b[0m \u001b[0mX\u001b[0m\u001b[0;34m)\u001b[0m\u001b[0;34m.\u001b[0m\u001b[0mfit\u001b[0m\u001b[0;34m(\u001b[0m\u001b[0;34m)\u001b[0m\u001b[0;34m\u001b[0m\u001b[0m\n\u001b[0m\u001b[1;32m     20\u001b[0m \u001b[0;32mprint\u001b[0m\u001b[0;34m(\u001b[0m\u001b[0mmodel\u001b[0m\u001b[0;34m.\u001b[0m\u001b[0msummary\u001b[0m\u001b[0;34m(\u001b[0m\u001b[0;34m)\u001b[0m\u001b[0;34m)\u001b[0m\u001b[0;34m\u001b[0m\u001b[0m\n",
      "\u001b[0;31mAttributeError\u001b[0m: 'module' object has no attribute 'regression'"
     ]
    }
   ],
   "source": [
    "#from inspect import getargspec, ismethod, isclass, formatargspec\n",
    "#import statsmodels.api as sm \n",
    "from pandas.core import datetools\n",
    "\n",
    "all_adj_close = from_datacamp[[\"Adj Close\"]]\n",
    "all_returns = np.log(all_adj_close/all_adj_close.shift(1))\n",
    "    #or all_returns = np.log(all_adj_close.pct_change()+1)\n",
    "    \n",
    "aapl_returns = all_returns.iloc[all_returns.index.get_level_values('Ticker') == \"AAPL\"]\n",
    "aapl_returns.index = aapl_returns.index.droplevel('Ticker')\n",
    "\n",
    "msft_returns = all_returns.iloc[all_returns.index.get_level_values('Ticker') == 'MSFT']\n",
    "msft_returns.index = msft_returns.index.droplevel('Ticker')\n",
    "\n",
    "return_data = pd.concat([aapl_returns, msft_returns], axis=1)[1:]\n",
    "return_data.columns = ['AAPL', 'MSFT']\n",
    "\n",
    "X = sm.tools.tools.add_constant(return_data['AAPL'])\n",
    "model = sm.regression.linear_model.OLS(return_data['MSFT'], X).fit()\n",
    "print(model.summary())"
   ]
  },
  {
   "cell_type": "markdown",
   "metadata": {},
   "source": [
    "Having trouble with the statsmodels.api import (importerror: cannot import name 'getargspec').This is the output though of the model for analysis sake (Ignore the SyntaxError, this is merely pasted from DataCamp for continuity):"
   ]
  },
  {
   "cell_type": "code",
   "execution_count": 131,
   "metadata": {
    "collapsed": false
   },
   "outputs": [
    {
     "ename": "SyntaxError",
     "evalue": "invalid syntax (<ipython-input-131-d7dc26811f6d>, line 1)",
     "output_type": "error",
     "traceback": [
      "\u001b[0;36m  File \u001b[0;32m\"<ipython-input-131-d7dc26811f6d>\"\u001b[0;36m, line \u001b[0;32m1\u001b[0m\n\u001b[0;31m    OLS Regression Results\u001b[0m\n\u001b[0m                 ^\u001b[0m\n\u001b[0;31mSyntaxError\u001b[0m\u001b[0;31m:\u001b[0m invalid syntax\n"
     ]
    }
   ],
   "source": [
    "                            OLS Regression Results                            \n",
    "==============================================================================\n",
    "Dep. Variable:                   MSFT   R-squared:                       0.280\n",
    "Model:                            OLS   Adj. R-squared:                  0.280\n",
    "Method:                 Least Squares   F-statistic:                     514.2\n",
    "Date:                Thu, 27 Jul 2017   Prob (F-statistic):           2.07e-96\n",
    "Time:                        19:33:08   Log-Likelihood:                 3513.2\n",
    "No. Observations:                1322   AIC:                            -7022.\n",
    "Df Residuals:                    1320   BIC:                            -7012.\n",
    "Df Model:                           1                                         \n",
    "Covariance Type:            nonrobust                                         \n",
    "==============================================================================\n",
    "                 coef    std err          t      P>|t|      [0.025      0.975]\n",
    "------------------------------------------------------------------------------\n",
    "const         -0.0006      0.000     -1.287      0.198      -0.002       0.000\n",
    "AAPL           0.4404      0.019     22.677      0.000       0.402       0.479\n",
    "==============================================================================\n",
    "Omnibus:                      267.360   Durbin-Watson:                   2.071\n",
    "Prob(Omnibus):                  0.000   Jarque-Bera (JB):             6987.230\n",
    "Skew:                          -0.202   Prob(JB):                         0.00\n",
    "Kurtosis:                      14.255   Cond. No.                         41.6\n",
    "=============================================================================="
   ]
  },
  {
   "cell_type": "code",
   "execution_count": 139,
   "metadata": {
    "collapsed": false
   },
   "outputs": [
    {
     "data": {
      "image/png": "[encoded data removed]",
      "text/plain": [
       "<matplotlib.figure.Figure at 0x109d752d0>"
      ]
     },
     "metadata": {},
     "output_type": "display_data"
    }
   ],
   "source": [
    "from sklearn import linear_model\n",
    "\n",
    "#regression = linear_model.LinearRegression()\n",
    "#aapl_data = np.asarray(return_data['AAPL'])\n",
    "#regression.fit(np.asarray(return_data['AAPL']), np.asarray(return_data['MSFT']))\n",
    "\n",
    "plt.plot(return_data['AAPL'], return_data['MSFT'], 'r.')\n",
    "#plt.plot(return_data['AAPL'], regression.predict(return_data['AAPL'], color='blue'))\n",
    "plt.show()"
   ]
  },
  {
   "cell_type": "code",
   "execution_count": 143,
   "metadata": {
    "collapsed": false
   },
   "outputs": [
    {
     "data": {
      "image/png": "[encoded data removed]",
      "text/plain": [
       "<matplotlib.figure.Figure at 0x10b226510>"
      ]
     },
     "metadata": {},
     "output_type": "display_data"
    }
   ],
   "source": [
    "#Plot the rolling correlation\n",
    "\n",
    "return_data['MSFT'].rolling(window=252).corr(return_data['AAPL']).plot()\n",
    "plt.ylabel(\"Correlation Coeff between MSFT and AAPL Returns\")\n",
    "plt.show()"
   ]
  },
  {
   "cell_type": "markdown",
   "metadata": {},
   "source": [
    "# Building a Trading Strategy \n",
    "\n",
    "### The Moving Average Crossover\n",
    "The \"hello world\" of quantitative trading. If the short moving average exceeds the long moving average, then you go long (buy). If teh long moving average exceeds the short moving average then you go short (sell)."
   ]
  },
  {
   "cell_type": "code",
   "execution_count": 172,
   "metadata": {
    "collapsed": false
   },
   "outputs": [
    {
     "name": "stdout",
     "output_type": "stream",
     "text": [
      "            signal  short_mavg   long_mavg  positions\n",
      "2006-10-02     0.0   74.860001   74.860001        NaN\n",
      "2006-10-03     0.0   74.470001   74.470001        0.0\n",
      "2006-10-04     0.0   74.773336   74.773336        0.0\n",
      "2006-10-05     0.0   74.787500   74.787500        0.0\n",
      "2006-10-06     0.0   74.674001   74.674001        0.0\n",
      "2006-10-09     0.0   74.666667   74.666667        0.0\n",
      "2006-10-10     0.0   74.544285   74.544285        0.0\n",
      "2006-10-11     0.0   74.380000   74.380000        0.0\n",
      "2006-10-12     0.0   74.477778   74.477778        0.0\n",
      "2006-10-13     0.0   74.532001   74.532001        0.0\n",
      "2006-10-16     0.0   74.610909   74.610909        0.0\n",
      "2006-10-17     0.0   74.584167   74.584167        0.0\n",
      "2006-10-18     0.0   74.580000   74.580000        0.0\n",
      "2006-10-19     0.0   74.895000   74.895000        0.0\n",
      "2006-10-20     0.0   75.232000   75.232000        0.0\n",
      "2006-10-23     0.0   75.621250   75.621250        0.0\n",
      "2006-10-24     0.0   75.940588   75.940588        0.0\n",
      "2006-10-25     0.0   76.259444   76.259444        0.0\n",
      "2006-10-26     0.0   76.571579   76.571579        0.0\n",
      "2006-10-27     0.0   76.763500   76.763500        0.0\n",
      "2006-10-30     0.0   76.937619   76.937619        0.0\n",
      "2006-10-31     0.0   77.125909   77.125909        0.0\n",
      "2006-11-01     0.0   77.214348   77.214348        0.0\n",
      "2006-11-02     0.0   77.287917   77.287917        0.0\n",
      "2006-11-03     0.0   77.328000   77.328000        0.0\n",
      "2006-11-06     0.0   77.419615   77.419615        0.0\n",
      "2006-11-07     0.0   77.534074   77.534074        0.0\n",
      "2006-11-08     0.0   77.709643   77.709643        0.0\n",
      "2006-11-09     0.0   77.903793   77.903793        0.0\n",
      "2006-11-10     0.0   78.077666   78.077666        0.0\n",
      "...            ...         ...         ...        ...\n",
      "2011-11-17     1.0  395.401001  384.627801        0.0\n",
      "2011-11-18     1.0  394.667001  385.036801        0.0\n",
      "2011-11-21     1.0  393.813001  385.370201        0.0\n",
      "2011-11-22     1.0  393.244251  385.702701        0.0\n",
      "2011-11-23     1.0  392.493751  385.878301        0.0\n",
      "2011-11-25     1.0  391.818751  385.996401        0.0\n",
      "2011-11-28     1.0  391.688750  386.185601        0.0\n",
      "2011-11-29     1.0  391.653751  386.320501        0.0\n",
      "2011-11-30     1.0  391.896250  386.602501        0.0\n",
      "2011-12-01     1.0  392.138250  386.944301        0.0\n",
      "2011-12-02     1.0  392.446500  387.261101        0.0\n",
      "2011-12-05     1.0  393.026751  387.613501        0.0\n",
      "2011-12-06     1.0  393.080251  387.873801        0.0\n",
      "2011-12-07     1.0  392.800251  388.026701        0.0\n",
      "2011-12-08     1.0  392.512001  388.164801        0.0\n",
      "2011-12-09     1.0  392.141751  388.232001        0.0\n",
      "2011-12-12     1.0  391.387751  388.277501        0.0\n",
      "2011-12-13     1.0  390.608250  388.232601        0.0\n",
      "2011-12-14     1.0  389.557001  388.049501        0.0\n",
      "2011-12-15     1.0  389.065001  387.804801        0.0\n",
      "2011-12-16     1.0  388.707751  387.689101        0.0\n",
      "2011-12-19     1.0  388.441251  387.593001        0.0\n",
      "2011-12-20     1.0  388.195750  387.647701        0.0\n",
      "2011-12-21     1.0  388.162750  387.644702        0.0\n",
      "2011-12-22     1.0  388.111500  387.741101        0.0\n",
      "2011-12-23     1.0  388.077500  387.848701        0.0\n",
      "2011-12-27     0.0  388.117001  388.140301       -1.0\n",
      "2011-12-28     0.0  388.063501  388.430502        0.0\n",
      "2011-12-29     0.0  388.278751  388.949601        0.0\n",
      "2011-12-30     0.0  388.468500  389.259501        0.0\n",
      "\n",
      "[1323 rows x 4 columns]\n"
     ]
    }
   ],
   "source": [
    "short_window = 40\n",
    "long_window = 100\n",
    "\n",
    "signals = pd.DataFrame(index=aapl.index)\n",
    "signals['signal'] = 0.0\n",
    "\n",
    "signals['short_mavg'] = aapl['Close'].rolling(window=short_window, min_periods=1, center=False).mean()\n",
    "signals['long_mavg'] = aapl['Close'].rolling(window=long_window, min_periods=1, center=False).mean()\n",
    "\n",
    "long_signals = np.where(signals['short_mavg'][short_window:] > signals['long_mavg'][short_window:], 1.0, 0.0)\n",
    "signals['signal'][short_window:] = long_signals\n",
    "\n",
    "signals['positions'] = signals['signal'].diff()\n",
    "print signals\n"
   ]
  },
  {
   "cell_type": "markdown",
   "metadata": {},
   "source": [
    "**Signals:**  \n",
    "if 1.0, then go/stay long  \n",
    "if 0.0, then go/stay short  \n",
    "  \n",
    "**Position:**  \n",
    "0.0 = stay the same  \n",
    "-1.0 = sell/go short  \n",
    "1.0 = buy/go long"
   ]
  },
  {
   "cell_type": "code",
   "execution_count": 173,
   "metadata": {
    "collapsed": false
   },
   "outputs": [
    {
     "data": {
      "image/png": "[encoded data removed]",
      "text/plain": [
       "<matplotlib.figure.Figure at 0x10b409b50>"
      ]
     },
     "metadata": {},
     "output_type": "display_data"
    }
   ],
   "source": [
    "fig = plt.figure()\n",
    "ax1 = fig.add_subplot(111, ylabel='Price in $')\n",
    "\n",
    "#aapl['Adj Close'].plot(ax=ax1, color='r', lw=2.)\n",
    "\n",
    "signals[['short_mavg', 'long_mavg']].plot(ax=ax1, lw=2.)\n",
    "\n",
    "#Plot the buy signals\n",
    "ax1.plot(signals.loc[signals.positions == 1.0].index, signals.short_mavg[signals.positions == 1.0], '^', markersize=10, color='green')\n",
    "\n",
    "#Plot the sell signals\n",
    "ax1.plot(signals.loc[signals.positions == -1.0].index, signals.short_mavg[signals.positions == -1.0], 'v', markersize=10, color='k')\n",
    "\n",
    "plt.show()"
   ]
  },
  {
   "cell_type": "markdown",
   "metadata": {},
   "source": [
    "### Backtesting the Trading Strategy\n",
    "\n",
    "Test the strategy on relevant historical data to make sure that it's an actual viable strategy before making moves. Can simulate and analyze the risk and profitability of trading with a specific strategy.  \n",
    "\n",
    "**Pitfalls:**  \n",
    "Macroecominc events (regulatory changes)  \n",
    "Liquidity restraints (banning of short sales)  \n",
    "Overfitting  \n",
    "Interference (ignoring strategy rules bc you're smarter)  \n",
    "Lookahead bias (introducing new information into historical data)  \n",
    "Etc.  \n",
    "  \n",
    "**Essential Components**  \n",
    "1. A data handler: an interface to a set of data  \n",
    "2. A strategy, generates a signal  \n",
    "3. A portfolio, generates orders and manages Profit & Loss  \n",
    "4. An execution handler, sends the order to the borker and receives the \"fills\" - signals that the stock has been either bought or sold  \n"
   ]
  },
  {
   "cell_type": "markdown",
   "metadata": {},
   "source": [
    "### Implementation of a Simple Backtester"
   ]
  },
  {
   "cell_type": "code",
   "execution_count": 190,
   "metadata": {
    "collapsed": false
   },
   "outputs": [
    {
     "data": {
      "text/html": [
       "<div>\n",
       "<style>\n",
       "    .dataframe thead tr:only-child th {\n",
       "        text-align: right;\n",
       "    }\n",
       "\n",
       "    .dataframe thead th {\n",
       "        text-align: left;\n",
       "    }\n",
       "\n",
       "    .dataframe tbody tr th {\n",
       "        vertical-align: top;\n",
       "    }\n",
       "</style>\n",
       "<table border=\"1\" class=\"dataframe\">\n",
       "  <thead>\n",
       "    <tr style=\"text-align: right;\">\n",
       "      <th></th>\n",
       "      <th>AAPL</th>\n",
       "      <th>holdings</th>\n",
       "      <th>cash</th>\n",
       "      <th>total</th>\n",
       "      <th>returns</th>\n",
       "    </tr>\n",
       "  </thead>\n",
       "  <tbody>\n",
       "    <tr>\n",
       "      <th>2006-10-02</th>\n",
       "      <td>0.0000</td>\n",
       "      <td>0.0000</td>\n",
       "      <td>NaN</td>\n",
       "      <td>NaN</td>\n",
       "      <td>NaN</td>\n",
       "    </tr>\n",
       "    <tr>\n",
       "      <th>2006-10-03</th>\n",
       "      <td>0.0000</td>\n",
       "      <td>0.0000</td>\n",
       "      <td>100000.0000</td>\n",
       "      <td>100000.0000</td>\n",
       "      <td>NaN</td>\n",
       "    </tr>\n",
       "    <tr>\n",
       "      <th>2006-10-04</th>\n",
       "      <td>0.0000</td>\n",
       "      <td>0.0000</td>\n",
       "      <td>100000.0000</td>\n",
       "      <td>100000.0000</td>\n",
       "      <td>0.000000</td>\n",
       "    </tr>\n",
       "    <tr>\n",
       "      <th>2006-10-05</th>\n",
       "      <td>0.0000</td>\n",
       "      <td>0.0000</td>\n",
       "      <td>100000.0000</td>\n",
       "      <td>100000.0000</td>\n",
       "      <td>0.000000</td>\n",
       "    </tr>\n",
       "    <tr>\n",
       "      <th>2006-10-06</th>\n",
       "      <td>0.0000</td>\n",
       "      <td>0.0000</td>\n",
       "      <td>100000.0000</td>\n",
       "      <td>100000.0000</td>\n",
       "      <td>0.000000</td>\n",
       "    </tr>\n",
       "    <tr>\n",
       "      <th>2006-10-09</th>\n",
       "      <td>0.0000</td>\n",
       "      <td>0.0000</td>\n",
       "      <td>100000.0000</td>\n",
       "      <td>100000.0000</td>\n",
       "      <td>0.000000</td>\n",
       "    </tr>\n",
       "    <tr>\n",
       "      <th>2006-10-10</th>\n",
       "      <td>0.0000</td>\n",
       "      <td>0.0000</td>\n",
       "      <td>100000.0000</td>\n",
       "      <td>100000.0000</td>\n",
       "      <td>0.000000</td>\n",
       "    </tr>\n",
       "    <tr>\n",
       "      <th>2006-10-11</th>\n",
       "      <td>0.0000</td>\n",
       "      <td>0.0000</td>\n",
       "      <td>100000.0000</td>\n",
       "      <td>100000.0000</td>\n",
       "      <td>0.000000</td>\n",
       "    </tr>\n",
       "    <tr>\n",
       "      <th>2006-10-12</th>\n",
       "      <td>0.0000</td>\n",
       "      <td>0.0000</td>\n",
       "      <td>100000.0000</td>\n",
       "      <td>100000.0000</td>\n",
       "      <td>0.000000</td>\n",
       "    </tr>\n",
       "    <tr>\n",
       "      <th>2006-10-13</th>\n",
       "      <td>0.0000</td>\n",
       "      <td>0.0000</td>\n",
       "      <td>100000.0000</td>\n",
       "      <td>100000.0000</td>\n",
       "      <td>0.000000</td>\n",
       "    </tr>\n",
       "    <tr>\n",
       "      <th>2006-10-16</th>\n",
       "      <td>0.0000</td>\n",
       "      <td>0.0000</td>\n",
       "      <td>100000.0000</td>\n",
       "      <td>100000.0000</td>\n",
       "      <td>0.000000</td>\n",
       "    </tr>\n",
       "    <tr>\n",
       "      <th>2006-10-17</th>\n",
       "      <td>0.0000</td>\n",
       "      <td>0.0000</td>\n",
       "      <td>100000.0000</td>\n",
       "      <td>100000.0000</td>\n",
       "      <td>0.000000</td>\n",
       "    </tr>\n",
       "    <tr>\n",
       "      <th>2006-10-18</th>\n",
       "      <td>0.0000</td>\n",
       "      <td>0.0000</td>\n",
       "      <td>100000.0000</td>\n",
       "      <td>100000.0000</td>\n",
       "      <td>0.000000</td>\n",
       "    </tr>\n",
       "    <tr>\n",
       "      <th>2006-10-19</th>\n",
       "      <td>0.0000</td>\n",
       "      <td>0.0000</td>\n",
       "      <td>100000.0000</td>\n",
       "      <td>100000.0000</td>\n",
       "      <td>0.000000</td>\n",
       "    </tr>\n",
       "    <tr>\n",
       "      <th>2006-10-20</th>\n",
       "      <td>0.0000</td>\n",
       "      <td>0.0000</td>\n",
       "      <td>100000.0000</td>\n",
       "      <td>100000.0000</td>\n",
       "      <td>0.000000</td>\n",
       "    </tr>\n",
       "    <tr>\n",
       "      <th>2006-10-23</th>\n",
       "      <td>0.0000</td>\n",
       "      <td>0.0000</td>\n",
       "      <td>100000.0000</td>\n",
       "      <td>100000.0000</td>\n",
       "      <td>0.000000</td>\n",
       "    </tr>\n",
       "    <tr>\n",
       "      <th>2006-10-24</th>\n",
       "      <td>0.0000</td>\n",
       "      <td>0.0000</td>\n",
       "      <td>100000.0000</td>\n",
       "      <td>100000.0000</td>\n",
       "      <td>0.000000</td>\n",
       "    </tr>\n",
       "    <tr>\n",
       "      <th>2006-10-25</th>\n",
       "      <td>0.0000</td>\n",
       "      <td>0.0000</td>\n",
       "      <td>100000.0000</td>\n",
       "      <td>100000.0000</td>\n",
       "      <td>0.000000</td>\n",
       "    </tr>\n",
       "    <tr>\n",
       "      <th>2006-10-26</th>\n",
       "      <td>0.0000</td>\n",
       "      <td>0.0000</td>\n",
       "      <td>100000.0000</td>\n",
       "      <td>100000.0000</td>\n",
       "      <td>0.000000</td>\n",
       "    </tr>\n",
       "    <tr>\n",
       "      <th>2006-10-27</th>\n",
       "      <td>0.0000</td>\n",
       "      <td>0.0000</td>\n",
       "      <td>100000.0000</td>\n",
       "      <td>100000.0000</td>\n",
       "      <td>0.000000</td>\n",
       "    </tr>\n",
       "    <tr>\n",
       "      <th>2006-10-30</th>\n",
       "      <td>0.0000</td>\n",
       "      <td>0.0000</td>\n",
       "      <td>100000.0000</td>\n",
       "      <td>100000.0000</td>\n",
       "      <td>0.000000</td>\n",
       "    </tr>\n",
       "    <tr>\n",
       "      <th>2006-10-31</th>\n",
       "      <td>0.0000</td>\n",
       "      <td>0.0000</td>\n",
       "      <td>100000.0000</td>\n",
       "      <td>100000.0000</td>\n",
       "      <td>0.000000</td>\n",
       "    </tr>\n",
       "    <tr>\n",
       "      <th>2006-11-01</th>\n",
       "      <td>0.0000</td>\n",
       "      <td>0.0000</td>\n",
       "      <td>100000.0000</td>\n",
       "      <td>100000.0000</td>\n",
       "      <td>0.000000</td>\n",
       "    </tr>\n",
       "    <tr>\n",
       "      <th>2006-11-02</th>\n",
       "      <td>0.0000</td>\n",
       "      <td>0.0000</td>\n",
       "      <td>100000.0000</td>\n",
       "      <td>100000.0000</td>\n",
       "      <td>0.000000</td>\n",
       "    </tr>\n",
       "    <tr>\n",
       "      <th>2006-11-03</th>\n",
       "      <td>0.0000</td>\n",
       "      <td>0.0000</td>\n",
       "      <td>100000.0000</td>\n",
       "      <td>100000.0000</td>\n",
       "      <td>0.000000</td>\n",
       "    </tr>\n",
       "    <tr>\n",
       "      <th>2006-11-06</th>\n",
       "      <td>0.0000</td>\n",
       "      <td>0.0000</td>\n",
       "      <td>100000.0000</td>\n",
       "      <td>100000.0000</td>\n",
       "      <td>0.000000</td>\n",
       "    </tr>\n",
       "    <tr>\n",
       "      <th>2006-11-07</th>\n",
       "      <td>0.0000</td>\n",
       "      <td>0.0000</td>\n",
       "      <td>100000.0000</td>\n",
       "      <td>100000.0000</td>\n",
       "      <td>0.000000</td>\n",
       "    </tr>\n",
       "    <tr>\n",
       "      <th>2006-11-08</th>\n",
       "      <td>0.0000</td>\n",
       "      <td>0.0000</td>\n",
       "      <td>100000.0000</td>\n",
       "      <td>100000.0000</td>\n",
       "      <td>0.000000</td>\n",
       "    </tr>\n",
       "    <tr>\n",
       "      <th>2006-11-09</th>\n",
       "      <td>0.0000</td>\n",
       "      <td>0.0000</td>\n",
       "      <td>100000.0000</td>\n",
       "      <td>100000.0000</td>\n",
       "      <td>0.000000</td>\n",
       "    </tr>\n",
       "    <tr>\n",
       "      <th>2006-11-10</th>\n",
       "      <td>0.0000</td>\n",
       "      <td>0.0000</td>\n",
       "      <td>100000.0000</td>\n",
       "      <td>100000.0000</td>\n",
       "      <td>0.000000</td>\n",
       "    </tr>\n",
       "    <tr>\n",
       "      <th>...</th>\n",
       "      <td>...</td>\n",
       "      <td>...</td>\n",
       "      <td>...</td>\n",
       "      <td>...</td>\n",
       "      <td>...</td>\n",
       "    </tr>\n",
       "    <tr>\n",
       "      <th>2011-11-17</th>\n",
       "      <td>5391.5714</td>\n",
       "      <td>5391.5714</td>\n",
       "      <td>97438.4289</td>\n",
       "      <td>102830.0003</td>\n",
       "      <td>-0.001021</td>\n",
       "    </tr>\n",
       "    <tr>\n",
       "      <th>2011-11-18</th>\n",
       "      <td>5356.2859</td>\n",
       "      <td>5356.2859</td>\n",
       "      <td>97438.4289</td>\n",
       "      <td>102794.7148</td>\n",
       "      <td>-0.000343</td>\n",
       "    </tr>\n",
       "    <tr>\n",
       "      <th>2011-11-21</th>\n",
       "      <td>5271.5714</td>\n",
       "      <td>5271.5714</td>\n",
       "      <td>97438.4289</td>\n",
       "      <td>102710.0003</td>\n",
       "      <td>-0.000824</td>\n",
       "    </tr>\n",
       "    <tr>\n",
       "      <th>2011-11-22</th>\n",
       "      <td>5378.7144</td>\n",
       "      <td>5378.7144</td>\n",
       "      <td>97438.4289</td>\n",
       "      <td>102817.1433</td>\n",
       "      <td>0.001043</td>\n",
       "    </tr>\n",
       "    <tr>\n",
       "      <th>2011-11-23</th>\n",
       "      <td>5242.7143</td>\n",
       "      <td>5242.7143</td>\n",
       "      <td>97438.4289</td>\n",
       "      <td>102681.1432</td>\n",
       "      <td>-0.001323</td>\n",
       "    </tr>\n",
       "    <tr>\n",
       "      <th>2011-11-25</th>\n",
       "      <td>5193.8572</td>\n",
       "      <td>5193.8572</td>\n",
       "      <td>97438.4289</td>\n",
       "      <td>102632.2861</td>\n",
       "      <td>-0.000476</td>\n",
       "    </tr>\n",
       "    <tr>\n",
       "      <th>2011-11-28</th>\n",
       "      <td>5373.1430</td>\n",
       "      <td>5373.1430</td>\n",
       "      <td>97438.4289</td>\n",
       "      <td>102811.5719</td>\n",
       "      <td>0.001747</td>\n",
       "    </tr>\n",
       "    <tr>\n",
       "      <th>2011-11-29</th>\n",
       "      <td>5331.4285</td>\n",
       "      <td>5331.4285</td>\n",
       "      <td>97438.4289</td>\n",
       "      <td>102769.8574</td>\n",
       "      <td>-0.000406</td>\n",
       "    </tr>\n",
       "    <tr>\n",
       "      <th>2011-11-30</th>\n",
       "      <td>5459.9998</td>\n",
       "      <td>5459.9998</td>\n",
       "      <td>97438.4289</td>\n",
       "      <td>102898.4287</td>\n",
       "      <td>0.001251</td>\n",
       "    </tr>\n",
       "    <tr>\n",
       "      <th>2011-12-01</th>\n",
       "      <td>5541.8571</td>\n",
       "      <td>5541.8571</td>\n",
       "      <td>97438.4289</td>\n",
       "      <td>102980.2860</td>\n",
       "      <td>0.000796</td>\n",
       "    </tr>\n",
       "    <tr>\n",
       "      <th>2011-12-02</th>\n",
       "      <td>5567.1429</td>\n",
       "      <td>5567.1429</td>\n",
       "      <td>97438.4289</td>\n",
       "      <td>103005.5718</td>\n",
       "      <td>0.000246</td>\n",
       "    </tr>\n",
       "    <tr>\n",
       "      <th>2011-12-05</th>\n",
       "      <td>5614.4287</td>\n",
       "      <td>5614.4287</td>\n",
       "      <td>97438.4289</td>\n",
       "      <td>103052.8576</td>\n",
       "      <td>0.000459</td>\n",
       "    </tr>\n",
       "    <tr>\n",
       "      <th>2011-12-06</th>\n",
       "      <td>5584.9998</td>\n",
       "      <td>5584.9998</td>\n",
       "      <td>97438.4289</td>\n",
       "      <td>103023.4287</td>\n",
       "      <td>-0.000286</td>\n",
       "    </tr>\n",
       "    <tr>\n",
       "      <th>2011-12-07</th>\n",
       "      <td>5558.4286</td>\n",
       "      <td>5558.4286</td>\n",
       "      <td>97438.4289</td>\n",
       "      <td>102996.8575</td>\n",
       "      <td>-0.000258</td>\n",
       "    </tr>\n",
       "    <tr>\n",
       "      <th>2011-12-08</th>\n",
       "      <td>5580.8571</td>\n",
       "      <td>5580.8571</td>\n",
       "      <td>97438.4289</td>\n",
       "      <td>103019.2860</td>\n",
       "      <td>0.000218</td>\n",
       "    </tr>\n",
       "    <tr>\n",
       "      <th>2011-12-09</th>\n",
       "      <td>5623.1430</td>\n",
       "      <td>5623.1430</td>\n",
       "      <td>97438.4289</td>\n",
       "      <td>103061.5719</td>\n",
       "      <td>0.000410</td>\n",
       "    </tr>\n",
       "    <tr>\n",
       "      <th>2011-12-12</th>\n",
       "      <td>5597.7142</td>\n",
       "      <td>5597.7142</td>\n",
       "      <td>97438.4289</td>\n",
       "      <td>103036.1431</td>\n",
       "      <td>-0.000247</td>\n",
       "    </tr>\n",
       "    <tr>\n",
       "      <th>2011-12-13</th>\n",
       "      <td>5554.4285</td>\n",
       "      <td>5554.4285</td>\n",
       "      <td>97438.4289</td>\n",
       "      <td>102992.8574</td>\n",
       "      <td>-0.000420</td>\n",
       "    </tr>\n",
       "    <tr>\n",
       "      <th>2011-12-14</th>\n",
       "      <td>5431.2859</td>\n",
       "      <td>5431.2859</td>\n",
       "      <td>97438.4289</td>\n",
       "      <td>102869.7148</td>\n",
       "      <td>-0.001196</td>\n",
       "    </tr>\n",
       "    <tr>\n",
       "      <th>2011-12-15</th>\n",
       "      <td>5413.4285</td>\n",
       "      <td>5413.4285</td>\n",
       "      <td>97438.4289</td>\n",
       "      <td>102851.8574</td>\n",
       "      <td>-0.000174</td>\n",
       "    </tr>\n",
       "    <tr>\n",
       "      <th>2011-12-16</th>\n",
       "      <td>5443.1427</td>\n",
       "      <td>5443.1427</td>\n",
       "      <td>97438.4289</td>\n",
       "      <td>102881.5716</td>\n",
       "      <td>0.000289</td>\n",
       "    </tr>\n",
       "    <tr>\n",
       "      <th>2011-12-19</th>\n",
       "      <td>5460.1429</td>\n",
       "      <td>5460.1429</td>\n",
       "      <td>97438.4289</td>\n",
       "      <td>102898.5718</td>\n",
       "      <td>0.000165</td>\n",
       "    </tr>\n",
       "    <tr>\n",
       "      <th>2011-12-20</th>\n",
       "      <td>5656.4285</td>\n",
       "      <td>5656.4285</td>\n",
       "      <td>97438.4289</td>\n",
       "      <td>103094.8574</td>\n",
       "      <td>0.001908</td>\n",
       "    </tr>\n",
       "    <tr>\n",
       "      <th>2011-12-21</th>\n",
       "      <td>5663.5715</td>\n",
       "      <td>5663.5715</td>\n",
       "      <td>97438.4289</td>\n",
       "      <td>103102.0004</td>\n",
       "      <td>0.000069</td>\n",
       "    </tr>\n",
       "    <tr>\n",
       "      <th>2011-12-22</th>\n",
       "      <td>5693.5715</td>\n",
       "      <td>5693.5715</td>\n",
       "      <td>97438.4289</td>\n",
       "      <td>103132.0004</td>\n",
       "      <td>0.000291</td>\n",
       "    </tr>\n",
       "    <tr>\n",
       "      <th>2011-12-23</th>\n",
       "      <td>5761.8572</td>\n",
       "      <td>5761.8572</td>\n",
       "      <td>97438.4289</td>\n",
       "      <td>103200.2861</td>\n",
       "      <td>0.000662</td>\n",
       "    </tr>\n",
       "    <tr>\n",
       "      <th>2011-12-27</th>\n",
       "      <td>0.0000</td>\n",
       "      <td>0.0000</td>\n",
       "      <td>103246.0003</td>\n",
       "      <td>103246.0003</td>\n",
       "      <td>0.000443</td>\n",
       "    </tr>\n",
       "    <tr>\n",
       "      <th>2011-12-28</th>\n",
       "      <td>0.0000</td>\n",
       "      <td>0.0000</td>\n",
       "      <td>103246.0003</td>\n",
       "      <td>103246.0003</td>\n",
       "      <td>0.000000</td>\n",
       "    </tr>\n",
       "    <tr>\n",
       "      <th>2011-12-29</th>\n",
       "      <td>0.0000</td>\n",
       "      <td>0.0000</td>\n",
       "      <td>103246.0003</td>\n",
       "      <td>103246.0003</td>\n",
       "      <td>0.000000</td>\n",
       "    </tr>\n",
       "    <tr>\n",
       "      <th>2011-12-30</th>\n",
       "      <td>0.0000</td>\n",
       "      <td>0.0000</td>\n",
       "      <td>103246.0003</td>\n",
       "      <td>103246.0003</td>\n",
       "      <td>0.000000</td>\n",
       "    </tr>\n",
       "  </tbody>\n",
       "</table>\n",
       "<p>1323 rows × 5 columns</p>\n",
       "</div>"
      ],
      "text/plain": [
       "                 AAPL   holdings         cash        total   returns\n",
       "2006-10-02     0.0000     0.0000          NaN          NaN       NaN\n",
       "2006-10-03     0.0000     0.0000  100000.0000  100000.0000       NaN\n",
       "2006-10-04     0.0000     0.0000  100000.0000  100000.0000  0.000000\n",
       "2006-10-05     0.0000     0.0000  100000.0000  100000.0000  0.000000\n",
       "2006-10-06     0.0000     0.0000  100000.0000  100000.0000  0.000000\n",
       "2006-10-09     0.0000     0.0000  100000.0000  100000.0000  0.000000\n",
       "2006-10-10     0.0000     0.0000  100000.0000  100000.0000  0.000000\n",
       "2006-10-11     0.0000     0.0000  100000.0000  100000.0000  0.000000\n",
       "2006-10-12     0.0000     0.0000  100000.0000  100000.0000  0.000000\n",
       "2006-10-13     0.0000     0.0000  100000.0000  100000.0000  0.000000\n",
       "2006-10-16     0.0000     0.0000  100000.0000  100000.0000  0.000000\n",
       "2006-10-17     0.0000     0.0000  100000.0000  100000.0000  0.000000\n",
       "2006-10-18     0.0000     0.0000  100000.0000  100000.0000  0.000000\n",
       "2006-10-19     0.0000     0.0000  100000.0000  100000.0000  0.000000\n",
       "2006-10-20     0.0000     0.0000  100000.0000  100000.0000  0.000000\n",
       "2006-10-23     0.0000     0.0000  100000.0000  100000.0000  0.000000\n",
       "2006-10-24     0.0000     0.0000  100000.0000  100000.0000  0.000000\n",
       "2006-10-25     0.0000     0.0000  100000.0000  100000.0000  0.000000\n",
       "2006-10-26     0.0000     0.0000  100000.0000  100000.0000  0.000000\n",
       "2006-10-27     0.0000     0.0000  100000.0000  100000.0000  0.000000\n",
       "2006-10-30     0.0000     0.0000  100000.0000  100000.0000  0.000000\n",
       "2006-10-31     0.0000     0.0000  100000.0000  100000.0000  0.000000\n",
       "2006-11-01     0.0000     0.0000  100000.0000  100000.0000  0.000000\n",
       "2006-11-02     0.0000     0.0000  100000.0000  100000.0000  0.000000\n",
       "2006-11-03     0.0000     0.0000  100000.0000  100000.0000  0.000000\n",
       "2006-11-06     0.0000     0.0000  100000.0000  100000.0000  0.000000\n",
       "2006-11-07     0.0000     0.0000  100000.0000  100000.0000  0.000000\n",
       "2006-11-08     0.0000     0.0000  100000.0000  100000.0000  0.000000\n",
       "2006-11-09     0.0000     0.0000  100000.0000  100000.0000  0.000000\n",
       "2006-11-10     0.0000     0.0000  100000.0000  100000.0000  0.000000\n",
       "...               ...        ...          ...          ...       ...\n",
       "2011-11-17  5391.5714  5391.5714   97438.4289  102830.0003 -0.001021\n",
       "2011-11-18  5356.2859  5356.2859   97438.4289  102794.7148 -0.000343\n",
       "2011-11-21  5271.5714  5271.5714   97438.4289  102710.0003 -0.000824\n",
       "2011-11-22  5378.7144  5378.7144   97438.4289  102817.1433  0.001043\n",
       "2011-11-23  5242.7143  5242.7143   97438.4289  102681.1432 -0.001323\n",
       "2011-11-25  5193.8572  5193.8572   97438.4289  102632.2861 -0.000476\n",
       "2011-11-28  5373.1430  5373.1430   97438.4289  102811.5719  0.001747\n",
       "2011-11-29  5331.4285  5331.4285   97438.4289  102769.8574 -0.000406\n",
       "2011-11-30  5459.9998  5459.9998   97438.4289  102898.4287  0.001251\n",
       "2011-12-01  5541.8571  5541.8571   97438.4289  102980.2860  0.000796\n",
       "2011-12-02  5567.1429  5567.1429   97438.4289  103005.5718  0.000246\n",
       "2011-12-05  5614.4287  5614.4287   97438.4289  103052.8576  0.000459\n",
       "2011-12-06  5584.9998  5584.9998   97438.4289  103023.4287 -0.000286\n",
       "2011-12-07  5558.4286  5558.4286   97438.4289  102996.8575 -0.000258\n",
       "2011-12-08  5580.8571  5580.8571   97438.4289  103019.2860  0.000218\n",
       "2011-12-09  5623.1430  5623.1430   97438.4289  103061.5719  0.000410\n",
       "2011-12-12  5597.7142  5597.7142   97438.4289  103036.1431 -0.000247\n",
       "2011-12-13  5554.4285  5554.4285   97438.4289  102992.8574 -0.000420\n",
       "2011-12-14  5431.2859  5431.2859   97438.4289  102869.7148 -0.001196\n",
       "2011-12-15  5413.4285  5413.4285   97438.4289  102851.8574 -0.000174\n",
       "2011-12-16  5443.1427  5443.1427   97438.4289  102881.5716  0.000289\n",
       "2011-12-19  5460.1429  5460.1429   97438.4289  102898.5718  0.000165\n",
       "2011-12-20  5656.4285  5656.4285   97438.4289  103094.8574  0.001908\n",
       "2011-12-21  5663.5715  5663.5715   97438.4289  103102.0004  0.000069\n",
       "2011-12-22  5693.5715  5693.5715   97438.4289  103132.0004  0.000291\n",
       "2011-12-23  5761.8572  5761.8572   97438.4289  103200.2861  0.000662\n",
       "2011-12-27     0.0000     0.0000  103246.0003  103246.0003  0.000443\n",
       "2011-12-28     0.0000     0.0000  103246.0003  103246.0003  0.000000\n",
       "2011-12-29     0.0000     0.0000  103246.0003  103246.0003  0.000000\n",
       "2011-12-30     0.0000     0.0000  103246.0003  103246.0003  0.000000\n",
       "\n",
       "[1323 rows x 5 columns]"
      ]
     },
     "execution_count": 190,
     "metadata": {},
     "output_type": "execute_result"
    }
   ],
   "source": [
    "initial_capital = float(100000.0)\n",
    "positions = pd.DataFrame(index=signals.index).fillna(0.0)\n",
    "positions[\"AAPL\"] = 100*signals['signal']\n",
    "\n",
    "portfolio = positions.multiply(aapl['Adj Close'], axis=0)\n",
    "\n",
    "diff_positions = positions.diff()\n",
    "\n",
    "portfolio['holdings'] = (positions.multiply(aapl['Adj Close'], axis=0)).sum(axis=1)\n",
    "portfolio['cash'] = initial_capital - (diff_positions.multiply(aapl['Adj Close'], axis=0)).sum(axis=1).cumsum()\n",
    "portfolio['total'] = portfolio['cash'] + portfolio['holdings']\n",
    "portfolio['returns'] = portfolio['total'].pct_change()\n",
    "\n",
    "portfolio"
   ]
  },
  {
   "cell_type": "code",
   "execution_count": 194,
   "metadata": {
    "collapsed": false
   },
   "outputs": [
    {
     "data": {
      "image/png": "[encoded data removed]",
      "text/plain": [
       "<matplotlib.figure.Figure at 0x10b4eaed0>"
      ]
     },
     "metadata": {},
     "output_type": "display_data"
    }
   ],
   "source": [
    "fig = plt.figure()\n",
    "ax1 = fig.add_subplot(111, ylabel=\"Portfolio value in $\")\n",
    "\n",
    "portfolio['total'].plot(ax=ax1, lw=2.)\n",
    "\n",
    "ax1.plot(portfolio.loc[signals.positions == 1.0].index, portfolio.total[signals.positions == 1.0], '^', markersize=10, color='green')\n",
    "ax1.plot(portfolio.loc[signals.positions == -1.0].index, portfolio.total[signals.positions == -1.0], 'v', markersize=10, color='k')\n",
    "\n",
    "plt.show()"
   ]
  },
  {
   "cell_type": "markdown",
   "metadata": {},
   "source": [
    "### Evaluating the Moving Average Crossover Strategy\n",
    "\n",
    "**Sharpe Ratio**  \n",
    "Ideal situation is the returns are considerable but the additional risk of investing is as small as possible.  \n",
    "The greater the Sharpe ratio the better as it is the ratio of the returns over the additional risk. A ratio greater than 1 is acceptable, 2 is very good, and 3 is excellent.\n"
   ]
  },
  {
   "cell_type": "code",
   "execution_count": 196,
   "metadata": {
    "collapsed": false
   },
   "outputs": [
    {
     "name": "stdout",
     "output_type": "stream",
     "text": [
      "0.727152390856\n"
     ]
    }
   ],
   "source": [
    "returns = portfolio['returns']\n",
    "\n",
    "#annualized Sharpe ratio. Sort of, the risk free rate is excluded and the ratio is usually compared to other stocks.\n",
    "sharpe_ratio = np.sqrt(252)*(returns.mean()/returns.std()) #252 is the yearly trading day window\n",
    "\n",
    "print sharpe_ratio"
   ]
  },
  {
   "cell_type": "markdown",
   "metadata": {},
   "source": [
    "**Maximum Drawdown**  \n",
    "Measures the largest single drop from peak to bottom before a new peak is achieved. The score indicates the risk of a portfolio."
   ]
  },
  {
   "cell_type": "code",
   "execution_count": 203,
   "metadata": {
    "collapsed": false
   },
   "outputs": [
    {
     "data": {
      "image/png": "[encoded data removed]",
      "text/plain": [
       "<matplotlib.figure.Figure at 0x10a4103d0>"
      ]
     },
     "metadata": {},
     "output_type": "display_data"
    }
   ],
   "source": [
    "window = 252\n",
    "\n",
    "rolling_max = aapl['Adj Close'].rolling(window, min_periods=1).max()\n",
    "daily_drawdown = aapl['Adj Close']/rolling_max - 1.0\n",
    "\n",
    "max_daily_drawdown = daily_drawdown.rolling(window, min_periods=1).min()\n",
    "\n",
    "daily_drawdown.plot(color='k')\n",
    "max_daily_drawdown.plot()\n",
    "\n",
    "plt.show()"
   ]
  },
  {
   "cell_type": "markdown",
   "metadata": {},
   "source": [
    "**Compound Annual Growth Rate**  \n",
    "Provides a constant rate of return over the time period. Basically gives you what you really have at teh end of your investment period.\n",
    "\n",
    "Formula: (Ending Value/Beginning Value)^(1/n) - 1  \n",
    "n = number of time periods  \n",
    "1 is one year"
   ]
  },
  {
   "cell_type": "code",
   "execution_count": 205,
   "metadata": {
    "collapsed": false
   },
   "outputs": [
    {
     "data": {
      "text/plain": [
       "0.38234456205981959"
      ]
     },
     "execution_count": 205,
     "metadata": {},
     "output_type": "execute_result"
    }
   ],
   "source": [
    "days = (aapl.index[-1] - aapl.index[0]).days\n",
    "\n",
    "cagr = ((((aapl['Adj Close'][-1])/aapl['Adj Close'][1]))**(365.0/days)) - 1\n",
    "cagr"
   ]
  },
  {
   "cell_type": "code",
   "execution_count": null,
   "metadata": {
    "collapsed": true
   },
   "outputs": [],
   "source": []
  }
 ],
 "metadata": {
  "kernelspec": {
   "display_name": "Python 2",
   "language": "python",
   "name": "python2"
  },
  "language_info": {
   "codemirror_mode": {
    "name": "ipython",
    "version": 2
   },
   "file_extension": ".py",
   "mimetype": "text/x-python",
   "name": "python",
   "nbconvert_exporter": "python",
   "pygments_lexer": "ipython2",
   "version": "2.7.11"
  }
 },
 "nbformat": 4,
 "nbformat_minor": 0
}
